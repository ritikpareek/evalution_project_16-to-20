{
 "cells": [
  {
   "cell_type": "markdown",
   "metadata": {},
   "source": [
    "# Covid19 Dataset"
   ]
  },
  {
   "cell_type": "code",
   "execution_count": 1,
   "metadata": {},
   "outputs": [],
   "source": [
    "import numpy as np\n",
    "import pandas as pd\n",
    "import matplotlib.pyplot as plt\n",
    "%matplotlib inline \n",
    "import seaborn as sns\n",
    "import warnings\n",
    "warnings.filterwarnings('ignore')"
   ]
  },
  {
   "cell_type": "code",
   "execution_count": 142,
   "metadata": {},
   "outputs": [],
   "source": [
    "ds=pd.read_csv('covid.csv')"
   ]
  },
  {
   "cell_type": "code",
   "execution_count": 143,
   "metadata": {},
   "outputs": [],
   "source": [
    "ds1=pd.read_csv('co_age.csv')"
   ]
  },
  {
   "cell_type": "code",
   "execution_count": 144,
   "metadata": {},
   "outputs": [],
   "source": [
    "df=pd.DataFrame(ds)"
   ]
  },
  {
   "cell_type": "code",
   "execution_count": 145,
   "metadata": {},
   "outputs": [
    {
     "data": {
      "text/html": [
       "<div>\n",
       "<style scoped>\n",
       "    .dataframe tbody tr th:only-of-type {\n",
       "        vertical-align: middle;\n",
       "    }\n",
       "\n",
       "    .dataframe tbody tr th {\n",
       "        vertical-align: top;\n",
       "    }\n",
       "\n",
       "    .dataframe thead th {\n",
       "        text-align: right;\n",
       "    }\n",
       "</style>\n",
       "<table border=\"1\" class=\"dataframe\">\n",
       "  <thead>\n",
       "    <tr style=\"text-align: right;\">\n",
       "      <th></th>\n",
       "      <th>Date</th>\n",
       "      <th>Country</th>\n",
       "      <th>Population</th>\n",
       "      <th>Total Tests</th>\n",
       "      <th>Total Cases</th>\n",
       "      <th>Total Deaths</th>\n",
       "      <th>Total Recovered</th>\n",
       "      <th>Serious or Critical</th>\n",
       "      <th>Active Cases</th>\n",
       "    </tr>\n",
       "  </thead>\n",
       "  <tbody>\n",
       "    <tr>\n",
       "      <th>0</th>\n",
       "      <td>2020-04-18</td>\n",
       "      <td>USA</td>\n",
       "      <td>330774664</td>\n",
       "      <td>3722145.0</td>\n",
       "      <td>738792.0</td>\n",
       "      <td>39014.0</td>\n",
       "      <td>68269.0</td>\n",
       "      <td>13551.0</td>\n",
       "      <td>631509.0</td>\n",
       "    </tr>\n",
       "    <tr>\n",
       "      <th>1</th>\n",
       "      <td>2020-04-18</td>\n",
       "      <td>Russia</td>\n",
       "      <td>145927292</td>\n",
       "      <td>1831892.0</td>\n",
       "      <td>36793.0</td>\n",
       "      <td>313.0</td>\n",
       "      <td>3057.0</td>\n",
       "      <td>8.0</td>\n",
       "      <td>33423.0</td>\n",
       "    </tr>\n",
       "    <tr>\n",
       "      <th>2</th>\n",
       "      <td>2020-04-18</td>\n",
       "      <td>Spain</td>\n",
       "      <td>46752703</td>\n",
       "      <td>930230.0</td>\n",
       "      <td>194416.0</td>\n",
       "      <td>20043.0</td>\n",
       "      <td>74797.0</td>\n",
       "      <td>7371.0</td>\n",
       "      <td>99576.0</td>\n",
       "    </tr>\n",
       "    <tr>\n",
       "      <th>3</th>\n",
       "      <td>2020-04-18</td>\n",
       "      <td>Brazil</td>\n",
       "      <td>212380932</td>\n",
       "      <td>62985.0</td>\n",
       "      <td>36722.0</td>\n",
       "      <td>2361.0</td>\n",
       "      <td>14026.0</td>\n",
       "      <td>6634.0</td>\n",
       "      <td>20335.0</td>\n",
       "    </tr>\n",
       "    <tr>\n",
       "      <th>4</th>\n",
       "      <td>2020-04-18</td>\n",
       "      <td>UK</td>\n",
       "      <td>67844241</td>\n",
       "      <td>460437.0</td>\n",
       "      <td>114217.0</td>\n",
       "      <td>15464.0</td>\n",
       "      <td>NaN</td>\n",
       "      <td>1559.0</td>\n",
       "      <td>98409.0</td>\n",
       "    </tr>\n",
       "  </tbody>\n",
       "</table>\n",
       "</div>"
      ],
      "text/plain": [
       "         Date Country  Population  Total Tests  Total Cases  Total Deaths  \\\n",
       "0  2020-04-18     USA   330774664    3722145.0     738792.0       39014.0   \n",
       "1  2020-04-18  Russia   145927292    1831892.0      36793.0         313.0   \n",
       "2  2020-04-18   Spain    46752703     930230.0     194416.0       20043.0   \n",
       "3  2020-04-18  Brazil   212380932      62985.0      36722.0        2361.0   \n",
       "4  2020-04-18      UK    67844241     460437.0     114217.0       15464.0   \n",
       "\n",
       "   Total Recovered  Serious or Critical  Active Cases  \n",
       "0          68269.0              13551.0      631509.0  \n",
       "1           3057.0                  8.0       33423.0  \n",
       "2          74797.0               7371.0       99576.0  \n",
       "3          14026.0               6634.0       20335.0  \n",
       "4              NaN               1559.0       98409.0  "
      ]
     },
     "execution_count": 145,
     "metadata": {},
     "output_type": "execute_result"
    }
   ],
   "source": [
    "df.head()"
   ]
  },
  {
   "cell_type": "code",
   "execution_count": 146,
   "metadata": {},
   "outputs": [],
   "source": [
    "df1=pd.DataFrame(ds1)"
   ]
  },
  {
   "cell_type": "code",
   "execution_count": 147,
   "metadata": {},
   "outputs": [
    {
     "data": {
      "text/html": [
       "<div>\n",
       "<style scoped>\n",
       "    .dataframe tbody tr th:only-of-type {\n",
       "        vertical-align: middle;\n",
       "    }\n",
       "\n",
       "    .dataframe tbody tr th {\n",
       "        vertical-align: top;\n",
       "    }\n",
       "\n",
       "    .dataframe thead th {\n",
       "        text-align: right;\n",
       "    }\n",
       "</style>\n",
       "<table border=\"1\" class=\"dataframe\">\n",
       "  <thead>\n",
       "    <tr style=\"text-align: right;\">\n",
       "      <th></th>\n",
       "      <th>Country</th>\n",
       "      <th>Fraction age 0-14 years</th>\n",
       "      <th>Fraction age 15-64 years</th>\n",
       "      <th>Fraction age 65+ years</th>\n",
       "    </tr>\n",
       "  </thead>\n",
       "  <tbody>\n",
       "    <tr>\n",
       "      <th>0</th>\n",
       "      <td>USA</td>\n",
       "      <td>0.189</td>\n",
       "      <td>0.657</td>\n",
       "      <td>0.154</td>\n",
       "    </tr>\n",
       "    <tr>\n",
       "      <th>1</th>\n",
       "      <td>Russia</td>\n",
       "      <td>0.176</td>\n",
       "      <td>0.682</td>\n",
       "      <td>0.142</td>\n",
       "    </tr>\n",
       "    <tr>\n",
       "      <th>2</th>\n",
       "      <td>Spain</td>\n",
       "      <td>0.147</td>\n",
       "      <td>0.659</td>\n",
       "      <td>0.194</td>\n",
       "    </tr>\n",
       "    <tr>\n",
       "      <th>3</th>\n",
       "      <td>Brazil</td>\n",
       "      <td>0.217</td>\n",
       "      <td>0.697</td>\n",
       "      <td>0.086</td>\n",
       "    </tr>\n",
       "    <tr>\n",
       "      <th>4</th>\n",
       "      <td>UK</td>\n",
       "      <td>0.177</td>\n",
       "      <td>0.638</td>\n",
       "      <td>0.185</td>\n",
       "    </tr>\n",
       "  </tbody>\n",
       "</table>\n",
       "</div>"
      ],
      "text/plain": [
       "  Country  Fraction age 0-14 years  Fraction age 15-64 years  \\\n",
       "0     USA                    0.189                     0.657   \n",
       "1  Russia                    0.176                     0.682   \n",
       "2   Spain                    0.147                     0.659   \n",
       "3  Brazil                    0.217                     0.697   \n",
       "4      UK                    0.177                     0.638   \n",
       "\n",
       "   Fraction age 65+ years  \n",
       "0                   0.154  \n",
       "1                   0.142  \n",
       "2                   0.194  \n",
       "3                   0.086  \n",
       "4                   0.185  "
      ]
     },
     "execution_count": 147,
     "metadata": {},
     "output_type": "execute_result"
    }
   ],
   "source": [
    "df1.head()"
   ]
  },
  {
   "cell_type": "code",
   "execution_count": 148,
   "metadata": {},
   "outputs": [
    {
     "data": {
      "text/plain": [
       "(6603, 9)"
      ]
     },
     "execution_count": 148,
     "metadata": {},
     "output_type": "execute_result"
    }
   ],
   "source": [
    "df.shape"
   ]
  },
  {
   "cell_type": "code",
   "execution_count": 149,
   "metadata": {},
   "outputs": [
    {
     "data": {
      "text/plain": [
       "(213, 4)"
      ]
     },
     "execution_count": 149,
     "metadata": {},
     "output_type": "execute_result"
    }
   ],
   "source": [
    " df1.shape"
   ]
  },
  {
   "cell_type": "code",
   "execution_count": 150,
   "metadata": {},
   "outputs": [
    {
     "data": {
      "text/plain": [
       "array(['USA', 'Russia', 'Spain', 'Brazil', 'UK', 'Italy', 'France',\n",
       "       'Germany', 'Turkey', 'Iran', 'India', 'Peru', 'China', 'Canada',\n",
       "       'Saudi Arabia', 'Belgium', 'Mexico', 'Chile', 'Netherlands',\n",
       "       'Pakistan', 'Qatar', 'Ecuador', 'Switzerland', 'Belarus', 'Sweden',\n",
       "       'Portugal', 'Singapore', 'Ireland', 'UAE', 'Bangladesh', 'Poland',\n",
       "       'Ukraine', 'Indonesia', 'Romania', 'Israel', 'South Africa',\n",
       "       'Japan', 'Colombia', 'Austria', 'Kuwait', 'Egypt',\n",
       "       'Dominican Republic', 'Philippines', 'S. Korea', 'Denmark',\n",
       "       'Serbia', 'Panama', 'Czechia', 'Argentina', 'Norway', 'Algeria',\n",
       "       'Bahrain', 'Afghanistan', 'Australia', 'Morocco', 'Malaysia',\n",
       "       'Kazakhstan', 'Finland', 'Nigeria', 'Moldova', 'Ghana', 'Oman',\n",
       "       'Armenia', 'Bolivia', 'Luxembourg', 'Iraq', 'Hungary', 'Cameroon',\n",
       "       'Azerbaijan', 'Thailand', 'Greece', 'Guinea', 'Uzbekistan',\n",
       "       'Honduras', 'Sudan', 'Senegal', 'Bosnia and Herzegovina',\n",
       "       'Bulgaria', 'Croatia', 'Ivory Coast', 'Guatemala', 'Cuba',\n",
       "       'North Macedonia', 'Iceland', 'Estonia', 'Tajikistan', 'Lithuania',\n",
       "       'DRC', 'Djibouti', 'New Zealand', 'Slovakia', 'Slovenia',\n",
       "       'Somalia', 'Gabon', 'El Salvador', 'Mayotte', 'Kyrgyzstan',\n",
       "       'Maldives', 'Hong Kong', 'Tunisia', 'Guinea-Bissau', 'Latvia',\n",
       "       'Sri Lanka', 'Albania', 'Lebanon', 'Cyprus', 'Kenya', 'Niger',\n",
       "       'Mali', 'Costa Rica', 'Burkina Faso', 'Paraguay', 'Andorra',\n",
       "       'Zambia', 'Uruguay', 'Equatorial Guinea', 'Georgia', 'San Marino',\n",
       "       'Jordan', 'Venezuela', 'Malta', 'Channel Islands', 'Haiti',\n",
       "       'Jamaica', 'Chad', 'Sierra Leone', 'Tanzania', 'Réunion', 'Taiwan',\n",
       "       'Congo', 'Palestine', 'Nepal', 'Ethiopia', 'Benin', 'Isle of Man',\n",
       "       'Mauritius', 'Togo', 'Cabo Verde', 'CAR', 'Montenegro', 'Vietnam',\n",
       "       'Madagascar', 'Rwanda', 'South Sudan', 'Uganda',\n",
       "       'Sao Tome and Principe', 'Liberia', 'French Guiana', 'Eswatini',\n",
       "       'Martinique', 'Myanmar', 'Faeroe Islands', 'Guadeloupe',\n",
       "       'Gibraltar', 'Mozambique', 'Brunei', 'Mongolia', 'Yemen',\n",
       "       'Bermuda', 'Guyana', 'Cambodia', 'Trinidad and Tobago', 'Aruba',\n",
       "       'Monaco', 'Bahamas', 'Cayman Islands', 'Barbados', 'Liechtenstein',\n",
       "       'Mauritania', 'Sint Maarten', 'Malawi', 'Libya',\n",
       "       'French Polynesia', 'Syria', 'Angola', 'Zimbabwe', 'Macao',\n",
       "       'Burundi', 'Saint Martin', 'Eritrea', 'Nicaragua',\n",
       "       'Antigua and Barbuda', 'Botswana', 'Gambia', 'Timor-Leste',\n",
       "       'Grenada', 'Bhutan', 'Laos', 'Belize', 'Fiji', 'New Caledonia',\n",
       "       'Saint Lucia', 'St. Vincent Grenadines', 'Curaçao', 'Dominica',\n",
       "       'Namibia', 'Saint Kitts and Nevis', 'Falkland Islands',\n",
       "       'Turks and Caicos', 'Vatican City', 'Comoros', 'Montserrat',\n",
       "       'Suriname', 'Greenland', 'Seychelles', 'British Virgin Islands',\n",
       "       'Papua New Guinea', 'Caribbean Netherlands', 'St. Barth',\n",
       "       'Western Sahara', 'Anguilla', 'Lesotho', 'Saint Pierre Miquelon'],\n",
       "      dtype=object)"
      ]
     },
     "execution_count": 150,
     "metadata": {},
     "output_type": "execute_result"
    }
   ],
   "source": [
    "df1.Country.unique()"
   ]
  },
  {
   "cell_type": "code",
   "execution_count": 151,
   "metadata": {},
   "outputs": [
    {
     "data": {
      "text/html": [
       "<div>\n",
       "<style scoped>\n",
       "    .dataframe tbody tr th:only-of-type {\n",
       "        vertical-align: middle;\n",
       "    }\n",
       "\n",
       "    .dataframe tbody tr th {\n",
       "        vertical-align: top;\n",
       "    }\n",
       "\n",
       "    .dataframe thead th {\n",
       "        text-align: right;\n",
       "    }\n",
       "</style>\n",
       "<table border=\"1\" class=\"dataframe\">\n",
       "  <thead>\n",
       "    <tr style=\"text-align: right;\">\n",
       "      <th></th>\n",
       "      <th>Date</th>\n",
       "      <th>Country</th>\n",
       "      <th>Population</th>\n",
       "      <th>Total Tests</th>\n",
       "      <th>Total Cases</th>\n",
       "      <th>Total Deaths</th>\n",
       "      <th>Total Recovered</th>\n",
       "      <th>Serious or Critical</th>\n",
       "      <th>Active Cases</th>\n",
       "    </tr>\n",
       "  </thead>\n",
       "  <tbody>\n",
       "    <tr>\n",
       "      <th>0</th>\n",
       "      <td>2020-04-18</td>\n",
       "      <td>USA</td>\n",
       "      <td>330774664</td>\n",
       "      <td>3722145.0</td>\n",
       "      <td>738792.0</td>\n",
       "      <td>39014.0</td>\n",
       "      <td>68269.0</td>\n",
       "      <td>13551.0</td>\n",
       "      <td>631509.0</td>\n",
       "    </tr>\n",
       "    <tr>\n",
       "      <th>213</th>\n",
       "      <td>2020-04-19</td>\n",
       "      <td>USA</td>\n",
       "      <td>330774664</td>\n",
       "      <td>3861549.0</td>\n",
       "      <td>763832.0</td>\n",
       "      <td>40553.0</td>\n",
       "      <td>71003.0</td>\n",
       "      <td>13566.0</td>\n",
       "      <td>652276.0</td>\n",
       "    </tr>\n",
       "    <tr>\n",
       "      <th>426</th>\n",
       "      <td>2020-04-20</td>\n",
       "      <td>USA</td>\n",
       "      <td>330774664</td>\n",
       "      <td>4026360.0</td>\n",
       "      <td>792759.0</td>\n",
       "      <td>42514.0</td>\n",
       "      <td>72389.0</td>\n",
       "      <td>13951.0</td>\n",
       "      <td>677856.0</td>\n",
       "    </tr>\n",
       "    <tr>\n",
       "      <th>639</th>\n",
       "      <td>2020-04-21</td>\n",
       "      <td>USA</td>\n",
       "      <td>330774664</td>\n",
       "      <td>4187392.0</td>\n",
       "      <td>818744.0</td>\n",
       "      <td>45318.0</td>\n",
       "      <td>82923.0</td>\n",
       "      <td>14016.0</td>\n",
       "      <td>690503.0</td>\n",
       "    </tr>\n",
       "    <tr>\n",
       "      <th>852</th>\n",
       "      <td>2020-04-22</td>\n",
       "      <td>USA</td>\n",
       "      <td>330774664</td>\n",
       "      <td>4325342.0</td>\n",
       "      <td>848717.0</td>\n",
       "      <td>47659.0</td>\n",
       "      <td>84050.0</td>\n",
       "      <td>14016.0</td>\n",
       "      <td>717008.0</td>\n",
       "    </tr>\n",
       "    <tr>\n",
       "      <th>1065</th>\n",
       "      <td>2020-04-23</td>\n",
       "      <td>USA</td>\n",
       "      <td>330774664</td>\n",
       "      <td>4696704.0</td>\n",
       "      <td>880204.0</td>\n",
       "      <td>49845.0</td>\n",
       "      <td>85922.0</td>\n",
       "      <td>14997.0</td>\n",
       "      <td>744437.0</td>\n",
       "    </tr>\n",
       "    <tr>\n",
       "      <th>1278</th>\n",
       "      <td>2020-04-24</td>\n",
       "      <td>USA</td>\n",
       "      <td>330774664</td>\n",
       "      <td>5015602.0</td>\n",
       "      <td>925038.0</td>\n",
       "      <td>52185.0</td>\n",
       "      <td>110432.0</td>\n",
       "      <td>15097.0</td>\n",
       "      <td>762421.0</td>\n",
       "    </tr>\n",
       "    <tr>\n",
       "      <th>1491</th>\n",
       "      <td>2020-04-25</td>\n",
       "      <td>USA</td>\n",
       "      <td>330774664</td>\n",
       "      <td>5279237.0</td>\n",
       "      <td>960651.0</td>\n",
       "      <td>54256.0</td>\n",
       "      <td>118162.0</td>\n",
       "      <td>15110.0</td>\n",
       "      <td>788233.0</td>\n",
       "    </tr>\n",
       "    <tr>\n",
       "      <th>1704</th>\n",
       "      <td>2020-04-26</td>\n",
       "      <td>USA</td>\n",
       "      <td>330774664</td>\n",
       "      <td>5470464.0</td>\n",
       "      <td>987160.0</td>\n",
       "      <td>55413.0</td>\n",
       "      <td>118781.0</td>\n",
       "      <td>15143.0</td>\n",
       "      <td>812966.0</td>\n",
       "    </tr>\n",
       "    <tr>\n",
       "      <th>1917</th>\n",
       "      <td>2020-04-27</td>\n",
       "      <td>USA</td>\n",
       "      <td>330774664</td>\n",
       "      <td>5696928.0</td>\n",
       "      <td>1010356.0</td>\n",
       "      <td>56797.0</td>\n",
       "      <td>138990.0</td>\n",
       "      <td>14186.0</td>\n",
       "      <td>814569.0</td>\n",
       "    </tr>\n",
       "    <tr>\n",
       "      <th>2130</th>\n",
       "      <td>2020-04-28</td>\n",
       "      <td>USA</td>\n",
       "      <td>330774664</td>\n",
       "      <td>5919847.0</td>\n",
       "      <td>1035765.0</td>\n",
       "      <td>59266.0</td>\n",
       "      <td>142238.0</td>\n",
       "      <td>15298.0</td>\n",
       "      <td>834261.0</td>\n",
       "    </tr>\n",
       "    <tr>\n",
       "      <th>2343</th>\n",
       "      <td>2020-04-29</td>\n",
       "      <td>USA</td>\n",
       "      <td>330774664</td>\n",
       "      <td>6139911.0</td>\n",
       "      <td>1064194.0</td>\n",
       "      <td>61656.0</td>\n",
       "      <td>147411.0</td>\n",
       "      <td>18671.0</td>\n",
       "      <td>855127.0</td>\n",
       "    </tr>\n",
       "    <tr>\n",
       "      <th>2556</th>\n",
       "      <td>2020-04-30</td>\n",
       "      <td>USA</td>\n",
       "      <td>330774664</td>\n",
       "      <td>6391887.0</td>\n",
       "      <td>1095023.0</td>\n",
       "      <td>63856.0</td>\n",
       "      <td>152324.0</td>\n",
       "      <td>15226.0</td>\n",
       "      <td>878843.0</td>\n",
       "    </tr>\n",
       "    <tr>\n",
       "      <th>2769</th>\n",
       "      <td>2020-05-01</td>\n",
       "      <td>USA</td>\n",
       "      <td>330774664</td>\n",
       "      <td>6699878.0</td>\n",
       "      <td>1131030.0</td>\n",
       "      <td>65753.0</td>\n",
       "      <td>161563.0</td>\n",
       "      <td>16481.0</td>\n",
       "      <td>903714.0</td>\n",
       "    </tr>\n",
       "    <tr>\n",
       "      <th>2982</th>\n",
       "      <td>2020-05-02</td>\n",
       "      <td>USA</td>\n",
       "      <td>330774664</td>\n",
       "      <td>7196740.0</td>\n",
       "      <td>1160774.0</td>\n",
       "      <td>67444.0</td>\n",
       "      <td>178263.0</td>\n",
       "      <td>16139.0</td>\n",
       "      <td>941261.0</td>\n",
       "    </tr>\n",
       "    <tr>\n",
       "      <th>3195</th>\n",
       "      <td>2020-05-03</td>\n",
       "      <td>USA</td>\n",
       "      <td>330774664</td>\n",
       "      <td>7196740.0</td>\n",
       "      <td>1188122.0</td>\n",
       "      <td>68598.0</td>\n",
       "      <td>178263.0</td>\n",
       "      <td>16139.0</td>\n",
       "      <td>941261.0</td>\n",
       "    </tr>\n",
       "    <tr>\n",
       "      <th>3408</th>\n",
       "      <td>2020-05-04</td>\n",
       "      <td>USA</td>\n",
       "      <td>330774664</td>\n",
       "      <td>7462431.0</td>\n",
       "      <td>1212835.0</td>\n",
       "      <td>69921.0</td>\n",
       "      <td>188027.0</td>\n",
       "      <td>16050.0</td>\n",
       "      <td>954887.0</td>\n",
       "    </tr>\n",
       "    <tr>\n",
       "      <th>3621</th>\n",
       "      <td>2020-05-05</td>\n",
       "      <td>USA</td>\n",
       "      <td>330774664</td>\n",
       "      <td>7727811.0</td>\n",
       "      <td>1237633.0</td>\n",
       "      <td>72271.0</td>\n",
       "      <td>200626.0</td>\n",
       "      <td>16179.0</td>\n",
       "      <td>964736.0</td>\n",
       "    </tr>\n",
       "    <tr>\n",
       "      <th>3834</th>\n",
       "      <td>2020-05-06</td>\n",
       "      <td>USA</td>\n",
       "      <td>330774664</td>\n",
       "      <td>8005435.0</td>\n",
       "      <td>1263092.0</td>\n",
       "      <td>74799.0</td>\n",
       "      <td>212981.0</td>\n",
       "      <td>15827.0</td>\n",
       "      <td>975312.0</td>\n",
       "    </tr>\n",
       "    <tr>\n",
       "      <th>4047</th>\n",
       "      <td>2020-05-07</td>\n",
       "      <td>USA</td>\n",
       "      <td>330774664</td>\n",
       "      <td>8297562.0</td>\n",
       "      <td>1292623.0</td>\n",
       "      <td>76928.0</td>\n",
       "      <td>217250.0</td>\n",
       "      <td>16995.0</td>\n",
       "      <td>998445.0</td>\n",
       "    </tr>\n",
       "    <tr>\n",
       "      <th>4260</th>\n",
       "      <td>2020-05-08</td>\n",
       "      <td>USA</td>\n",
       "      <td>330774664</td>\n",
       "      <td>8636435.0</td>\n",
       "      <td>1321785.0</td>\n",
       "      <td>78615.0</td>\n",
       "      <td>223603.0</td>\n",
       "      <td>16978.0</td>\n",
       "      <td>1019567.0</td>\n",
       "    </tr>\n",
       "    <tr>\n",
       "      <th>4473</th>\n",
       "      <td>2020-05-09</td>\n",
       "      <td>USA</td>\n",
       "      <td>330774664</td>\n",
       "      <td>8918263.0</td>\n",
       "      <td>1347309.0</td>\n",
       "      <td>80037.0</td>\n",
       "      <td>238078.0</td>\n",
       "      <td>16816.0</td>\n",
       "      <td>1029194.0</td>\n",
       "    </tr>\n",
       "    <tr>\n",
       "      <th>4686</th>\n",
       "      <td>2020-05-10</td>\n",
       "      <td>USA</td>\n",
       "      <td>330774664</td>\n",
       "      <td>9444525.0</td>\n",
       "      <td>1367638.0</td>\n",
       "      <td>80787.0</td>\n",
       "      <td>256336.0</td>\n",
       "      <td>16514.0</td>\n",
       "      <td>1030515.0</td>\n",
       "    </tr>\n",
       "    <tr>\n",
       "      <th>4899</th>\n",
       "      <td>2020-05-11</td>\n",
       "      <td>USA</td>\n",
       "      <td>330774664</td>\n",
       "      <td>9619855.0</td>\n",
       "      <td>1385834.0</td>\n",
       "      <td>81795.0</td>\n",
       "      <td>262225.0</td>\n",
       "      <td>16484.0</td>\n",
       "      <td>1041814.0</td>\n",
       "    </tr>\n",
       "    <tr>\n",
       "      <th>5112</th>\n",
       "      <td>2020-05-12</td>\n",
       "      <td>USA</td>\n",
       "      <td>330774664</td>\n",
       "      <td>9935720.0</td>\n",
       "      <td>1408636.0</td>\n",
       "      <td>83425.0</td>\n",
       "      <td>296746.0</td>\n",
       "      <td>16473.0</td>\n",
       "      <td>1028465.0</td>\n",
       "    </tr>\n",
       "    <tr>\n",
       "      <th>5325</th>\n",
       "      <td>2020-05-13</td>\n",
       "      <td>USA</td>\n",
       "      <td>330774664</td>\n",
       "      <td>10269996.0</td>\n",
       "      <td>1430348.0</td>\n",
       "      <td>85197.0</td>\n",
       "      <td>310259.0</td>\n",
       "      <td>16349.0</td>\n",
       "      <td>1034892.0</td>\n",
       "    </tr>\n",
       "    <tr>\n",
       "      <th>5538</th>\n",
       "      <td>2020-05-14</td>\n",
       "      <td>USA</td>\n",
       "      <td>330774664</td>\n",
       "      <td>10638893.0</td>\n",
       "      <td>1457593.0</td>\n",
       "      <td>86912.0</td>\n",
       "      <td>318027.0</td>\n",
       "      <td>16240.0</td>\n",
       "      <td>1052654.0</td>\n",
       "    </tr>\n",
       "    <tr>\n",
       "      <th>5751</th>\n",
       "      <td>2020-05-15</td>\n",
       "      <td>USA</td>\n",
       "      <td>330774664</td>\n",
       "      <td>11090900.0</td>\n",
       "      <td>1484285.0</td>\n",
       "      <td>88507.0</td>\n",
       "      <td>327751.0</td>\n",
       "      <td>16139.0</td>\n",
       "      <td>1068027.0</td>\n",
       "    </tr>\n",
       "    <tr>\n",
       "      <th>5964</th>\n",
       "      <td>2020-05-16</td>\n",
       "      <td>USA</td>\n",
       "      <td>330774664</td>\n",
       "      <td>11949625.0</td>\n",
       "      <td>1507773.0</td>\n",
       "      <td>90113.0</td>\n",
       "      <td>339232.0</td>\n",
       "      <td>16248.0</td>\n",
       "      <td>1078428.0</td>\n",
       "    </tr>\n",
       "    <tr>\n",
       "      <th>6177</th>\n",
       "      <td>2020-05-17</td>\n",
       "      <td>USA</td>\n",
       "      <td>330774664</td>\n",
       "      <td>11875580.0</td>\n",
       "      <td>1527664.0</td>\n",
       "      <td>90978.0</td>\n",
       "      <td>346389.0</td>\n",
       "      <td>16355.0</td>\n",
       "      <td>1090297.0</td>\n",
       "    </tr>\n",
       "    <tr>\n",
       "      <th>6390</th>\n",
       "      <td>2020-05-18</td>\n",
       "      <td>USA</td>\n",
       "      <td>330774664</td>\n",
       "      <td>12300744.0</td>\n",
       "      <td>1550294.0</td>\n",
       "      <td>91981.0</td>\n",
       "      <td>356383.0</td>\n",
       "      <td>16868.0</td>\n",
       "      <td>1101930.0</td>\n",
       "    </tr>\n",
       "  </tbody>\n",
       "</table>\n",
       "</div>"
      ],
      "text/plain": [
       "            Date Country  Population  Total Tests  Total Cases  Total Deaths  \\\n",
       "0     2020-04-18     USA   330774664    3722145.0     738792.0       39014.0   \n",
       "213   2020-04-19     USA   330774664    3861549.0     763832.0       40553.0   \n",
       "426   2020-04-20     USA   330774664    4026360.0     792759.0       42514.0   \n",
       "639   2020-04-21     USA   330774664    4187392.0     818744.0       45318.0   \n",
       "852   2020-04-22     USA   330774664    4325342.0     848717.0       47659.0   \n",
       "1065  2020-04-23     USA   330774664    4696704.0     880204.0       49845.0   \n",
       "1278  2020-04-24     USA   330774664    5015602.0     925038.0       52185.0   \n",
       "1491  2020-04-25     USA   330774664    5279237.0     960651.0       54256.0   \n",
       "1704  2020-04-26     USA   330774664    5470464.0     987160.0       55413.0   \n",
       "1917  2020-04-27     USA   330774664    5696928.0    1010356.0       56797.0   \n",
       "2130  2020-04-28     USA   330774664    5919847.0    1035765.0       59266.0   \n",
       "2343  2020-04-29     USA   330774664    6139911.0    1064194.0       61656.0   \n",
       "2556  2020-04-30     USA   330774664    6391887.0    1095023.0       63856.0   \n",
       "2769  2020-05-01     USA   330774664    6699878.0    1131030.0       65753.0   \n",
       "2982  2020-05-02     USA   330774664    7196740.0    1160774.0       67444.0   \n",
       "3195  2020-05-03     USA   330774664    7196740.0    1188122.0       68598.0   \n",
       "3408  2020-05-04     USA   330774664    7462431.0    1212835.0       69921.0   \n",
       "3621  2020-05-05     USA   330774664    7727811.0    1237633.0       72271.0   \n",
       "3834  2020-05-06     USA   330774664    8005435.0    1263092.0       74799.0   \n",
       "4047  2020-05-07     USA   330774664    8297562.0    1292623.0       76928.0   \n",
       "4260  2020-05-08     USA   330774664    8636435.0    1321785.0       78615.0   \n",
       "4473  2020-05-09     USA   330774664    8918263.0    1347309.0       80037.0   \n",
       "4686  2020-05-10     USA   330774664    9444525.0    1367638.0       80787.0   \n",
       "4899  2020-05-11     USA   330774664    9619855.0    1385834.0       81795.0   \n",
       "5112  2020-05-12     USA   330774664    9935720.0    1408636.0       83425.0   \n",
       "5325  2020-05-13     USA   330774664   10269996.0    1430348.0       85197.0   \n",
       "5538  2020-05-14     USA   330774664   10638893.0    1457593.0       86912.0   \n",
       "5751  2020-05-15     USA   330774664   11090900.0    1484285.0       88507.0   \n",
       "5964  2020-05-16     USA   330774664   11949625.0    1507773.0       90113.0   \n",
       "6177  2020-05-17     USA   330774664   11875580.0    1527664.0       90978.0   \n",
       "6390  2020-05-18     USA   330774664   12300744.0    1550294.0       91981.0   \n",
       "\n",
       "      Total Recovered  Serious or Critical  Active Cases  \n",
       "0             68269.0              13551.0      631509.0  \n",
       "213           71003.0              13566.0      652276.0  \n",
       "426           72389.0              13951.0      677856.0  \n",
       "639           82923.0              14016.0      690503.0  \n",
       "852           84050.0              14016.0      717008.0  \n",
       "1065          85922.0              14997.0      744437.0  \n",
       "1278         110432.0              15097.0      762421.0  \n",
       "1491         118162.0              15110.0      788233.0  \n",
       "1704         118781.0              15143.0      812966.0  \n",
       "1917         138990.0              14186.0      814569.0  \n",
       "2130         142238.0              15298.0      834261.0  \n",
       "2343         147411.0              18671.0      855127.0  \n",
       "2556         152324.0              15226.0      878843.0  \n",
       "2769         161563.0              16481.0      903714.0  \n",
       "2982         178263.0              16139.0      941261.0  \n",
       "3195         178263.0              16139.0      941261.0  \n",
       "3408         188027.0              16050.0      954887.0  \n",
       "3621         200626.0              16179.0      964736.0  \n",
       "3834         212981.0              15827.0      975312.0  \n",
       "4047         217250.0              16995.0      998445.0  \n",
       "4260         223603.0              16978.0     1019567.0  \n",
       "4473         238078.0              16816.0     1029194.0  \n",
       "4686         256336.0              16514.0     1030515.0  \n",
       "4899         262225.0              16484.0     1041814.0  \n",
       "5112         296746.0              16473.0     1028465.0  \n",
       "5325         310259.0              16349.0     1034892.0  \n",
       "5538         318027.0              16240.0     1052654.0  \n",
       "5751         327751.0              16139.0     1068027.0  \n",
       "5964         339232.0              16248.0     1078428.0  \n",
       "6177         346389.0              16355.0     1090297.0  \n",
       "6390         356383.0              16868.0     1101930.0  "
      ]
     },
     "execution_count": 151,
     "metadata": {},
     "output_type": "execute_result"
    }
   ],
   "source": [
    "df[df['Country']=='USA']"
   ]
  },
  {
   "cell_type": "code",
   "execution_count": 152,
   "metadata": {},
   "outputs": [
    {
     "data": {
      "text/html": [
       "<div>\n",
       "<style scoped>\n",
       "    .dataframe tbody tr th:only-of-type {\n",
       "        vertical-align: middle;\n",
       "    }\n",
       "\n",
       "    .dataframe tbody tr th {\n",
       "        vertical-align: top;\n",
       "    }\n",
       "\n",
       "    .dataframe thead th {\n",
       "        text-align: right;\n",
       "    }\n",
       "</style>\n",
       "<table border=\"1\" class=\"dataframe\">\n",
       "  <thead>\n",
       "    <tr style=\"text-align: right;\">\n",
       "      <th></th>\n",
       "      <th>Country</th>\n",
       "      <th>Fraction age 0-14 years</th>\n",
       "      <th>Fraction age 15-64 years</th>\n",
       "      <th>Fraction age 65+ years</th>\n",
       "    </tr>\n",
       "  </thead>\n",
       "  <tbody>\n",
       "    <tr>\n",
       "      <th>0</th>\n",
       "      <td>USA</td>\n",
       "      <td>0.189</td>\n",
       "      <td>0.657</td>\n",
       "      <td>0.154</td>\n",
       "    </tr>\n",
       "  </tbody>\n",
       "</table>\n",
       "</div>"
      ],
      "text/plain": [
       "  Country  Fraction age 0-14 years  Fraction age 15-64 years  \\\n",
       "0     USA                    0.189                     0.657   \n",
       "\n",
       "   Fraction age 65+ years  \n",
       "0                   0.154  "
      ]
     },
     "execution_count": 152,
     "metadata": {},
     "output_type": "execute_result"
    }
   ],
   "source": [
    "df1[df1['Country']=='USA']"
   ]
  },
  {
   "cell_type": "code",
   "execution_count": 153,
   "metadata": {},
   "outputs": [],
   "source": [
    "df.drop('Date',axis=1,inplace=True)"
   ]
  },
  {
   "cell_type": "code",
   "execution_count": 154,
   "metadata": {},
   "outputs": [],
   "source": [
    "a=df.sort_values('Country')"
   ]
  },
  {
   "cell_type": "code",
   "execution_count": 155,
   "metadata": {},
   "outputs": [
    {
     "data": {
      "text/html": [
       "<div>\n",
       "<style scoped>\n",
       "    .dataframe tbody tr th:only-of-type {\n",
       "        vertical-align: middle;\n",
       "    }\n",
       "\n",
       "    .dataframe tbody tr th {\n",
       "        vertical-align: top;\n",
       "    }\n",
       "\n",
       "    .dataframe thead th {\n",
       "        text-align: right;\n",
       "    }\n",
       "</style>\n",
       "<table border=\"1\" class=\"dataframe\">\n",
       "  <thead>\n",
       "    <tr style=\"text-align: right;\">\n",
       "      <th></th>\n",
       "      <th>Country</th>\n",
       "      <th>Population</th>\n",
       "      <th>Total Tests</th>\n",
       "      <th>Total Cases</th>\n",
       "      <th>Total Deaths</th>\n",
       "      <th>Total Recovered</th>\n",
       "      <th>Serious or Critical</th>\n",
       "      <th>Active Cases</th>\n",
       "    </tr>\n",
       "  </thead>\n",
       "  <tbody>\n",
       "    <tr>\n",
       "      <th>6016</th>\n",
       "      <td>Afghanistan</td>\n",
       "      <td>38817349</td>\n",
       "      <td>21967.0</td>\n",
       "      <td>6402.0</td>\n",
       "      <td>168.0</td>\n",
       "      <td>745.0</td>\n",
       "      <td>19.0</td>\n",
       "      <td>5489.0</td>\n",
       "    </tr>\n",
       "    <tr>\n",
       "      <th>5377</th>\n",
       "      <td>Afghanistan</td>\n",
       "      <td>38817349</td>\n",
       "      <td>18724.0</td>\n",
       "      <td>5226.0</td>\n",
       "      <td>132.0</td>\n",
       "      <td>648.0</td>\n",
       "      <td>7.0</td>\n",
       "      <td>4446.0</td>\n",
       "    </tr>\n",
       "    <tr>\n",
       "      <th>1756</th>\n",
       "      <td>Afghanistan</td>\n",
       "      <td>38817349</td>\n",
       "      <td>8090.0</td>\n",
       "      <td>1531.0</td>\n",
       "      <td>50.0</td>\n",
       "      <td>207.0</td>\n",
       "      <td>7.0</td>\n",
       "      <td>1274.0</td>\n",
       "    </tr>\n",
       "    <tr>\n",
       "      <th>1969</th>\n",
       "      <td>Afghanistan</td>\n",
       "      <td>38817349</td>\n",
       "      <td>8694.0</td>\n",
       "      <td>1703.0</td>\n",
       "      <td>57.0</td>\n",
       "      <td>220.0</td>\n",
       "      <td>7.0</td>\n",
       "      <td>1426.0</td>\n",
       "    </tr>\n",
       "    <tr>\n",
       "      <th>3460</th>\n",
       "      <td>Afghanistan</td>\n",
       "      <td>38817349</td>\n",
       "      <td>11068.0</td>\n",
       "      <td>2894.0</td>\n",
       "      <td>90.0</td>\n",
       "      <td>397.0</td>\n",
       "      <td>7.0</td>\n",
       "      <td>2407.0</td>\n",
       "    </tr>\n",
       "    <tr>\n",
       "      <th>...</th>\n",
       "      <td>...</td>\n",
       "      <td>...</td>\n",
       "      <td>...</td>\n",
       "      <td>...</td>\n",
       "      <td>...</td>\n",
       "      <td>...</td>\n",
       "      <td>...</td>\n",
       "      <td>...</td>\n",
       "    </tr>\n",
       "    <tr>\n",
       "      <th>1666</th>\n",
       "      <td>Zimbabwe</td>\n",
       "      <td>14836491</td>\n",
       "      <td>5450.0</td>\n",
       "      <td>31.0</td>\n",
       "      <td>4.0</td>\n",
       "      <td>2.0</td>\n",
       "      <td>NaN</td>\n",
       "      <td>25.0</td>\n",
       "    </tr>\n",
       "    <tr>\n",
       "      <th>2944</th>\n",
       "      <td>Zimbabwe</td>\n",
       "      <td>14836491</td>\n",
       "      <td>7642.0</td>\n",
       "      <td>34.0</td>\n",
       "      <td>4.0</td>\n",
       "      <td>5.0</td>\n",
       "      <td>NaN</td>\n",
       "      <td>25.0</td>\n",
       "    </tr>\n",
       "    <tr>\n",
       "      <th>4861</th>\n",
       "      <td>Zimbabwe</td>\n",
       "      <td>14836491</td>\n",
       "      <td>20537.0</td>\n",
       "      <td>36.0</td>\n",
       "      <td>4.0</td>\n",
       "      <td>9.0</td>\n",
       "      <td>NaN</td>\n",
       "      <td>23.0</td>\n",
       "    </tr>\n",
       "    <tr>\n",
       "      <th>6139</th>\n",
       "      <td>Zimbabwe</td>\n",
       "      <td>14836491</td>\n",
       "      <td>25478.0</td>\n",
       "      <td>42.0</td>\n",
       "      <td>4.0</td>\n",
       "      <td>13.0</td>\n",
       "      <td>NaN</td>\n",
       "      <td>25.0</td>\n",
       "    </tr>\n",
       "    <tr>\n",
       "      <th>5713</th>\n",
       "      <td>Zimbabwe</td>\n",
       "      <td>14836491</td>\n",
       "      <td>36081.0</td>\n",
       "      <td>37.0</td>\n",
       "      <td>4.0</td>\n",
       "      <td>13.0</td>\n",
       "      <td>NaN</td>\n",
       "      <td>20.0</td>\n",
       "    </tr>\n",
       "  </tbody>\n",
       "</table>\n",
       "<p>6603 rows × 8 columns</p>\n",
       "</div>"
      ],
      "text/plain": [
       "          Country  Population  Total Tests  Total Cases  Total Deaths  \\\n",
       "6016  Afghanistan    38817349      21967.0       6402.0         168.0   \n",
       "5377  Afghanistan    38817349      18724.0       5226.0         132.0   \n",
       "1756  Afghanistan    38817349       8090.0       1531.0          50.0   \n",
       "1969  Afghanistan    38817349       8694.0       1703.0          57.0   \n",
       "3460  Afghanistan    38817349      11068.0       2894.0          90.0   \n",
       "...           ...         ...          ...          ...           ...   \n",
       "1666     Zimbabwe    14836491       5450.0         31.0           4.0   \n",
       "2944     Zimbabwe    14836491       7642.0         34.0           4.0   \n",
       "4861     Zimbabwe    14836491      20537.0         36.0           4.0   \n",
       "6139     Zimbabwe    14836491      25478.0         42.0           4.0   \n",
       "5713     Zimbabwe    14836491      36081.0         37.0           4.0   \n",
       "\n",
       "      Total Recovered  Serious or Critical  Active Cases  \n",
       "6016            745.0                 19.0        5489.0  \n",
       "5377            648.0                  7.0        4446.0  \n",
       "1756            207.0                  7.0        1274.0  \n",
       "1969            220.0                  7.0        1426.0  \n",
       "3460            397.0                  7.0        2407.0  \n",
       "...               ...                  ...           ...  \n",
       "1666              2.0                  NaN          25.0  \n",
       "2944              5.0                  NaN          25.0  \n",
       "4861              9.0                  NaN          23.0  \n",
       "6139             13.0                  NaN          25.0  \n",
       "5713             13.0                  NaN          20.0  \n",
       "\n",
       "[6603 rows x 8 columns]"
      ]
     },
     "execution_count": 155,
     "metadata": {},
     "output_type": "execute_result"
    }
   ],
   "source": [
    "a"
   ]
  },
  {
   "cell_type": "code",
   "execution_count": 156,
   "metadata": {},
   "outputs": [],
   "source": [
    "df2=df.groupby('Country')['Total Cases'].sum()"
   ]
  },
  {
   "cell_type": "code",
   "execution_count": 157,
   "metadata": {},
   "outputs": [
    {
     "data": {
      "text/plain": [
       "(213,)"
      ]
     },
     "execution_count": 157,
     "metadata": {},
     "output_type": "execute_result"
    }
   ],
   "source": [
    "df2.shape"
   ]
  },
  {
   "cell_type": "code",
   "execution_count": 158,
   "metadata": {},
   "outputs": [],
   "source": [
    "df3=df.groupby('Country')['Total Deaths'].sum()"
   ]
  },
  {
   "cell_type": "code",
   "execution_count": 159,
   "metadata": {},
   "outputs": [
    {
     "data": {
      "text/plain": [
       "(213,)"
      ]
     },
     "execution_count": 159,
     "metadata": {},
     "output_type": "execute_result"
    }
   ],
   "source": [
    "df3.shape"
   ]
  },
  {
   "cell_type": "code",
   "execution_count": 160,
   "metadata": {},
   "outputs": [
    {
     "data": {
      "text/plain": [
       "(213, 4)"
      ]
     },
     "execution_count": 160,
     "metadata": {},
     "output_type": "execute_result"
    }
   ],
   "source": [
    "df1.shape"
   ]
  },
  {
   "cell_type": "code",
   "execution_count": 161,
   "metadata": {},
   "outputs": [
    {
     "data": {
      "text/html": [
       "<div>\n",
       "<style scoped>\n",
       "    .dataframe tbody tr th:only-of-type {\n",
       "        vertical-align: middle;\n",
       "    }\n",
       "\n",
       "    .dataframe tbody tr th {\n",
       "        vertical-align: top;\n",
       "    }\n",
       "\n",
       "    .dataframe thead th {\n",
       "        text-align: right;\n",
       "    }\n",
       "</style>\n",
       "<table border=\"1\" class=\"dataframe\">\n",
       "  <thead>\n",
       "    <tr style=\"text-align: right;\">\n",
       "      <th></th>\n",
       "      <th>Country</th>\n",
       "      <th>Fraction age 0-14 years</th>\n",
       "      <th>Fraction age 15-64 years</th>\n",
       "      <th>Fraction age 65+ years</th>\n",
       "    </tr>\n",
       "  </thead>\n",
       "  <tbody>\n",
       "    <tr>\n",
       "      <th>0</th>\n",
       "      <td>USA</td>\n",
       "      <td>0.189</td>\n",
       "      <td>0.657</td>\n",
       "      <td>0.154</td>\n",
       "    </tr>\n",
       "    <tr>\n",
       "      <th>1</th>\n",
       "      <td>Russia</td>\n",
       "      <td>0.176</td>\n",
       "      <td>0.682</td>\n",
       "      <td>0.142</td>\n",
       "    </tr>\n",
       "    <tr>\n",
       "      <th>2</th>\n",
       "      <td>Spain</td>\n",
       "      <td>0.147</td>\n",
       "      <td>0.659</td>\n",
       "      <td>0.194</td>\n",
       "    </tr>\n",
       "    <tr>\n",
       "      <th>3</th>\n",
       "      <td>Brazil</td>\n",
       "      <td>0.217</td>\n",
       "      <td>0.697</td>\n",
       "      <td>0.086</td>\n",
       "    </tr>\n",
       "    <tr>\n",
       "      <th>4</th>\n",
       "      <td>UK</td>\n",
       "      <td>0.177</td>\n",
       "      <td>0.638</td>\n",
       "      <td>0.185</td>\n",
       "    </tr>\n",
       "  </tbody>\n",
       "</table>\n",
       "</div>"
      ],
      "text/plain": [
       "  Country  Fraction age 0-14 years  Fraction age 15-64 years  \\\n",
       "0     USA                    0.189                     0.657   \n",
       "1  Russia                    0.176                     0.682   \n",
       "2   Spain                    0.147                     0.659   \n",
       "3  Brazil                    0.217                     0.697   \n",
       "4      UK                    0.177                     0.638   \n",
       "\n",
       "   Fraction age 65+ years  \n",
       "0                   0.154  \n",
       "1                   0.142  \n",
       "2                   0.194  \n",
       "3                   0.086  \n",
       "4                   0.185  "
      ]
     },
     "execution_count": 161,
     "metadata": {},
     "output_type": "execute_result"
    }
   ],
   "source": [
    "df1.head()"
   ]
  },
  {
   "cell_type": "code",
   "execution_count": 162,
   "metadata": {},
   "outputs": [
    {
     "data": {
      "text/plain": [
       "Country\n",
       "Afghanistan     97988.0\n",
       "Albania         24227.0\n",
       "Algeria        142955.0\n",
       "Andorra         23061.0\n",
       "Angola           1079.0\n",
       "Name: Total Cases, dtype: float64"
      ]
     },
     "execution_count": 162,
     "metadata": {},
     "output_type": "execute_result"
    }
   ],
   "source": [
    "df2.head()"
   ]
  },
  {
   "cell_type": "code",
   "execution_count": 163,
   "metadata": {},
   "outputs": [
    {
     "data": {
      "text/plain": [
       "Country\n",
       "Afghanistan     2740.0\n",
       "Albania          915.0\n",
       "Algeria        14356.0\n",
       "Andorra         1359.0\n",
       "Angola            63.0\n",
       "Name: Total Deaths, dtype: float64"
      ]
     },
     "execution_count": 163,
     "metadata": {},
     "output_type": "execute_result"
    }
   ],
   "source": [
    "df3.head()"
   ]
  },
  {
   "cell_type": "code",
   "execution_count": 164,
   "metadata": {},
   "outputs": [
    {
     "data": {
      "text/html": [
       "<div>\n",
       "<style scoped>\n",
       "    .dataframe tbody tr th:only-of-type {\n",
       "        vertical-align: middle;\n",
       "    }\n",
       "\n",
       "    .dataframe tbody tr th {\n",
       "        vertical-align: top;\n",
       "    }\n",
       "\n",
       "    .dataframe thead th {\n",
       "        text-align: right;\n",
       "    }\n",
       "</style>\n",
       "<table border=\"1\" class=\"dataframe\">\n",
       "  <thead>\n",
       "    <tr style=\"text-align: right;\">\n",
       "      <th></th>\n",
       "      <th>Country</th>\n",
       "      <th>Fraction age 0-14 years</th>\n",
       "      <th>Fraction age 15-64 years</th>\n",
       "      <th>Fraction age 65+ years</th>\n",
       "    </tr>\n",
       "  </thead>\n",
       "  <tbody>\n",
       "    <tr>\n",
       "      <th>0</th>\n",
       "      <td>USA</td>\n",
       "      <td>0.189</td>\n",
       "      <td>0.657</td>\n",
       "      <td>0.154</td>\n",
       "    </tr>\n",
       "    <tr>\n",
       "      <th>1</th>\n",
       "      <td>Russia</td>\n",
       "      <td>0.176</td>\n",
       "      <td>0.682</td>\n",
       "      <td>0.142</td>\n",
       "    </tr>\n",
       "    <tr>\n",
       "      <th>2</th>\n",
       "      <td>Spain</td>\n",
       "      <td>0.147</td>\n",
       "      <td>0.659</td>\n",
       "      <td>0.194</td>\n",
       "    </tr>\n",
       "    <tr>\n",
       "      <th>3</th>\n",
       "      <td>Brazil</td>\n",
       "      <td>0.217</td>\n",
       "      <td>0.697</td>\n",
       "      <td>0.086</td>\n",
       "    </tr>\n",
       "    <tr>\n",
       "      <th>4</th>\n",
       "      <td>UK</td>\n",
       "      <td>0.177</td>\n",
       "      <td>0.638</td>\n",
       "      <td>0.185</td>\n",
       "    </tr>\n",
       "  </tbody>\n",
       "</table>\n",
       "</div>"
      ],
      "text/plain": [
       "  Country  Fraction age 0-14 years  Fraction age 15-64 years  \\\n",
       "0     USA                    0.189                     0.657   \n",
       "1  Russia                    0.176                     0.682   \n",
       "2   Spain                    0.147                     0.659   \n",
       "3  Brazil                    0.217                     0.697   \n",
       "4      UK                    0.177                     0.638   \n",
       "\n",
       "   Fraction age 65+ years  \n",
       "0                   0.154  \n",
       "1                   0.142  \n",
       "2                   0.194  \n",
       "3                   0.086  \n",
       "4                   0.185  "
      ]
     },
     "execution_count": 164,
     "metadata": {},
     "output_type": "execute_result"
    }
   ],
   "source": [
    "df1.head()"
   ]
  },
  {
   "cell_type": "code",
   "execution_count": 165,
   "metadata": {},
   "outputs": [],
   "source": [
    "df1=df1.sort_values('Country')"
   ]
  },
  {
   "cell_type": "code",
   "execution_count": 166,
   "metadata": {},
   "outputs": [
    {
     "data": {
      "text/html": [
       "<div>\n",
       "<style scoped>\n",
       "    .dataframe tbody tr th:only-of-type {\n",
       "        vertical-align: middle;\n",
       "    }\n",
       "\n",
       "    .dataframe tbody tr th {\n",
       "        vertical-align: top;\n",
       "    }\n",
       "\n",
       "    .dataframe thead th {\n",
       "        text-align: right;\n",
       "    }\n",
       "</style>\n",
       "<table border=\"1\" class=\"dataframe\">\n",
       "  <thead>\n",
       "    <tr style=\"text-align: right;\">\n",
       "      <th></th>\n",
       "      <th>Country</th>\n",
       "      <th>Fraction age 0-14 years</th>\n",
       "      <th>Fraction age 15-64 years</th>\n",
       "      <th>Fraction age 65+ years</th>\n",
       "    </tr>\n",
       "  </thead>\n",
       "  <tbody>\n",
       "    <tr>\n",
       "      <th>52</th>\n",
       "      <td>Afghanistan</td>\n",
       "      <td>0.432</td>\n",
       "      <td>0.542</td>\n",
       "      <td>0.026</td>\n",
       "    </tr>\n",
       "    <tr>\n",
       "      <th>103</th>\n",
       "      <td>Albania</td>\n",
       "      <td>0.174</td>\n",
       "      <td>0.689</td>\n",
       "      <td>0.132</td>\n",
       "    </tr>\n",
       "    <tr>\n",
       "      <th>50</th>\n",
       "      <td>Algeria</td>\n",
       "      <td>0.293</td>\n",
       "      <td>0.645</td>\n",
       "      <td>0.062</td>\n",
       "    </tr>\n",
       "    <tr>\n",
       "      <th>112</th>\n",
       "      <td>Andorra</td>\n",
       "      <td>NaN</td>\n",
       "      <td>NaN</td>\n",
       "      <td>NaN</td>\n",
       "    </tr>\n",
       "    <tr>\n",
       "      <th>174</th>\n",
       "      <td>Angola</td>\n",
       "      <td>0.468</td>\n",
       "      <td>0.508</td>\n",
       "      <td>0.024</td>\n",
       "    </tr>\n",
       "  </tbody>\n",
       "</table>\n",
       "</div>"
      ],
      "text/plain": [
       "         Country  Fraction age 0-14 years  Fraction age 15-64 years  \\\n",
       "52   Afghanistan                    0.432                     0.542   \n",
       "103      Albania                    0.174                     0.689   \n",
       "50       Algeria                    0.293                     0.645   \n",
       "112      Andorra                      NaN                       NaN   \n",
       "174       Angola                    0.468                     0.508   \n",
       "\n",
       "     Fraction age 65+ years  \n",
       "52                    0.026  \n",
       "103                   0.132  \n",
       "50                    0.062  \n",
       "112                     NaN  \n",
       "174                   0.024  "
      ]
     },
     "execution_count": 166,
     "metadata": {},
     "output_type": "execute_result"
    }
   ],
   "source": [
    "df1.head()"
   ]
  },
  {
   "cell_type": "code",
   "execution_count": 167,
   "metadata": {},
   "outputs": [],
   "source": [
    "df2=pd.DataFrame(df2)"
   ]
  },
  {
   "cell_type": "code",
   "execution_count": 168,
   "metadata": {},
   "outputs": [
    {
     "data": {
      "text/html": [
       "<div>\n",
       "<style scoped>\n",
       "    .dataframe tbody tr th:only-of-type {\n",
       "        vertical-align: middle;\n",
       "    }\n",
       "\n",
       "    .dataframe tbody tr th {\n",
       "        vertical-align: top;\n",
       "    }\n",
       "\n",
       "    .dataframe thead th {\n",
       "        text-align: right;\n",
       "    }\n",
       "</style>\n",
       "<table border=\"1\" class=\"dataframe\">\n",
       "  <thead>\n",
       "    <tr style=\"text-align: right;\">\n",
       "      <th></th>\n",
       "      <th>Total Cases</th>\n",
       "    </tr>\n",
       "    <tr>\n",
       "      <th>Country</th>\n",
       "      <th></th>\n",
       "    </tr>\n",
       "  </thead>\n",
       "  <tbody>\n",
       "    <tr>\n",
       "      <th>Afghanistan</th>\n",
       "      <td>97988.0</td>\n",
       "    </tr>\n",
       "    <tr>\n",
       "      <th>Albania</th>\n",
       "      <td>24227.0</td>\n",
       "    </tr>\n",
       "    <tr>\n",
       "      <th>Algeria</th>\n",
       "      <td>142955.0</td>\n",
       "    </tr>\n",
       "    <tr>\n",
       "      <th>Andorra</th>\n",
       "      <td>23061.0</td>\n",
       "    </tr>\n",
       "    <tr>\n",
       "      <th>Angola</th>\n",
       "      <td>1079.0</td>\n",
       "    </tr>\n",
       "  </tbody>\n",
       "</table>\n",
       "</div>"
      ],
      "text/plain": [
       "             Total Cases\n",
       "Country                 \n",
       "Afghanistan      97988.0\n",
       "Albania          24227.0\n",
       "Algeria         142955.0\n",
       "Andorra          23061.0\n",
       "Angola            1079.0"
      ]
     },
     "execution_count": 168,
     "metadata": {},
     "output_type": "execute_result"
    }
   ],
   "source": [
    "df2.head()"
   ]
  },
  {
   "cell_type": "code",
   "execution_count": 169,
   "metadata": {},
   "outputs": [],
   "source": [
    "df2.reset_index(level=0, inplace=True)"
   ]
  },
  {
   "cell_type": "code",
   "execution_count": 170,
   "metadata": {},
   "outputs": [
    {
     "data": {
      "text/html": [
       "<div>\n",
       "<style scoped>\n",
       "    .dataframe tbody tr th:only-of-type {\n",
       "        vertical-align: middle;\n",
       "    }\n",
       "\n",
       "    .dataframe tbody tr th {\n",
       "        vertical-align: top;\n",
       "    }\n",
       "\n",
       "    .dataframe thead th {\n",
       "        text-align: right;\n",
       "    }\n",
       "</style>\n",
       "<table border=\"1\" class=\"dataframe\">\n",
       "  <thead>\n",
       "    <tr style=\"text-align: right;\">\n",
       "      <th></th>\n",
       "      <th>Country</th>\n",
       "      <th>Total Cases</th>\n",
       "    </tr>\n",
       "  </thead>\n",
       "  <tbody>\n",
       "    <tr>\n",
       "      <th>0</th>\n",
       "      <td>Afghanistan</td>\n",
       "      <td>97988.0</td>\n",
       "    </tr>\n",
       "    <tr>\n",
       "      <th>1</th>\n",
       "      <td>Albania</td>\n",
       "      <td>24227.0</td>\n",
       "    </tr>\n",
       "    <tr>\n",
       "      <th>2</th>\n",
       "      <td>Algeria</td>\n",
       "      <td>142955.0</td>\n",
       "    </tr>\n",
       "    <tr>\n",
       "      <th>3</th>\n",
       "      <td>Andorra</td>\n",
       "      <td>23061.0</td>\n",
       "    </tr>\n",
       "    <tr>\n",
       "      <th>4</th>\n",
       "      <td>Angola</td>\n",
       "      <td>1079.0</td>\n",
       "    </tr>\n",
       "  </tbody>\n",
       "</table>\n",
       "</div>"
      ],
      "text/plain": [
       "       Country  Total Cases\n",
       "0  Afghanistan      97988.0\n",
       "1      Albania      24227.0\n",
       "2      Algeria     142955.0\n",
       "3      Andorra      23061.0\n",
       "4       Angola       1079.0"
      ]
     },
     "execution_count": 170,
     "metadata": {},
     "output_type": "execute_result"
    }
   ],
   "source": [
    "df2.head()"
   ]
  },
  {
   "cell_type": "code",
   "execution_count": 171,
   "metadata": {},
   "outputs": [
    {
     "data": {
      "text/plain": [
       "(213, 2)"
      ]
     },
     "execution_count": 171,
     "metadata": {},
     "output_type": "execute_result"
    }
   ],
   "source": [
    "df2.shape"
   ]
  },
  {
   "cell_type": "code",
   "execution_count": 172,
   "metadata": {},
   "outputs": [],
   "source": [
    "df3=pd.DataFrame(df3)"
   ]
  },
  {
   "cell_type": "code",
   "execution_count": 173,
   "metadata": {},
   "outputs": [],
   "source": [
    "df3.reset_index(level=0, inplace=True)"
   ]
  },
  {
   "cell_type": "code",
   "execution_count": 174,
   "metadata": {},
   "outputs": [
    {
     "data": {
      "text/html": [
       "<div>\n",
       "<style scoped>\n",
       "    .dataframe tbody tr th:only-of-type {\n",
       "        vertical-align: middle;\n",
       "    }\n",
       "\n",
       "    .dataframe tbody tr th {\n",
       "        vertical-align: top;\n",
       "    }\n",
       "\n",
       "    .dataframe thead th {\n",
       "        text-align: right;\n",
       "    }\n",
       "</style>\n",
       "<table border=\"1\" class=\"dataframe\">\n",
       "  <thead>\n",
       "    <tr style=\"text-align: right;\">\n",
       "      <th></th>\n",
       "      <th>Country</th>\n",
       "      <th>Total Deaths</th>\n",
       "    </tr>\n",
       "  </thead>\n",
       "  <tbody>\n",
       "    <tr>\n",
       "      <th>0</th>\n",
       "      <td>Afghanistan</td>\n",
       "      <td>2740.0</td>\n",
       "    </tr>\n",
       "    <tr>\n",
       "      <th>1</th>\n",
       "      <td>Albania</td>\n",
       "      <td>915.0</td>\n",
       "    </tr>\n",
       "    <tr>\n",
       "      <th>2</th>\n",
       "      <td>Algeria</td>\n",
       "      <td>14356.0</td>\n",
       "    </tr>\n",
       "    <tr>\n",
       "      <th>3</th>\n",
       "      <td>Andorra</td>\n",
       "      <td>1359.0</td>\n",
       "    </tr>\n",
       "    <tr>\n",
       "      <th>4</th>\n",
       "      <td>Angola</td>\n",
       "      <td>63.0</td>\n",
       "    </tr>\n",
       "  </tbody>\n",
       "</table>\n",
       "</div>"
      ],
      "text/plain": [
       "       Country  Total Deaths\n",
       "0  Afghanistan        2740.0\n",
       "1      Albania         915.0\n",
       "2      Algeria       14356.0\n",
       "3      Andorra        1359.0\n",
       "4       Angola          63.0"
      ]
     },
     "execution_count": 174,
     "metadata": {},
     "output_type": "execute_result"
    }
   ],
   "source": [
    "df3.head()"
   ]
  },
  {
   "cell_type": "code",
   "execution_count": 175,
   "metadata": {},
   "outputs": [],
   "source": [
    "df1['totalcases']=df2['Total Cases']"
   ]
  },
  {
   "cell_type": "code",
   "execution_count": 176,
   "metadata": {},
   "outputs": [
    {
     "data": {
      "text/html": [
       "<div>\n",
       "<style scoped>\n",
       "    .dataframe tbody tr th:only-of-type {\n",
       "        vertical-align: middle;\n",
       "    }\n",
       "\n",
       "    .dataframe tbody tr th {\n",
       "        vertical-align: top;\n",
       "    }\n",
       "\n",
       "    .dataframe thead th {\n",
       "        text-align: right;\n",
       "    }\n",
       "</style>\n",
       "<table border=\"1\" class=\"dataframe\">\n",
       "  <thead>\n",
       "    <tr style=\"text-align: right;\">\n",
       "      <th></th>\n",
       "      <th>Country</th>\n",
       "      <th>Fraction age 0-14 years</th>\n",
       "      <th>Fraction age 15-64 years</th>\n",
       "      <th>Fraction age 65+ years</th>\n",
       "      <th>totalcases</th>\n",
       "    </tr>\n",
       "  </thead>\n",
       "  <tbody>\n",
       "    <tr>\n",
       "      <th>52</th>\n",
       "      <td>Afghanistan</td>\n",
       "      <td>0.432</td>\n",
       "      <td>0.542</td>\n",
       "      <td>0.026</td>\n",
       "      <td>23370.0</td>\n",
       "    </tr>\n",
       "    <tr>\n",
       "      <th>103</th>\n",
       "      <td>Albania</td>\n",
       "      <td>0.174</td>\n",
       "      <td>0.689</td>\n",
       "      <td>0.132</td>\n",
       "      <td>120835.0</td>\n",
       "    </tr>\n",
       "    <tr>\n",
       "      <th>50</th>\n",
       "      <td>Algeria</td>\n",
       "      <td>0.293</td>\n",
       "      <td>0.645</td>\n",
       "      <td>0.062</td>\n",
       "      <td>26523.0</td>\n",
       "    </tr>\n",
       "    <tr>\n",
       "      <th>112</th>\n",
       "      <td>Andorra</td>\n",
       "      <td>NaN</td>\n",
       "      <td>NaN</td>\n",
       "      <td>NaN</td>\n",
       "      <td>1907.0</td>\n",
       "    </tr>\n",
       "    <tr>\n",
       "      <th>174</th>\n",
       "      <td>Angola</td>\n",
       "      <td>0.468</td>\n",
       "      <td>0.508</td>\n",
       "      <td>0.024</td>\n",
       "      <td>2300.0</td>\n",
       "    </tr>\n",
       "  </tbody>\n",
       "</table>\n",
       "</div>"
      ],
      "text/plain": [
       "         Country  Fraction age 0-14 years  Fraction age 15-64 years  \\\n",
       "52   Afghanistan                    0.432                     0.542   \n",
       "103      Albania                    0.174                     0.689   \n",
       "50       Algeria                    0.293                     0.645   \n",
       "112      Andorra                      NaN                       NaN   \n",
       "174       Angola                    0.468                     0.508   \n",
       "\n",
       "     Fraction age 65+ years  totalcases  \n",
       "52                    0.026     23370.0  \n",
       "103                   0.132    120835.0  \n",
       "50                    0.062     26523.0  \n",
       "112                     NaN      1907.0  \n",
       "174                   0.024      2300.0  "
      ]
     },
     "execution_count": 176,
     "metadata": {},
     "output_type": "execute_result"
    }
   ],
   "source": [
    "df1.head()"
   ]
  },
  {
   "cell_type": "code",
   "execution_count": 177,
   "metadata": {},
   "outputs": [],
   "source": [
    "df1['totaldeath']=df3['Total Deaths']"
   ]
  },
  {
   "cell_type": "code",
   "execution_count": 178,
   "metadata": {},
   "outputs": [
    {
     "data": {
      "text/html": [
       "<div>\n",
       "<style scoped>\n",
       "    .dataframe tbody tr th:only-of-type {\n",
       "        vertical-align: middle;\n",
       "    }\n",
       "\n",
       "    .dataframe tbody tr th {\n",
       "        vertical-align: top;\n",
       "    }\n",
       "\n",
       "    .dataframe thead th {\n",
       "        text-align: right;\n",
       "    }\n",
       "</style>\n",
       "<table border=\"1\" class=\"dataframe\">\n",
       "  <thead>\n",
       "    <tr style=\"text-align: right;\">\n",
       "      <th></th>\n",
       "      <th>Country</th>\n",
       "      <th>Fraction age 0-14 years</th>\n",
       "      <th>Fraction age 15-64 years</th>\n",
       "      <th>Fraction age 65+ years</th>\n",
       "      <th>totalcases</th>\n",
       "      <th>totaldeath</th>\n",
       "    </tr>\n",
       "  </thead>\n",
       "  <tbody>\n",
       "    <tr>\n",
       "      <th>52</th>\n",
       "      <td>Afghanistan</td>\n",
       "      <td>0.432</td>\n",
       "      <td>0.542</td>\n",
       "      <td>0.026</td>\n",
       "      <td>23370.0</td>\n",
       "      <td>1121.0</td>\n",
       "    </tr>\n",
       "    <tr>\n",
       "      <th>103</th>\n",
       "      <td>Albania</td>\n",
       "      <td>0.174</td>\n",
       "      <td>0.689</td>\n",
       "      <td>0.132</td>\n",
       "      <td>120835.0</td>\n",
       "      <td>839.0</td>\n",
       "    </tr>\n",
       "    <tr>\n",
       "      <th>50</th>\n",
       "      <td>Algeria</td>\n",
       "      <td>0.293</td>\n",
       "      <td>0.645</td>\n",
       "      <td>0.062</td>\n",
       "      <td>26523.0</td>\n",
       "      <td>461.0</td>\n",
       "    </tr>\n",
       "    <tr>\n",
       "      <th>112</th>\n",
       "      <td>Andorra</td>\n",
       "      <td>NaN</td>\n",
       "      <td>NaN</td>\n",
       "      <td>NaN</td>\n",
       "      <td>1907.0</td>\n",
       "      <td>76.0</td>\n",
       "    </tr>\n",
       "    <tr>\n",
       "      <th>174</th>\n",
       "      <td>Angola</td>\n",
       "      <td>0.468</td>\n",
       "      <td>0.508</td>\n",
       "      <td>0.024</td>\n",
       "      <td>2300.0</td>\n",
       "      <td>409.0</td>\n",
       "    </tr>\n",
       "  </tbody>\n",
       "</table>\n",
       "</div>"
      ],
      "text/plain": [
       "         Country  Fraction age 0-14 years  Fraction age 15-64 years  \\\n",
       "52   Afghanistan                    0.432                     0.542   \n",
       "103      Albania                    0.174                     0.689   \n",
       "50       Algeria                    0.293                     0.645   \n",
       "112      Andorra                      NaN                       NaN   \n",
       "174       Angola                    0.468                     0.508   \n",
       "\n",
       "     Fraction age 65+ years  totalcases  totaldeath  \n",
       "52                    0.026     23370.0      1121.0  \n",
       "103                   0.132    120835.0       839.0  \n",
       "50                    0.062     26523.0       461.0  \n",
       "112                     NaN      1907.0        76.0  \n",
       "174                   0.024      2300.0       409.0  "
      ]
     },
     "execution_count": 178,
     "metadata": {},
     "output_type": "execute_result"
    }
   ],
   "source": [
    "df1.head()"
   ]
  },
  {
   "cell_type": "markdown",
   "metadata": {},
   "source": [
    "we have created the dataframe which includes the total case and total death in the counry now we are going to predict the death rate and also see the relation of death with death"
   ]
  },
  {
   "cell_type": "markdown",
   "metadata": {},
   "source": [
    "# checking null values"
   ]
  },
  {
   "cell_type": "code",
   "execution_count": 179,
   "metadata": {},
   "outputs": [
    {
     "data": {
      "text/plain": [
       "Country                      0\n",
       "Fraction age 0-14 years     37\n",
       "Fraction age 15-64 years    37\n",
       "Fraction age 65+ years      37\n",
       "totalcases                   0\n",
       "totaldeath                   0\n",
       "dtype: int64"
      ]
     },
     "execution_count": 179,
     "metadata": {},
     "output_type": "execute_result"
    }
   ],
   "source": [
    "df1.isnull().sum()"
   ]
  },
  {
   "cell_type": "code",
   "execution_count": 181,
   "metadata": {},
   "outputs": [],
   "source": [
    "df1.fillna(0,inplace=True)"
   ]
  },
  {
   "cell_type": "code",
   "execution_count": 182,
   "metadata": {},
   "outputs": [
    {
     "data": {
      "text/plain": [
       "Country                     0\n",
       "Fraction age 0-14 years     0\n",
       "Fraction age 15-64 years    0\n",
       "Fraction age 65+ years      0\n",
       "totalcases                  0\n",
       "totaldeath                  0\n",
       "dtype: int64"
      ]
     },
     "execution_count": 182,
     "metadata": {},
     "output_type": "execute_result"
    }
   ],
   "source": [
    "df1.isnull().sum()"
   ]
  },
  {
   "cell_type": "code",
   "execution_count": 184,
   "metadata": {},
   "outputs": [
    {
     "data": {
      "text/plain": [
       "<matplotlib.axes._subplots.AxesSubplot at 0x28ece7a2108>"
      ]
     },
     "execution_count": 184,
     "metadata": {},
     "output_type": "execute_result"
    },
    {
     "data": {
      "image/png": "[encoded data removed]",
      "text/plain": [
       "<Figure size 432x288 with 2 Axes>"
      ]
     },
     "metadata": {
      "needs_background": "light"
     },
     "output_type": "display_data"
    }
   ],
   "source": [
    "sns.heatmap(df1.isnull())"
   ]
  },
  {
   "cell_type": "markdown",
   "metadata": {},
   "source": [
    "now there is no null values in this dataset"
   ]
  },
  {
   "cell_type": "code",
   "execution_count": 185,
   "metadata": {},
   "outputs": [
    {
     "name": "stdout",
     "output_type": "stream",
     "text": [
      "<class 'pandas.core.frame.DataFrame'>\n",
      "Int64Index: 213 entries, 52 to 175\n",
      "Data columns (total 6 columns):\n",
      " #   Column                    Non-Null Count  Dtype  \n",
      "---  ------                    --------------  -----  \n",
      " 0   Country                   213 non-null    object \n",
      " 1   Fraction age 0-14 years   213 non-null    float64\n",
      " 2   Fraction age 15-64 years  213 non-null    float64\n",
      " 3   Fraction age 65+ years    213 non-null    float64\n",
      " 4   totalcases                213 non-null    float64\n",
      " 5   totaldeath                213 non-null    float64\n",
      "dtypes: float64(5), object(1)\n",
      "memory usage: 11.6+ KB\n"
     ]
    }
   ],
   "source": [
    "df1.info()"
   ]
  },
  {
   "cell_type": "code",
   "execution_count": 186,
   "metadata": {},
   "outputs": [
    {
     "data": {
      "text/plain": [
       "Index(['Country', 'Fraction age 0-14 years', 'Fraction age 15-64 years',\n",
       "       'Fraction age 65+ years', 'totalcases', 'totaldeath'],\n",
       "      dtype='object')"
      ]
     },
     "execution_count": 186,
     "metadata": {},
     "output_type": "execute_result"
    }
   ],
   "source": [
    "df1.columns"
   ]
  },
  {
   "cell_type": "code",
   "execution_count": 187,
   "metadata": {},
   "outputs": [
    {
     "data": {
      "text/plain": [
       "<matplotlib.axes._subplots.AxesSubplot at 0x28ece86b9c8>"
      ]
     },
     "execution_count": 187,
     "metadata": {},
     "output_type": "execute_result"
    },
    {
     "data": {
      "image/png": "[encoded data removed]",
      "text/plain": [
       "<Figure size 432x288 with 1 Axes>"
      ]
     },
     "metadata": {
      "needs_background": "light"
     },
     "output_type": "display_data"
    }
   ],
   "source": [
    "sns.boxplot(df1.totalcases)"
   ]
  },
  {
   "cell_type": "code",
   "execution_count": 189,
   "metadata": {},
   "outputs": [
    {
     "data": {
      "text/plain": [
       "<matplotlib.axes._subplots.AxesSubplot at 0x28ece90c4c8>"
      ]
     },
     "execution_count": 189,
     "metadata": {},
     "output_type": "execute_result"
    },
    {
     "data": {
      "image/png": "[encoded data removed]",
      "text/plain": [
       "<Figure size 432x288 with 1 Axes>"
      ]
     },
     "metadata": {
      "needs_background": "light"
     },
     "output_type": "display_data"
    }
   ],
   "source": [
    "sns.boxplot(df1.totaldeath)"
   ]
  },
  {
   "cell_type": "code",
   "execution_count": 196,
   "metadata": {},
   "outputs": [
    {
     "data": {
      "text/plain": [
       "<matplotlib.axes._subplots.AxesSubplot at 0x28ed057d1c8>"
      ]
     },
     "execution_count": 196,
     "metadata": {},
     "output_type": "execute_result"
    },
    {
     "data": {
      "image/png": "[encoded data removed]",
      "text/plain": [
       "<Figure size 432x288 with 1 Axes>"
      ]
     },
     "metadata": {
      "needs_background": "light"
     },
     "output_type": "display_data"
    }
   ],
   "source": [
    "sns.barplot(df1.totalcases,df1.totaldeath)"
   ]
  },
  {
   "cell_type": "code",
   "execution_count": 198,
   "metadata": {},
   "outputs": [
    {
     "data": {
      "text/plain": [
       "<matplotlib.axes._subplots.AxesSubplot at 0x28ed11d5548>"
      ]
     },
     "execution_count": 198,
     "metadata": {},
     "output_type": "execute_result"
    },
    {
     "data": {
      "image/png": "[encoded data removed]",
      "text/plain": [
       "<Figure size 432x288 with 1 Axes>"
      ]
     },
     "metadata": {
      "needs_background": "light"
     },
     "output_type": "display_data"
    }
   ],
   "source": [
    "sns.scatterplot(df1.totaldeath,df1['Fraction age 65+ years'])"
   ]
  },
  {
   "cell_type": "code",
   "execution_count": 200,
   "metadata": {},
   "outputs": [
    {
     "data": {
      "text/plain": [
       "<seaborn.axisgrid.PairGrid at 0x28ed1a21388>"
      ]
     },
     "execution_count": 200,
     "metadata": {},
     "output_type": "execute_result"
    },
    {
     "data": {
      "image/png": "[encoded data removed]",
      "text/plain": [
       "<Figure size 900x900 with 30 Axes>"
      ]
     },
     "metadata": {
      "needs_background": "light"
     },
     "output_type": "display_data"
    }
   ],
   "source": [
    "sns.pairplot(df1)"
   ]
  },
  {
   "cell_type": "markdown",
   "metadata": {},
   "source": [
    "# labeling"
   ]
  },
  {
   "cell_type": "code",
   "execution_count": 201,
   "metadata": {},
   "outputs": [],
   "source": [
    "from sklearn.preprocessing import LabelEncoder\n",
    "le=LabelEncoder()"
   ]
  },
  {
   "cell_type": "code",
   "execution_count": 202,
   "metadata": {},
   "outputs": [],
   "source": [
    "df1.Country=le.fit_transform(df1.Country)"
   ]
  },
  {
   "cell_type": "code",
   "execution_count": 203,
   "metadata": {},
   "outputs": [
    {
     "data": {
      "text/html": [
       "<div>\n",
       "<style scoped>\n",
       "    .dataframe tbody tr th:only-of-type {\n",
       "        vertical-align: middle;\n",
       "    }\n",
       "\n",
       "    .dataframe tbody tr th {\n",
       "        vertical-align: top;\n",
       "    }\n",
       "\n",
       "    .dataframe thead th {\n",
       "        text-align: right;\n",
       "    }\n",
       "</style>\n",
       "<table border=\"1\" class=\"dataframe\">\n",
       "  <thead>\n",
       "    <tr style=\"text-align: right;\">\n",
       "      <th></th>\n",
       "      <th>Country</th>\n",
       "      <th>Fraction age 0-14 years</th>\n",
       "      <th>Fraction age 15-64 years</th>\n",
       "      <th>Fraction age 65+ years</th>\n",
       "      <th>totalcases</th>\n",
       "      <th>totaldeath</th>\n",
       "    </tr>\n",
       "  </thead>\n",
       "  <tbody>\n",
       "    <tr>\n",
       "      <th>52</th>\n",
       "      <td>0</td>\n",
       "      <td>0.432</td>\n",
       "      <td>0.542</td>\n",
       "      <td>0.026</td>\n",
       "      <td>23370.0</td>\n",
       "      <td>1121.0</td>\n",
       "    </tr>\n",
       "    <tr>\n",
       "      <th>103</th>\n",
       "      <td>1</td>\n",
       "      <td>0.174</td>\n",
       "      <td>0.689</td>\n",
       "      <td>0.132</td>\n",
       "      <td>120835.0</td>\n",
       "      <td>839.0</td>\n",
       "    </tr>\n",
       "    <tr>\n",
       "      <th>50</th>\n",
       "      <td>2</td>\n",
       "      <td>0.293</td>\n",
       "      <td>0.645</td>\n",
       "      <td>0.062</td>\n",
       "      <td>26523.0</td>\n",
       "      <td>461.0</td>\n",
       "    </tr>\n",
       "    <tr>\n",
       "      <th>112</th>\n",
       "      <td>3</td>\n",
       "      <td>0.000</td>\n",
       "      <td>0.000</td>\n",
       "      <td>0.000</td>\n",
       "      <td>1907.0</td>\n",
       "      <td>76.0</td>\n",
       "    </tr>\n",
       "    <tr>\n",
       "      <th>174</th>\n",
       "      <td>4</td>\n",
       "      <td>0.468</td>\n",
       "      <td>0.508</td>\n",
       "      <td>0.024</td>\n",
       "      <td>2300.0</td>\n",
       "      <td>409.0</td>\n",
       "    </tr>\n",
       "  </tbody>\n",
       "</table>\n",
       "</div>"
      ],
      "text/plain": [
       "     Country  Fraction age 0-14 years  Fraction age 15-64 years  \\\n",
       "52         0                    0.432                     0.542   \n",
       "103        1                    0.174                     0.689   \n",
       "50         2                    0.293                     0.645   \n",
       "112        3                    0.000                     0.000   \n",
       "174        4                    0.468                     0.508   \n",
       "\n",
       "     Fraction age 65+ years  totalcases  totaldeath  \n",
       "52                    0.026     23370.0      1121.0  \n",
       "103                   0.132    120835.0       839.0  \n",
       "50                    0.062     26523.0       461.0  \n",
       "112                   0.000      1907.0        76.0  \n",
       "174                   0.024      2300.0       409.0  "
      ]
     },
     "execution_count": 203,
     "metadata": {},
     "output_type": "execute_result"
    }
   ],
   "source": [
    "df1.head()"
   ]
  },
  {
   "cell_type": "markdown",
   "metadata": {},
   "source": [
    "# correlation"
   ]
  },
  {
   "cell_type": "code",
   "execution_count": 206,
   "metadata": {},
   "outputs": [
    {
     "data": {
      "text/html": [
       "<div>\n",
       "<style scoped>\n",
       "    .dataframe tbody tr th:only-of-type {\n",
       "        vertical-align: middle;\n",
       "    }\n",
       "\n",
       "    .dataframe tbody tr th {\n",
       "        vertical-align: top;\n",
       "    }\n",
       "\n",
       "    .dataframe thead th {\n",
       "        text-align: right;\n",
       "    }\n",
       "</style>\n",
       "<table border=\"1\" class=\"dataframe\">\n",
       "  <thead>\n",
       "    <tr style=\"text-align: right;\">\n",
       "      <th></th>\n",
       "      <th>Country</th>\n",
       "      <th>Fraction age 0-14 years</th>\n",
       "      <th>Fraction age 15-64 years</th>\n",
       "      <th>Fraction age 65+ years</th>\n",
       "      <th>totalcases</th>\n",
       "      <th>totaldeath</th>\n",
       "    </tr>\n",
       "  </thead>\n",
       "  <tbody>\n",
       "    <tr>\n",
       "      <th>Country</th>\n",
       "      <td>1.000000</td>\n",
       "      <td>0.014318</td>\n",
       "      <td>0.009093</td>\n",
       "      <td>-0.023663</td>\n",
       "      <td>0.036431</td>\n",
       "      <td>0.041536</td>\n",
       "    </tr>\n",
       "    <tr>\n",
       "      <th>Fraction age 0-14 years</th>\n",
       "      <td>0.014318</td>\n",
       "      <td>1.000000</td>\n",
       "      <td>0.573765</td>\n",
       "      <td>-0.106074</td>\n",
       "      <td>-0.111802</td>\n",
       "      <td>-0.078066</td>\n",
       "    </tr>\n",
       "    <tr>\n",
       "      <th>Fraction age 15-64 years</th>\n",
       "      <td>0.009093</td>\n",
       "      <td>0.573765</td>\n",
       "      <td>1.000000</td>\n",
       "      <td>0.568106</td>\n",
       "      <td>-0.137042</td>\n",
       "      <td>-0.068214</td>\n",
       "    </tr>\n",
       "    <tr>\n",
       "      <th>Fraction age 65+ years</th>\n",
       "      <td>-0.023663</td>\n",
       "      <td>-0.106074</td>\n",
       "      <td>0.568106</td>\n",
       "      <td>1.000000</td>\n",
       "      <td>-0.069280</td>\n",
       "      <td>-0.024735</td>\n",
       "    </tr>\n",
       "    <tr>\n",
       "      <th>totalcases</th>\n",
       "      <td>0.036431</td>\n",
       "      <td>-0.111802</td>\n",
       "      <td>-0.137042</td>\n",
       "      <td>-0.069280</td>\n",
       "      <td>1.000000</td>\n",
       "      <td>0.935523</td>\n",
       "    </tr>\n",
       "    <tr>\n",
       "      <th>totaldeath</th>\n",
       "      <td>0.041536</td>\n",
       "      <td>-0.078066</td>\n",
       "      <td>-0.068214</td>\n",
       "      <td>-0.024735</td>\n",
       "      <td>0.935523</td>\n",
       "      <td>1.000000</td>\n",
       "    </tr>\n",
       "  </tbody>\n",
       "</table>\n",
       "</div>"
      ],
      "text/plain": [
       "                           Country  Fraction age 0-14 years  \\\n",
       "Country                   1.000000                 0.014318   \n",
       "Fraction age 0-14 years   0.014318                 1.000000   \n",
       "Fraction age 15-64 years  0.009093                 0.573765   \n",
       "Fraction age 65+ years   -0.023663                -0.106074   \n",
       "totalcases                0.036431                -0.111802   \n",
       "totaldeath                0.041536                -0.078066   \n",
       "\n",
       "                          Fraction age 15-64 years  Fraction age 65+ years  \\\n",
       "Country                                   0.009093               -0.023663   \n",
       "Fraction age 0-14 years                   0.573765               -0.106074   \n",
       "Fraction age 15-64 years                  1.000000                0.568106   \n",
       "Fraction age 65+ years                    0.568106                1.000000   \n",
       "totalcases                               -0.137042               -0.069280   \n",
       "totaldeath                               -0.068214               -0.024735   \n",
       "\n",
       "                          totalcases  totaldeath  \n",
       "Country                     0.036431    0.041536  \n",
       "Fraction age 0-14 years    -0.111802   -0.078066  \n",
       "Fraction age 15-64 years   -0.137042   -0.068214  \n",
       "Fraction age 65+ years     -0.069280   -0.024735  \n",
       "totalcases                  1.000000    0.935523  \n",
       "totaldeath                  0.935523    1.000000  "
      ]
     },
     "execution_count": 206,
     "metadata": {},
     "output_type": "execute_result"
    }
   ],
   "source": [
    "df1.corr()"
   ]
  },
  {
   "cell_type": "code",
   "execution_count": 207,
   "metadata": {},
   "outputs": [
    {
     "data": {
      "text/plain": [
       "<matplotlib.axes._subplots.AxesSubplot at 0x28ed3cb3b88>"
      ]
     },
     "execution_count": 207,
     "metadata": {},
     "output_type": "execute_result"
    },
    {
     "data": {
      "image/png": "[encoded data removed]",
      "text/plain": [
       "<Figure size 432x288 with 2 Axes>"
      ]
     },
     "metadata": {
      "needs_background": "light"
     },
     "output_type": "display_data"
    }
   ],
   "source": [
    "sns.heatmap(df1.corr(),annot=True)"
   ]
  },
  {
   "cell_type": "markdown",
   "metadata": {},
   "source": [
    "here we can see the relation between the age and death and total cases and death"
   ]
  },
  {
   "cell_type": "markdown",
   "metadata": {},
   "source": [
    "# setting x and y variable"
   ]
  },
  {
   "cell_type": "code",
   "execution_count": 208,
   "metadata": {},
   "outputs": [],
   "source": [
    "x=df1.iloc[:,0:-1]"
   ]
  },
  {
   "cell_type": "code",
   "execution_count": 209,
   "metadata": {},
   "outputs": [],
   "source": [
    "y=df1.iloc[:,-1]"
   ]
  },
  {
   "cell_type": "code",
   "execution_count": 210,
   "metadata": {},
   "outputs": [
    {
     "data": {
      "text/plain": [
       "(213, 5)"
      ]
     },
     "execution_count": 210,
     "metadata": {},
     "output_type": "execute_result"
    }
   ],
   "source": [
    "x.shape"
   ]
  },
  {
   "cell_type": "code",
   "execution_count": 211,
   "metadata": {},
   "outputs": [
    {
     "data": {
      "text/plain": [
       "(213,)"
      ]
     },
     "execution_count": 211,
     "metadata": {},
     "output_type": "execute_result"
    }
   ],
   "source": [
    "y.shape"
   ]
  },
  {
   "cell_type": "markdown",
   "metadata": {},
   "source": [
    "# StandardScaler"
   ]
  },
  {
   "cell_type": "code",
   "execution_count": 248,
   "metadata": {},
   "outputs": [],
   "source": [
    "from sklearn.preprocessing import StandardScaler\n",
    "scale=StandardScaler()\n",
    "x=scale.fit_transform(x)"
   ]
  },
  {
   "cell_type": "markdown",
   "metadata": {},
   "source": [
    "# Regression Process"
   ]
  },
  {
   "cell_type": "code",
   "execution_count": 249,
   "metadata": {},
   "outputs": [],
   "source": [
    "from sklearn.model_selection import train_test_split,cross_val_score,GridSearchCV\n",
    "from sklearn.linear_model import LinearRegression\n",
    "from sklearn.metrics import mean_squared_error,mean_absolute_error,r2_score"
   ]
  },
  {
   "cell_type": "code",
   "execution_count": 250,
   "metadata": {},
   "outputs": [],
   "source": [
    "def max_r2_score(rgr,x,y):\n",
    "    max_score=0\n",
    "    for r in range(42,101):\n",
    "        \n",
    "        x_train,x_test,y_train,y_test=train_test_split(x,y,test_size=.20,random_state=r)\n",
    "        rgr.fit(x_train,y_train)\n",
    "        pred=rgr.predict(x_test)\n",
    "        r_sc=r2_score(y_test,pred)\n",
    "        if r_sc>max_score:\n",
    "            max_score=r_sc\n",
    "            r_state=r\n",
    "            \n",
    "    print('max score at random_state of',r_state,'is',max_score)\n",
    "    return r_state"
   ]
  },
  {
   "cell_type": "code",
   "execution_count": 251,
   "metadata": {},
   "outputs": [
    {
     "name": "stdout",
     "output_type": "stream",
     "text": [
      "max score at random_state of 66 is 0.8882059358818115\n"
     ]
    }
   ],
   "source": [
    "lr=LinearRegression()\n",
    "sc=max_r2_score(lr,x,y)"
   ]
  },
  {
   "cell_type": "code",
   "execution_count": 252,
   "metadata": {},
   "outputs": [],
   "source": [
    "x_train,x_test,y_train,y_test=train_test_split(x,y,test_size=.20,random_state=66)\n",
    "lr.fit(x_train,y_train)\n",
    "pred=lr.predict(x_test)"
   ]
  },
  {
   "cell_type": "code",
   "execution_count": 253,
   "metadata": {},
   "outputs": [
    {
     "name": "stdout",
     "output_type": "stream",
     "text": [
      "0.8882059358818115\n",
      "\n",
      "\n",
      "RMSE 15631.528184209916\n"
     ]
    }
   ],
   "source": [
    "print(r2_score(y_test,pred))\n",
    "print('\\n')\n",
    "print('RMSE',np.sqrt(mean_squared_error(y_test,pred)))"
   ]
  },
  {
   "cell_type": "code",
   "execution_count": 254,
   "metadata": {},
   "outputs": [
    {
     "name": "stdout",
     "output_type": "stream",
     "text": [
      "[-1.64816174  0.64518553  0.69284538  0.48783996  0.69417603]\n",
      "0.17437703303777413\n",
      "0.9143924359271657\n"
     ]
    }
   ],
   "source": [
    "score=cross_val_score(lr,x,y,cv=5,scoring='r2')\n",
    "print(score)\n",
    "print(score.mean())\n",
    "print(score.std())"
   ]
  },
  {
   "cell_type": "code",
   "execution_count": 255,
   "metadata": {},
   "outputs": [],
   "source": [
    "lr_score=r2_score(y_test,pred),cross_val_score(lr,x,y,cv=5).mean()"
   ]
  },
  {
   "cell_type": "markdown",
   "metadata": {},
   "source": [
    "# Lasso"
   ]
  },
  {
   "cell_type": "code",
   "execution_count": 256,
   "metadata": {},
   "outputs": [
    {
     "data": {
      "text/plain": [
       "{'alpha': 1}"
      ]
     },
     "execution_count": 256,
     "metadata": {},
     "output_type": "execute_result"
    }
   ],
   "source": [
    "from sklearn.linear_model import Lasso\n",
    "lsr=Lasso()\n",
    "pr={'alpha':[.0001,.001,.01,.1,1]}\n",
    "gs=GridSearchCV(lsr,pr,cv=5)\n",
    "gs.fit(x,y)\n",
    "gs.best_params_"
   ]
  },
  {
   "cell_type": "code",
   "execution_count": 257,
   "metadata": {},
   "outputs": [
    {
     "name": "stdout",
     "output_type": "stream",
     "text": [
      "max score at random_state of 66 is 0.8882175735004734\n"
     ]
    }
   ],
   "source": [
    "lsr=Lasso(alpha=1)\n",
    "sc=max_r2_score(lsr,x,y)"
   ]
  },
  {
   "cell_type": "code",
   "execution_count": 258,
   "metadata": {},
   "outputs": [],
   "source": [
    "x_train,x_test,y_train,y_test=train_test_split(x,y,test_size=.20,random_state=66)\n",
    "lsr.fit(x_train,y_train)\n",
    "pred=lsr.predict(x_test)"
   ]
  },
  {
   "cell_type": "code",
   "execution_count": 259,
   "metadata": {},
   "outputs": [
    {
     "name": "stdout",
     "output_type": "stream",
     "text": [
      "0.8882175735004734\n",
      "\n",
      "\n",
      "RMSE 15630.714552019159\n"
     ]
    }
   ],
   "source": [
    "print(r2_score(y_test,pred))\n",
    "print('\\n')\n",
    "print('RMSE',np.sqrt(mean_squared_error(y_test,pred)))"
   ]
  },
  {
   "cell_type": "code",
   "execution_count": 260,
   "metadata": {},
   "outputs": [
    {
     "name": "stdout",
     "output_type": "stream",
     "text": [
      "[-1.64784994  0.6451888   0.69284552  0.4879096   0.69417453]\n",
      "0.1744537007214745\n",
      "0.9142731022992717\n"
     ]
    }
   ],
   "source": [
    "score=cross_val_score(lsr,x,y,cv=5,scoring='r2')\n",
    "print(score)\n",
    "print(score.mean())\n",
    "print(score.std())"
   ]
  },
  {
   "cell_type": "code",
   "execution_count": 261,
   "metadata": {},
   "outputs": [],
   "source": [
    "lsr_score=r2_score(y_test,pred),cross_val_score(lsr,x,y,cv=5).mean()"
   ]
  },
  {
   "cell_type": "markdown",
   "metadata": {},
   "source": [
    "# Kneighborsregressor"
   ]
  },
  {
   "cell_type": "code",
   "execution_count": 262,
   "metadata": {},
   "outputs": [
    {
     "data": {
      "text/plain": [
       "{'n_neighbors': 2}"
      ]
     },
     "execution_count": 262,
     "metadata": {},
     "output_type": "execute_result"
    }
   ],
   "source": [
    "from sklearn.neighbors import KNeighborsRegressor\n",
    "knn=KNeighborsRegressor()\n",
    "pr={'n_neighbors':range(1,30)}\n",
    "gs=GridSearchCV(knn,pr,cv=5)\n",
    "gs.fit(x,y)\n",
    "gs.best_params_"
   ]
  },
  {
   "cell_type": "code",
   "execution_count": 265,
   "metadata": {},
   "outputs": [
    {
     "name": "stdout",
     "output_type": "stream",
     "text": [
      "max score at random_state of 50 is 0.8884910395884301\n"
     ]
    }
   ],
   "source": [
    "#taking odd no as n_neighbors\n",
    "knn=KNeighborsRegressor(n_neighbors=3)\n",
    "sc=max_r2_score(knn,x,y)"
   ]
  },
  {
   "cell_type": "code",
   "execution_count": 266,
   "metadata": {},
   "outputs": [],
   "source": [
    "x_train,x_test,y_train,y_test=train_test_split(x,y,test_size=.20,random_state=50)\n",
    "knn.fit(x_train,y_train)\n",
    "pred=knn.predict(x_test)"
   ]
  },
  {
   "cell_type": "code",
   "execution_count": 267,
   "metadata": {},
   "outputs": [
    {
     "name": "stdout",
     "output_type": "stream",
     "text": [
      "0.8884910395884301\n",
      "\n",
      "\n",
      "RMSE 45690.26855061579\n"
     ]
    }
   ],
   "source": [
    "print(r2_score(y_test,pred))\n",
    "print('\\n')\n",
    "print('RMSE',np.sqrt(mean_squared_error(y_test,pred)))"
   ]
  },
  {
   "cell_type": "code",
   "execution_count": 268,
   "metadata": {},
   "outputs": [
    {
     "name": "stdout",
     "output_type": "stream",
     "text": [
      "[-0.01914165  0.67047205  0.68497911  0.49260248  0.90741519]\n",
      "0.5472654361438652\n",
      "0.31230043062305757\n"
     ]
    }
   ],
   "source": [
    "score=cross_val_score(knn,x,y,cv=5,scoring='r2')\n",
    "print(score)\n",
    "print(score.mean())\n",
    "print(score.std())"
   ]
  },
  {
   "cell_type": "code",
   "execution_count": 269,
   "metadata": {},
   "outputs": [],
   "source": [
    "knn_score=r2_score(y_test,pred),cross_val_score(knn,x,y,cv=5).mean()"
   ]
  },
  {
   "cell_type": "markdown",
   "metadata": {},
   "source": [
    "# RandomForestRegressor"
   ]
  },
  {
   "cell_type": "code",
   "execution_count": 270,
   "metadata": {},
   "outputs": [
    {
     "data": {
      "text/plain": [
       "{'n_estimators': 200}"
      ]
     },
     "execution_count": 270,
     "metadata": {},
     "output_type": "execute_result"
    }
   ],
   "source": [
    "from sklearn.ensemble import RandomForestRegressor\n",
    "rf=RandomForestRegressor()\n",
    "pr={'n_estimators':[10,50,100,150,200,250,300]}\n",
    "gs=GridSearchCV(rf,pr,cv=5)\n",
    "gs.fit(x,y)\n",
    "gs.best_params_"
   ]
  },
  {
   "cell_type": "code",
   "execution_count": 271,
   "metadata": {},
   "outputs": [
    {
     "name": "stdout",
     "output_type": "stream",
     "text": [
      "max score at random_state of 75 is 0.9882389685971644\n"
     ]
    },
    {
     "data": {
      "text/plain": [
       "75"
      ]
     },
     "execution_count": 271,
     "metadata": {},
     "output_type": "execute_result"
    }
   ],
   "source": [
    "rf=RandomForestRegressor(n_estimators=200)\n",
    "max_r2_score(rf,x,y)\n"
   ]
  },
  {
   "cell_type": "code",
   "execution_count": 272,
   "metadata": {},
   "outputs": [],
   "source": [
    "x_train,x_test,y_train,y_test=train_test_split(x,y,test_size=.20,random_state=75)\n",
    "rf.fit(x_train,y_train)\n",
    "pred=rf.predict(x_test)"
   ]
  },
  {
   "cell_type": "code",
   "execution_count": 273,
   "metadata": {},
   "outputs": [
    {
     "name": "stdout",
     "output_type": "stream",
     "text": [
      "0.9840202331232553\n",
      "\n",
      "\n",
      "RMSE 16865.199620699957\n"
     ]
    }
   ],
   "source": [
    "print(r2_score(y_test,pred))\n",
    "print('\\n')\n",
    "print('RMSE',np.sqrt(mean_squared_error(y_test,pred)))"
   ]
  },
  {
   "cell_type": "code",
   "execution_count": 274,
   "metadata": {},
   "outputs": [
    {
     "name": "stdout",
     "output_type": "stream",
     "text": [
      "[-3.40708357  0.94676477  0.98604948  0.60697334  0.71145404]\n",
      "-0.031168389780657835\n",
      "1.6939068264437338\n"
     ]
    }
   ],
   "source": [
    "score=cross_val_score(rf,x,y,cv=5,scoring='r2')\n",
    "print(score)\n",
    "print(score.mean())\n",
    "print(score.std())"
   ]
  },
  {
   "cell_type": "code",
   "execution_count": 275,
   "metadata": {},
   "outputs": [],
   "source": [
    "rf_score=r2_score(y_test,pred),cross_val_score(rf,x,y,cv=5).mean()"
   ]
  },
  {
   "cell_type": "markdown",
   "metadata": {},
   "source": [
    "# GradientBoostingRegressor"
   ]
  },
  {
   "cell_type": "code",
   "execution_count": 281,
   "metadata": {},
   "outputs": [
    {
     "data": {
      "text/plain": [
       "{'learning_rate': 0.1, 'n_estimators': 50}"
      ]
     },
     "execution_count": 281,
     "metadata": {},
     "output_type": "execute_result"
    }
   ],
   "source": [
    "from sklearn.ensemble import GradientBoostingRegressor\n",
    "gb=GradientBoostingRegressor()\n",
    "pr={'n_estimators':[10,50,100,150,200,250,300],'learning_rate':[.0001,.001,.01,.1,1]}\n",
    "gs=GridSearchCV(gb,pr,cv=5)\n",
    "gs.fit(x,y)\n",
    "gs.best_params_"
   ]
  },
  {
   "cell_type": "code",
   "execution_count": 282,
   "metadata": {},
   "outputs": [
    {
     "name": "stdout",
     "output_type": "stream",
     "text": [
      "max score at random_state of 71 is 0.9948640338130851\n"
     ]
    },
    {
     "data": {
      "text/plain": [
       "71"
      ]
     },
     "execution_count": 282,
     "metadata": {},
     "output_type": "execute_result"
    }
   ],
   "source": [
    "gb=GradientBoostingRegressor(learning_rate=.1,n_estimators=50)\n",
    "max_r2_score(gb,x,y)\n"
   ]
  },
  {
   "cell_type": "code",
   "execution_count": 283,
   "metadata": {},
   "outputs": [],
   "source": [
    "x_train,x_test,y_train,y_test=train_test_split(x,y,test_size=.20,random_state=71)\n",
    "gb.fit(x_train,y_train)\n",
    "pred=rf.predict(x_test)"
   ]
  },
  {
   "cell_type": "code",
   "execution_count": 284,
   "metadata": {},
   "outputs": [
    {
     "name": "stdout",
     "output_type": "stream",
     "text": [
      "0.9925521747047481\n",
      "\n",
      "\n",
      "RMSE 10724.703382116626\n"
     ]
    }
   ],
   "source": [
    "print(r2_score(y_test,pred))\n",
    "print('\\n')\n",
    "print('RMSE',np.sqrt(mean_squared_error(y_test,pred)))"
   ]
  },
  {
   "cell_type": "code",
   "execution_count": 285,
   "metadata": {},
   "outputs": [
    {
     "name": "stdout",
     "output_type": "stream",
     "text": [
      "[-5.72222732  0.94376563  0.9881014   0.6031539   0.71530897]\n",
      "-0.49437948483042626\n",
      "2.6177979167689864\n"
     ]
    }
   ],
   "source": [
    "score=cross_val_score(rf,x,y,cv=5,scoring='r2')\n",
    "print(score)\n",
    "print(score.mean())\n",
    "print(score.std())"
   ]
  },
  {
   "cell_type": "code",
   "execution_count": 286,
   "metadata": {},
   "outputs": [],
   "source": [
    "gb_score=r2_score(y_test,pred),cross_val_score(gb,x,y,cv=5).mean()"
   ]
  },
  {
   "cell_type": "markdown",
   "metadata": {},
   "source": [
    "# model seving"
   ]
  },
  {
   "cell_type": "code",
   "execution_count": 287,
   "metadata": {},
   "outputs": [],
   "source": [
    "data={'linear':lr_score,'lasso':lsr_score,'kneighbors':knn_score,'randomforest':rf_score,'gradient':gb_score}"
   ]
  },
  {
   "cell_type": "code",
   "execution_count": 288,
   "metadata": {},
   "outputs": [],
   "source": [
    "selection=pd.DataFrame(data,index=['r2_score','cross_val_score'])"
   ]
  },
  {
   "cell_type": "code",
   "execution_count": 289,
   "metadata": {},
   "outputs": [
    {
     "data": {
      "text/html": [
       "<div>\n",
       "<style scoped>\n",
       "    .dataframe tbody tr th:only-of-type {\n",
       "        vertical-align: middle;\n",
       "    }\n",
       "\n",
       "    .dataframe tbody tr th {\n",
       "        vertical-align: top;\n",
       "    }\n",
       "\n",
       "    .dataframe thead th {\n",
       "        text-align: right;\n",
       "    }\n",
       "</style>\n",
       "<table border=\"1\" class=\"dataframe\">\n",
       "  <thead>\n",
       "    <tr style=\"text-align: right;\">\n",
       "      <th></th>\n",
       "      <th>linear</th>\n",
       "      <th>lasso</th>\n",
       "      <th>kneighbors</th>\n",
       "      <th>randomforest</th>\n",
       "      <th>gradient</th>\n",
       "    </tr>\n",
       "  </thead>\n",
       "  <tbody>\n",
       "    <tr>\n",
       "      <th>r2_score</th>\n",
       "      <td>0.888206</td>\n",
       "      <td>0.888218</td>\n",
       "      <td>0.888491</td>\n",
       "      <td>0.984020</td>\n",
       "      <td>0.992552</td>\n",
       "    </tr>\n",
       "    <tr>\n",
       "      <th>cross_val_score</th>\n",
       "      <td>0.174377</td>\n",
       "      <td>0.174454</td>\n",
       "      <td>0.547265</td>\n",
       "      <td>-0.354261</td>\n",
       "      <td>0.656249</td>\n",
       "    </tr>\n",
       "  </tbody>\n",
       "</table>\n",
       "</div>"
      ],
      "text/plain": [
       "                   linear     lasso  kneighbors  randomforest  gradient\n",
       "r2_score         0.888206  0.888218    0.888491      0.984020  0.992552\n",
       "cross_val_score  0.174377  0.174454    0.547265     -0.354261  0.656249"
      ]
     },
     "execution_count": 289,
     "metadata": {},
     "output_type": "execute_result"
    }
   ],
   "source": [
    "selection"
   ]
  },
  {
   "cell_type": "markdown",
   "metadata": {},
   "source": [
    "in this dataset gradientboot is performing well so we select the gradient model for this dataset"
   ]
  },
  {
   "cell_type": "code",
   "execution_count": 290,
   "metadata": {},
   "outputs": [],
   "source": [
    "from sklearn.externals import joblib"
   ]
  },
  {
   "cell_type": "code",
   "execution_count": 291,
   "metadata": {},
   "outputs": [
    {
     "data": {
      "text/plain": [
       "['gradient_model_Covid_dataset.obj']"
      ]
     },
     "execution_count": 291,
     "metadata": {},
     "output_type": "execute_result"
    }
   ],
   "source": [
    "joblib.dump(gb,'gradient_model_Covid_dataset.obj')"
   ]
  },
  {
   "cell_type": "code",
   "execution_count": null,
   "metadata": {},
   "outputs": [],
   "source": []
  }
 ],
 "metadata": {
  "kernelspec": {
   "display_name": "Python 3",
   "language": "python",
   "name": "python3"
  },
  "language_info": {
   "codemirror_mode": {
    "name": "ipython",
    "version": 3
   },
   "file_extension": ".py",
   "mimetype": "text/x-python",
   "name": "python",
   "nbconvert_exporter": "python",
   "pygments_lexer": "ipython3",
   "version": "3.7.6"
  }
 },
 "nbformat": 4,
 "nbformat_minor": 4
}
