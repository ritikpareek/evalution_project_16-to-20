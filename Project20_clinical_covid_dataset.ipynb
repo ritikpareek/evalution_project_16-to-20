{
 "cells": [
  {
   "cell_type": "code",
   "execution_count": 1,
   "metadata": {},
   "outputs": [],
   "source": [
    "import numpy as np\n",
    "import pandas as pd\n",
    "import matplotlib.pyplot as plt\n",
    "%matplotlib inline \n",
    "import seaborn as sns\n",
    "import warnings\n",
    "warnings.filterwarnings('ignore')"
   ]
  },
  {
   "cell_type": "code",
   "execution_count": 2,
   "metadata": {},
   "outputs": [],
   "source": [
    "ds=pd.read_excel('covid19_clinical_dataset.xlsx')"
   ]
  },
  {
   "cell_type": "code",
   "execution_count": 3,
   "metadata": {},
   "outputs": [],
   "source": [
    "df=pd.DataFrame(ds)"
   ]
  },
  {
   "cell_type": "code",
   "execution_count": 4,
   "metadata": {},
   "outputs": [
    {
     "data": {
      "text/html": [
       "<div>\n",
       "<style scoped>\n",
       "    .dataframe tbody tr th:only-of-type {\n",
       "        vertical-align: middle;\n",
       "    }\n",
       "\n",
       "    .dataframe tbody tr th {\n",
       "        vertical-align: top;\n",
       "    }\n",
       "\n",
       "    .dataframe thead th {\n",
       "        text-align: right;\n",
       "    }\n",
       "</style>\n",
       "<table border=\"1\" class=\"dataframe\">\n",
       "  <thead>\n",
       "    <tr style=\"text-align: right;\">\n",
       "      <th></th>\n",
       "      <th>Patient ID</th>\n",
       "      <th>Patient age quantile</th>\n",
       "      <th>SARS-Cov-2 exam result</th>\n",
       "      <th>Patient addmited to regular ward (1=yes, 0=no)</th>\n",
       "      <th>Patient addmited to semi-intensive unit (1=yes, 0=no)</th>\n",
       "      <th>Patient addmited to intensive care unit (1=yes, 0=no)</th>\n",
       "      <th>Hematocrit</th>\n",
       "      <th>Hemoglobin</th>\n",
       "      <th>Platelets</th>\n",
       "      <th>Mean platelet volume</th>\n",
       "      <th>...</th>\n",
       "      <th>Hb saturation (arterial blood gases)</th>\n",
       "      <th>pCO2 (arterial blood gas analysis)</th>\n",
       "      <th>Base excess (arterial blood gas analysis)</th>\n",
       "      <th>pH (arterial blood gas analysis)</th>\n",
       "      <th>Total CO2 (arterial blood gas analysis)</th>\n",
       "      <th>HCO3 (arterial blood gas analysis)</th>\n",
       "      <th>pO2 (arterial blood gas analysis)</th>\n",
       "      <th>Arteiral Fio2</th>\n",
       "      <th>Phosphor</th>\n",
       "      <th>ctO2 (arterial blood gas analysis)</th>\n",
       "    </tr>\n",
       "  </thead>\n",
       "  <tbody>\n",
       "    <tr>\n",
       "      <th>0</th>\n",
       "      <td>44477f75e8169d2</td>\n",
       "      <td>13</td>\n",
       "      <td>negative</td>\n",
       "      <td>0</td>\n",
       "      <td>0</td>\n",
       "      <td>0</td>\n",
       "      <td>NaN</td>\n",
       "      <td>NaN</td>\n",
       "      <td>NaN</td>\n",
       "      <td>NaN</td>\n",
       "      <td>...</td>\n",
       "      <td>NaN</td>\n",
       "      <td>NaN</td>\n",
       "      <td>NaN</td>\n",
       "      <td>NaN</td>\n",
       "      <td>NaN</td>\n",
       "      <td>NaN</td>\n",
       "      <td>NaN</td>\n",
       "      <td>NaN</td>\n",
       "      <td>NaN</td>\n",
       "      <td>NaN</td>\n",
       "    </tr>\n",
       "    <tr>\n",
       "      <th>1</th>\n",
       "      <td>126e9dd13932f68</td>\n",
       "      <td>17</td>\n",
       "      <td>negative</td>\n",
       "      <td>0</td>\n",
       "      <td>0</td>\n",
       "      <td>0</td>\n",
       "      <td>0.236515</td>\n",
       "      <td>-0.02234</td>\n",
       "      <td>-0.517413</td>\n",
       "      <td>0.010677</td>\n",
       "      <td>...</td>\n",
       "      <td>NaN</td>\n",
       "      <td>NaN</td>\n",
       "      <td>NaN</td>\n",
       "      <td>NaN</td>\n",
       "      <td>NaN</td>\n",
       "      <td>NaN</td>\n",
       "      <td>NaN</td>\n",
       "      <td>NaN</td>\n",
       "      <td>NaN</td>\n",
       "      <td>NaN</td>\n",
       "    </tr>\n",
       "    <tr>\n",
       "      <th>2</th>\n",
       "      <td>a46b4402a0e5696</td>\n",
       "      <td>8</td>\n",
       "      <td>negative</td>\n",
       "      <td>0</td>\n",
       "      <td>0</td>\n",
       "      <td>0</td>\n",
       "      <td>NaN</td>\n",
       "      <td>NaN</td>\n",
       "      <td>NaN</td>\n",
       "      <td>NaN</td>\n",
       "      <td>...</td>\n",
       "      <td>NaN</td>\n",
       "      <td>NaN</td>\n",
       "      <td>NaN</td>\n",
       "      <td>NaN</td>\n",
       "      <td>NaN</td>\n",
       "      <td>NaN</td>\n",
       "      <td>NaN</td>\n",
       "      <td>NaN</td>\n",
       "      <td>NaN</td>\n",
       "      <td>NaN</td>\n",
       "    </tr>\n",
       "    <tr>\n",
       "      <th>3</th>\n",
       "      <td>f7d619a94f97c45</td>\n",
       "      <td>5</td>\n",
       "      <td>negative</td>\n",
       "      <td>0</td>\n",
       "      <td>0</td>\n",
       "      <td>0</td>\n",
       "      <td>NaN</td>\n",
       "      <td>NaN</td>\n",
       "      <td>NaN</td>\n",
       "      <td>NaN</td>\n",
       "      <td>...</td>\n",
       "      <td>NaN</td>\n",
       "      <td>NaN</td>\n",
       "      <td>NaN</td>\n",
       "      <td>NaN</td>\n",
       "      <td>NaN</td>\n",
       "      <td>NaN</td>\n",
       "      <td>NaN</td>\n",
       "      <td>NaN</td>\n",
       "      <td>NaN</td>\n",
       "      <td>NaN</td>\n",
       "    </tr>\n",
       "    <tr>\n",
       "      <th>4</th>\n",
       "      <td>d9e41465789c2b5</td>\n",
       "      <td>15</td>\n",
       "      <td>negative</td>\n",
       "      <td>0</td>\n",
       "      <td>0</td>\n",
       "      <td>0</td>\n",
       "      <td>NaN</td>\n",
       "      <td>NaN</td>\n",
       "      <td>NaN</td>\n",
       "      <td>NaN</td>\n",
       "      <td>...</td>\n",
       "      <td>NaN</td>\n",
       "      <td>NaN</td>\n",
       "      <td>NaN</td>\n",
       "      <td>NaN</td>\n",
       "      <td>NaN</td>\n",
       "      <td>NaN</td>\n",
       "      <td>NaN</td>\n",
       "      <td>NaN</td>\n",
       "      <td>NaN</td>\n",
       "      <td>NaN</td>\n",
       "    </tr>\n",
       "  </tbody>\n",
       "</table>\n",
       "<p>5 rows × 111 columns</p>\n",
       "</div>"
      ],
      "text/plain": [
       "        Patient ID  Patient age quantile SARS-Cov-2 exam result  \\\n",
       "0  44477f75e8169d2                    13               negative   \n",
       "1  126e9dd13932f68                    17               negative   \n",
       "2  a46b4402a0e5696                     8               negative   \n",
       "3  f7d619a94f97c45                     5               negative   \n",
       "4  d9e41465789c2b5                    15               negative   \n",
       "\n",
       "   Patient addmited to regular ward (1=yes, 0=no)  \\\n",
       "0                                               0   \n",
       "1                                               0   \n",
       "2                                               0   \n",
       "3                                               0   \n",
       "4                                               0   \n",
       "\n",
       "   Patient addmited to semi-intensive unit (1=yes, 0=no)  \\\n",
       "0                                                  0       \n",
       "1                                                  0       \n",
       "2                                                  0       \n",
       "3                                                  0       \n",
       "4                                                  0       \n",
       "\n",
       "   Patient addmited to intensive care unit (1=yes, 0=no)  Hematocrit  \\\n",
       "0                                                  0             NaN   \n",
       "1                                                  0        0.236515   \n",
       "2                                                  0             NaN   \n",
       "3                                                  0             NaN   \n",
       "4                                                  0             NaN   \n",
       "\n",
       "   Hemoglobin  Platelets  Mean platelet volume   ...  \\\n",
       "0         NaN        NaN                    NaN  ...   \n",
       "1    -0.02234  -0.517413               0.010677  ...   \n",
       "2         NaN        NaN                    NaN  ...   \n",
       "3         NaN        NaN                    NaN  ...   \n",
       "4         NaN        NaN                    NaN  ...   \n",
       "\n",
       "   Hb saturation (arterial blood gases)  pCO2 (arterial blood gas analysis)  \\\n",
       "0                                   NaN                                 NaN   \n",
       "1                                   NaN                                 NaN   \n",
       "2                                   NaN                                 NaN   \n",
       "3                                   NaN                                 NaN   \n",
       "4                                   NaN                                 NaN   \n",
       "\n",
       "   Base excess (arterial blood gas analysis)  \\\n",
       "0                                        NaN   \n",
       "1                                        NaN   \n",
       "2                                        NaN   \n",
       "3                                        NaN   \n",
       "4                                        NaN   \n",
       "\n",
       "   pH (arterial blood gas analysis)  Total CO2 (arterial blood gas analysis)  \\\n",
       "0                               NaN                                      NaN   \n",
       "1                               NaN                                      NaN   \n",
       "2                               NaN                                      NaN   \n",
       "3                               NaN                                      NaN   \n",
       "4                               NaN                                      NaN   \n",
       "\n",
       "   HCO3 (arterial blood gas analysis)  pO2 (arterial blood gas analysis)  \\\n",
       "0                                 NaN                                NaN   \n",
       "1                                 NaN                                NaN   \n",
       "2                                 NaN                                NaN   \n",
       "3                                 NaN                                NaN   \n",
       "4                                 NaN                                NaN   \n",
       "\n",
       "   Arteiral Fio2  Phosphor  ctO2 (arterial blood gas analysis)  \n",
       "0            NaN       NaN                                 NaN  \n",
       "1            NaN       NaN                                 NaN  \n",
       "2            NaN       NaN                                 NaN  \n",
       "3            NaN       NaN                                 NaN  \n",
       "4            NaN       NaN                                 NaN  \n",
       "\n",
       "[5 rows x 111 columns]"
      ]
     },
     "execution_count": 4,
     "metadata": {},
     "output_type": "execute_result"
    }
   ],
   "source": [
    "df.head()"
   ]
  },
  {
   "cell_type": "code",
   "execution_count": 5,
   "metadata": {},
   "outputs": [
    {
     "data": {
      "text/plain": [
       "(5644, 111)"
      ]
     },
     "execution_count": 5,
     "metadata": {},
     "output_type": "execute_result"
    }
   ],
   "source": [
    "df.shape"
   ]
  },
  {
   "cell_type": "code",
   "execution_count": 8,
   "metadata": {},
   "outputs": [
    {
     "name": "stdout",
     "output_type": "stream",
     "text": [
      "<class 'pandas.core.frame.DataFrame'>\n",
      "RangeIndex: 5644 entries, 0 to 5643\n",
      "Columns: 111 entries, Patient ID to ctO2 (arterial blood gas analysis)\n",
      "dtypes: float64(70), int64(4), object(37)\n",
      "memory usage: 4.8+ MB\n"
     ]
    }
   ],
   "source": [
    "df.info()"
   ]
  },
  {
   "cell_type": "code",
   "execution_count": 9,
   "metadata": {},
   "outputs": [
    {
     "data": {
      "text/html": [
       "<div>\n",
       "<style scoped>\n",
       "    .dataframe tbody tr th:only-of-type {\n",
       "        vertical-align: middle;\n",
       "    }\n",
       "\n",
       "    .dataframe tbody tr th {\n",
       "        vertical-align: top;\n",
       "    }\n",
       "\n",
       "    .dataframe thead th {\n",
       "        text-align: right;\n",
       "    }\n",
       "</style>\n",
       "<table border=\"1\" class=\"dataframe\">\n",
       "  <thead>\n",
       "    <tr style=\"text-align: right;\">\n",
       "      <th></th>\n",
       "      <th>Patient age quantile</th>\n",
       "      <th>Patient addmited to regular ward (1=yes, 0=no)</th>\n",
       "      <th>Patient addmited to semi-intensive unit (1=yes, 0=no)</th>\n",
       "      <th>Patient addmited to intensive care unit (1=yes, 0=no)</th>\n",
       "      <th>Hematocrit</th>\n",
       "      <th>Hemoglobin</th>\n",
       "      <th>Platelets</th>\n",
       "      <th>Mean platelet volume</th>\n",
       "      <th>Red blood Cells</th>\n",
       "      <th>Lymphocytes</th>\n",
       "      <th>...</th>\n",
       "      <th>Hb saturation (arterial blood gases)</th>\n",
       "      <th>pCO2 (arterial blood gas analysis)</th>\n",
       "      <th>Base excess (arterial blood gas analysis)</th>\n",
       "      <th>pH (arterial blood gas analysis)</th>\n",
       "      <th>Total CO2 (arterial blood gas analysis)</th>\n",
       "      <th>HCO3 (arterial blood gas analysis)</th>\n",
       "      <th>pO2 (arterial blood gas analysis)</th>\n",
       "      <th>Arteiral Fio2</th>\n",
       "      <th>Phosphor</th>\n",
       "      <th>ctO2 (arterial blood gas analysis)</th>\n",
       "    </tr>\n",
       "  </thead>\n",
       "  <tbody>\n",
       "    <tr>\n",
       "      <th>count</th>\n",
       "      <td>5644.000000</td>\n",
       "      <td>5644.000000</td>\n",
       "      <td>5644.000000</td>\n",
       "      <td>5644.000000</td>\n",
       "      <td>6.030000e+02</td>\n",
       "      <td>6.030000e+02</td>\n",
       "      <td>6.020000e+02</td>\n",
       "      <td>5.990000e+02</td>\n",
       "      <td>6.020000e+02</td>\n",
       "      <td>6.020000e+02</td>\n",
       "      <td>...</td>\n",
       "      <td>2.700000e+01</td>\n",
       "      <td>2.700000e+01</td>\n",
       "      <td>2.700000e+01</td>\n",
       "      <td>2.700000e+01</td>\n",
       "      <td>2.700000e+01</td>\n",
       "      <td>2.700000e+01</td>\n",
       "      <td>2.700000e+01</td>\n",
       "      <td>2.000000e+01</td>\n",
       "      <td>2.000000e+01</td>\n",
       "      <td>2.700000e+01</td>\n",
       "    </tr>\n",
       "    <tr>\n",
       "      <th>mean</th>\n",
       "      <td>9.318391</td>\n",
       "      <td>0.013997</td>\n",
       "      <td>0.008859</td>\n",
       "      <td>0.007264</td>\n",
       "      <td>-2.186214e-09</td>\n",
       "      <td>-1.601319e-08</td>\n",
       "      <td>-3.535004e-10</td>\n",
       "      <td>7.438142e-09</td>\n",
       "      <td>8.424447e-09</td>\n",
       "      <td>-7.866736e-09</td>\n",
       "      <td>...</td>\n",
       "      <td>-1.379737e-10</td>\n",
       "      <td>8.416397e-09</td>\n",
       "      <td>-1.655685e-09</td>\n",
       "      <td>4.139211e-10</td>\n",
       "      <td>-7.472139e-09</td>\n",
       "      <td>6.070843e-09</td>\n",
       "      <td>-2.469729e-08</td>\n",
       "      <td>4.656613e-09</td>\n",
       "      <td>6.332993e-09</td>\n",
       "      <td>5.243001e-09</td>\n",
       "    </tr>\n",
       "    <tr>\n",
       "      <th>std</th>\n",
       "      <td>5.777903</td>\n",
       "      <td>0.117489</td>\n",
       "      <td>0.093713</td>\n",
       "      <td>0.084929</td>\n",
       "      <td>1.000830e+00</td>\n",
       "      <td>1.000830e+00</td>\n",
       "      <td>1.000832e+00</td>\n",
       "      <td>1.000836e+00</td>\n",
       "      <td>1.000832e+00</td>\n",
       "      <td>1.000832e+00</td>\n",
       "      <td>...</td>\n",
       "      <td>1.019049e+00</td>\n",
       "      <td>1.019049e+00</td>\n",
       "      <td>1.019049e+00</td>\n",
       "      <td>1.019049e+00</td>\n",
       "      <td>1.019049e+00</td>\n",
       "      <td>1.019049e+00</td>\n",
       "      <td>1.019049e+00</td>\n",
       "      <td>1.025978e+00</td>\n",
       "      <td>1.025978e+00</td>\n",
       "      <td>1.019049e+00</td>\n",
       "    </tr>\n",
       "    <tr>\n",
       "      <th>min</th>\n",
       "      <td>0.000000</td>\n",
       "      <td>0.000000</td>\n",
       "      <td>0.000000</td>\n",
       "      <td>0.000000</td>\n",
       "      <td>-4.501420e+00</td>\n",
       "      <td>-4.345603e+00</td>\n",
       "      <td>-2.552426e+00</td>\n",
       "      <td>-2.457575e+00</td>\n",
       "      <td>-3.970608e+00</td>\n",
       "      <td>-1.865070e+00</td>\n",
       "      <td>...</td>\n",
       "      <td>-1.999560e+00</td>\n",
       "      <td>-1.244817e+00</td>\n",
       "      <td>-3.082674e+00</td>\n",
       "      <td>-3.568877e+00</td>\n",
       "      <td>-2.925618e+00</td>\n",
       "      <td>-2.985592e+00</td>\n",
       "      <td>-1.175907e+00</td>\n",
       "      <td>-1.532932e+00</td>\n",
       "      <td>-1.480526e+00</td>\n",
       "      <td>-2.900254e+00</td>\n",
       "    </tr>\n",
       "    <tr>\n",
       "      <th>25%</th>\n",
       "      <td>4.000000</td>\n",
       "      <td>0.000000</td>\n",
       "      <td>0.000000</td>\n",
       "      <td>0.000000</td>\n",
       "      <td>-5.188074e-01</td>\n",
       "      <td>-5.862439e-01</td>\n",
       "      <td>-6.053457e-01</td>\n",
       "      <td>-6.624832e-01</td>\n",
       "      <td>-5.679496e-01</td>\n",
       "      <td>-7.307069e-01</td>\n",
       "      <td>...</td>\n",
       "      <td>-1.122574e+00</td>\n",
       "      <td>-5.348102e-01</td>\n",
       "      <td>-3.308668e-01</td>\n",
       "      <td>-9.210583e-02</td>\n",
       "      <td>-5.117720e-01</td>\n",
       "      <td>-5.397211e-01</td>\n",
       "      <td>-8.169898e-01</td>\n",
       "      <td>-1.214975e-01</td>\n",
       "      <td>-5.527296e-01</td>\n",
       "      <td>-4.852787e-01</td>\n",
       "    </tr>\n",
       "    <tr>\n",
       "      <th>50%</th>\n",
       "      <td>9.000000</td>\n",
       "      <td>0.000000</td>\n",
       "      <td>0.000000</td>\n",
       "      <td>0.000000</td>\n",
       "      <td>5.340703e-02</td>\n",
       "      <td>4.031596e-02</td>\n",
       "      <td>-1.217160e-01</td>\n",
       "      <td>-1.015171e-01</td>\n",
       "      <td>1.385207e-02</td>\n",
       "      <td>-1.426696e-02</td>\n",
       "      <td>...</td>\n",
       "      <td>2.677689e-01</td>\n",
       "      <td>-2.120799e-01</td>\n",
       "      <td>-1.181667e-02</td>\n",
       "      <td>2.942021e-01</td>\n",
       "      <td>7.743482e-02</td>\n",
       "      <td>5.633191e-02</td>\n",
       "      <td>-1.599549e-01</td>\n",
       "      <td>-1.174366e-02</td>\n",
       "      <td>-1.381825e-01</td>\n",
       "      <td>1.826928e-01</td>\n",
       "    </tr>\n",
       "    <tr>\n",
       "      <th>75%</th>\n",
       "      <td>14.000000</td>\n",
       "      <td>0.000000</td>\n",
       "      <td>0.000000</td>\n",
       "      <td>0.000000</td>\n",
       "      <td>7.171751e-01</td>\n",
       "      <td>7.295320e-01</td>\n",
       "      <td>5.314981e-01</td>\n",
       "      <td>6.838353e-01</td>\n",
       "      <td>6.661759e-01</td>\n",
       "      <td>5.976919e-01</td>\n",
       "      <td>...</td>\n",
       "      <td>7.383496e-01</td>\n",
       "      <td>2.305214e-02</td>\n",
       "      <td>6.661649e-01</td>\n",
       "      <td>5.115003e-01</td>\n",
       "      <td>4.385609e-01</td>\n",
       "      <td>5.085100e-01</td>\n",
       "      <td>4.500090e-01</td>\n",
       "      <td>-1.174366e-02</td>\n",
       "      <td>2.763648e-01</td>\n",
       "      <td>5.937525e-01</td>\n",
       "    </tr>\n",
       "    <tr>\n",
       "      <th>max</th>\n",
       "      <td>19.000000</td>\n",
       "      <td>1.000000</td>\n",
       "      <td>1.000000</td>\n",
       "      <td>1.000000</td>\n",
       "      <td>2.662704e+00</td>\n",
       "      <td>2.671868e+00</td>\n",
       "      <td>9.532034e+00</td>\n",
       "      <td>3.713052e+00</td>\n",
       "      <td>3.645706e+00</td>\n",
       "      <td>3.764100e+00</td>\n",
       "      <td>...</td>\n",
       "      <td>1.337265e+00</td>\n",
       "      <td>3.236524e+00</td>\n",
       "      <td>1.703078e+00</td>\n",
       "      <td>1.042674e+00</td>\n",
       "      <td>1.940087e+00</td>\n",
       "      <td>2.029471e+00</td>\n",
       "      <td>2.205371e+00</td>\n",
       "      <td>2.841856e+00</td>\n",
       "      <td>2.862350e+00</td>\n",
       "      <td>1.826932e+00</td>\n",
       "    </tr>\n",
       "  </tbody>\n",
       "</table>\n",
       "<p>8 rows × 74 columns</p>\n",
       "</div>"
      ],
      "text/plain": [
       "       Patient age quantile  Patient addmited to regular ward (1=yes, 0=no)  \\\n",
       "count           5644.000000                                     5644.000000   \n",
       "mean               9.318391                                        0.013997   \n",
       "std                5.777903                                        0.117489   \n",
       "min                0.000000                                        0.000000   \n",
       "25%                4.000000                                        0.000000   \n",
       "50%                9.000000                                        0.000000   \n",
       "75%               14.000000                                        0.000000   \n",
       "max               19.000000                                        1.000000   \n",
       "\n",
       "       Patient addmited to semi-intensive unit (1=yes, 0=no)  \\\n",
       "count                                        5644.000000       \n",
       "mean                                            0.008859       \n",
       "std                                             0.093713       \n",
       "min                                             0.000000       \n",
       "25%                                             0.000000       \n",
       "50%                                             0.000000       \n",
       "75%                                             0.000000       \n",
       "max                                             1.000000       \n",
       "\n",
       "       Patient addmited to intensive care unit (1=yes, 0=no)    Hematocrit  \\\n",
       "count                                        5644.000000      6.030000e+02   \n",
       "mean                                            0.007264     -2.186214e-09   \n",
       "std                                             0.084929      1.000830e+00   \n",
       "min                                             0.000000     -4.501420e+00   \n",
       "25%                                             0.000000     -5.188074e-01   \n",
       "50%                                             0.000000      5.340703e-02   \n",
       "75%                                             0.000000      7.171751e-01   \n",
       "max                                             1.000000      2.662704e+00   \n",
       "\n",
       "         Hemoglobin     Platelets  Mean platelet volume   Red blood Cells  \\\n",
       "count  6.030000e+02  6.020000e+02           5.990000e+02     6.020000e+02   \n",
       "mean  -1.601319e-08 -3.535004e-10           7.438142e-09     8.424447e-09   \n",
       "std    1.000830e+00  1.000832e+00           1.000836e+00     1.000832e+00   \n",
       "min   -4.345603e+00 -2.552426e+00          -2.457575e+00    -3.970608e+00   \n",
       "25%   -5.862439e-01 -6.053457e-01          -6.624832e-01    -5.679496e-01   \n",
       "50%    4.031596e-02 -1.217160e-01          -1.015171e-01     1.385207e-02   \n",
       "75%    7.295320e-01  5.314981e-01           6.838353e-01     6.661759e-01   \n",
       "max    2.671868e+00  9.532034e+00           3.713052e+00     3.645706e+00   \n",
       "\n",
       "        Lymphocytes  ...  Hb saturation (arterial blood gases)  \\\n",
       "count  6.020000e+02  ...                          2.700000e+01   \n",
       "mean  -7.866736e-09  ...                         -1.379737e-10   \n",
       "std    1.000832e+00  ...                          1.019049e+00   \n",
       "min   -1.865070e+00  ...                         -1.999560e+00   \n",
       "25%   -7.307069e-01  ...                         -1.122574e+00   \n",
       "50%   -1.426696e-02  ...                          2.677689e-01   \n",
       "75%    5.976919e-01  ...                          7.383496e-01   \n",
       "max    3.764100e+00  ...                          1.337265e+00   \n",
       "\n",
       "       pCO2 (arterial blood gas analysis)  \\\n",
       "count                        2.700000e+01   \n",
       "mean                         8.416397e-09   \n",
       "std                          1.019049e+00   \n",
       "min                         -1.244817e+00   \n",
       "25%                         -5.348102e-01   \n",
       "50%                         -2.120799e-01   \n",
       "75%                          2.305214e-02   \n",
       "max                          3.236524e+00   \n",
       "\n",
       "       Base excess (arterial blood gas analysis)  \\\n",
       "count                               2.700000e+01   \n",
       "mean                               -1.655685e-09   \n",
       "std                                 1.019049e+00   \n",
       "min                                -3.082674e+00   \n",
       "25%                                -3.308668e-01   \n",
       "50%                                -1.181667e-02   \n",
       "75%                                 6.661649e-01   \n",
       "max                                 1.703078e+00   \n",
       "\n",
       "       pH (arterial blood gas analysis)  \\\n",
       "count                      2.700000e+01   \n",
       "mean                       4.139211e-10   \n",
       "std                        1.019049e+00   \n",
       "min                       -3.568877e+00   \n",
       "25%                       -9.210583e-02   \n",
       "50%                        2.942021e-01   \n",
       "75%                        5.115003e-01   \n",
       "max                        1.042674e+00   \n",
       "\n",
       "       Total CO2 (arterial blood gas analysis)  \\\n",
       "count                             2.700000e+01   \n",
       "mean                             -7.472139e-09   \n",
       "std                               1.019049e+00   \n",
       "min                              -2.925618e+00   \n",
       "25%                              -5.117720e-01   \n",
       "50%                               7.743482e-02   \n",
       "75%                               4.385609e-01   \n",
       "max                               1.940087e+00   \n",
       "\n",
       "       HCO3 (arterial blood gas analysis)  pO2 (arterial blood gas analysis)  \\\n",
       "count                        2.700000e+01                       2.700000e+01   \n",
       "mean                         6.070843e-09                      -2.469729e-08   \n",
       "std                          1.019049e+00                       1.019049e+00   \n",
       "min                         -2.985592e+00                      -1.175907e+00   \n",
       "25%                         -5.397211e-01                      -8.169898e-01   \n",
       "50%                          5.633191e-02                      -1.599549e-01   \n",
       "75%                          5.085100e-01                       4.500090e-01   \n",
       "max                          2.029471e+00                       2.205371e+00   \n",
       "\n",
       "       Arteiral Fio2      Phosphor  ctO2 (arterial blood gas analysis)  \n",
       "count   2.000000e+01  2.000000e+01                        2.700000e+01  \n",
       "mean    4.656613e-09  6.332993e-09                        5.243001e-09  \n",
       "std     1.025978e+00  1.025978e+00                        1.019049e+00  \n",
       "min    -1.532932e+00 -1.480526e+00                       -2.900254e+00  \n",
       "25%    -1.214975e-01 -5.527296e-01                       -4.852787e-01  \n",
       "50%    -1.174366e-02 -1.381825e-01                        1.826928e-01  \n",
       "75%    -1.174366e-02  2.763648e-01                        5.937525e-01  \n",
       "max     2.841856e+00  2.862350e+00                        1.826932e+00  \n",
       "\n",
       "[8 rows x 74 columns]"
      ]
     },
     "execution_count": 9,
     "metadata": {},
     "output_type": "execute_result"
    }
   ],
   "source": [
    "df.describe()"
   ]
  },
  {
   "cell_type": "markdown",
   "metadata": {},
   "source": [
    "# checking null values"
   ]
  },
  {
   "cell_type": "code",
   "execution_count": 10,
   "metadata": {},
   "outputs": [
    {
     "data": {
      "text/plain": [
       "Patient ID                                                  0\n",
       "Patient age quantile                                        0\n",
       "SARS-Cov-2 exam result                                      0\n",
       "Patient addmited to regular ward (1=yes, 0=no)              0\n",
       "Patient addmited to semi-intensive unit (1=yes, 0=no)       0\n",
       "                                                         ... \n",
       "HCO3 (arterial blood gas analysis)                       5617\n",
       "pO2 (arterial blood gas analysis)                        5617\n",
       "Arteiral Fio2                                            5624\n",
       "Phosphor                                                 5624\n",
       "ctO2 (arterial blood gas analysis)                       5617\n",
       "Length: 111, dtype: int64"
      ]
     },
     "execution_count": 10,
     "metadata": {},
     "output_type": "execute_result"
    }
   ],
   "source": [
    "df.isnull().sum()"
   ]
  },
  {
   "cell_type": "code",
   "execution_count": 11,
   "metadata": {},
   "outputs": [],
   "source": [
    "df.fillna(0,inplace=True)"
   ]
  },
  {
   "cell_type": "code",
   "execution_count": 12,
   "metadata": {},
   "outputs": [
    {
     "data": {
      "text/plain": [
       "Patient ID                                               0\n",
       "Patient age quantile                                     0\n",
       "SARS-Cov-2 exam result                                   0\n",
       "Patient addmited to regular ward (1=yes, 0=no)           0\n",
       "Patient addmited to semi-intensive unit (1=yes, 0=no)    0\n",
       "                                                        ..\n",
       "HCO3 (arterial blood gas analysis)                       0\n",
       "pO2 (arterial blood gas analysis)                        0\n",
       "Arteiral Fio2                                            0\n",
       "Phosphor                                                 0\n",
       "ctO2 (arterial blood gas analysis)                       0\n",
       "Length: 111, dtype: int64"
      ]
     },
     "execution_count": 12,
     "metadata": {},
     "output_type": "execute_result"
    }
   ],
   "source": [
    "df.isnull().sum()"
   ]
  },
  {
   "cell_type": "code",
   "execution_count": 13,
   "metadata": {},
   "outputs": [
    {
     "data": {
      "text/plain": [
       "<matplotlib.axes._subplots.AxesSubplot at 0x1b282276448>"
      ]
     },
     "execution_count": 13,
     "metadata": {},
     "output_type": "execute_result"
    },
    {
     "data": {
      "image/png": "[encoded data removed]",
      "text/plain": [
       "<Figure size 432x288 with 2 Axes>"
      ]
     },
     "metadata": {
      "needs_background": "light"
     },
     "output_type": "display_data"
    }
   ],
   "source": [
    "sns.heatmap(df.isnull())"
   ]
  },
  {
   "cell_type": "markdown",
   "metadata": {},
   "source": [
    "we have filled the all nan values with 0 as there is no result from or zero result from that variable.....and now there is no null values in this dataset"
   ]
  },
  {
   "cell_type": "code",
   "execution_count": 28,
   "metadata": {},
   "outputs": [],
   "source": [
    "df.drop('Patient ID',axis=1,inplace=True)"
   ]
  },
  {
   "cell_type": "code",
   "execution_count": 29,
   "metadata": {},
   "outputs": [
    {
     "data": {
      "text/plain": [
       "Index(['Patient age quantile', 'SARS-Cov-2 exam result',\n",
       "       'Patient addmited to regular ward (1=yes, 0=no)',\n",
       "       'Patient addmited to semi-intensive unit (1=yes, 0=no)',\n",
       "       'Patient addmited to intensive care unit (1=yes, 0=no)', 'Hematocrit',\n",
       "       'Hemoglobin', 'Platelets', 'Mean platelet volume ', 'Red blood Cells',\n",
       "       ...\n",
       "       'Hb saturation (arterial blood gases)',\n",
       "       'pCO2 (arterial blood gas analysis)',\n",
       "       'Base excess (arterial blood gas analysis)',\n",
       "       'pH (arterial blood gas analysis)',\n",
       "       'Total CO2 (arterial blood gas analysis)',\n",
       "       'HCO3 (arterial blood gas analysis)',\n",
       "       'pO2 (arterial blood gas analysis)', 'Arteiral Fio2', 'Phosphor',\n",
       "       'ctO2 (arterial blood gas analysis)'],\n",
       "      dtype='object', length=110)"
      ]
     },
     "execution_count": 29,
     "metadata": {},
     "output_type": "execute_result"
    }
   ],
   "source": [
    "df.columns"
   ]
  },
  {
   "cell_type": "code",
   "execution_count": 15,
   "metadata": {},
   "outputs": [
    {
     "data": {
      "text/plain": [
       "<matplotlib.axes._subplots.AxesSubplot at 0x1b283cf0fc8>"
      ]
     },
     "execution_count": 15,
     "metadata": {},
     "output_type": "execute_result"
    },
    {
     "data": {
      "image/png": "[encoded data removed]",
      "text/plain": [
       "<Figure size 432x288 with 1 Axes>"
      ]
     },
     "metadata": {
      "needs_background": "light"
     },
     "output_type": "display_data"
    }
   ],
   "source": [
    "sns.barplot(df['SARS-Cov-2 exam result'],df['Patient age quantile'])"
   ]
  },
  {
   "cell_type": "markdown",
   "metadata": {},
   "source": [
    "higher the age higher the chances of positive"
   ]
  },
  {
   "cell_type": "markdown",
   "metadata": {},
   "source": [
    "# Labeling"
   ]
  },
  {
   "cell_type": "code",
   "execution_count": 17,
   "metadata": {},
   "outputs": [],
   "source": [
    "from sklearn.preprocessing import LabelEncoder\n",
    "le=LabelEncoder()"
   ]
  },
  {
   "cell_type": "code",
   "execution_count": 18,
   "metadata": {},
   "outputs": [],
   "source": [
    "df['SARS-Cov-2 exam result']=le.fit_transform(df['SARS-Cov-2 exam result'])"
   ]
  },
  {
   "cell_type": "code",
   "execution_count": 19,
   "metadata": {},
   "outputs": [
    {
     "data": {
      "text/plain": [
       "array([0, 1])"
      ]
     },
     "execution_count": 19,
     "metadata": {},
     "output_type": "execute_result"
    }
   ],
   "source": [
    "df['SARS-Cov-2 exam result'].unique()"
   ]
  },
  {
   "cell_type": "markdown",
   "metadata": {},
   "source": [
    "# Correlation"
   ]
  },
  {
   "cell_type": "code",
   "execution_count": 20,
   "metadata": {},
   "outputs": [
    {
     "data": {
      "text/html": [
       "<div>\n",
       "<style scoped>\n",
       "    .dataframe tbody tr th:only-of-type {\n",
       "        vertical-align: middle;\n",
       "    }\n",
       "\n",
       "    .dataframe tbody tr th {\n",
       "        vertical-align: top;\n",
       "    }\n",
       "\n",
       "    .dataframe thead th {\n",
       "        text-align: right;\n",
       "    }\n",
       "</style>\n",
       "<table border=\"1\" class=\"dataframe\">\n",
       "  <thead>\n",
       "    <tr style=\"text-align: right;\">\n",
       "      <th></th>\n",
       "      <th>Patient age quantile</th>\n",
       "      <th>SARS-Cov-2 exam result</th>\n",
       "      <th>Patient addmited to regular ward (1=yes, 0=no)</th>\n",
       "      <th>Patient addmited to semi-intensive unit (1=yes, 0=no)</th>\n",
       "      <th>Patient addmited to intensive care unit (1=yes, 0=no)</th>\n",
       "      <th>Hematocrit</th>\n",
       "      <th>Hemoglobin</th>\n",
       "      <th>Platelets</th>\n",
       "      <th>Mean platelet volume</th>\n",
       "      <th>Red blood Cells</th>\n",
       "      <th>...</th>\n",
       "      <th>Hb saturation (arterial blood gases)</th>\n",
       "      <th>pCO2 (arterial blood gas analysis)</th>\n",
       "      <th>Base excess (arterial blood gas analysis)</th>\n",
       "      <th>pH (arterial blood gas analysis)</th>\n",
       "      <th>Total CO2 (arterial blood gas analysis)</th>\n",
       "      <th>HCO3 (arterial blood gas analysis)</th>\n",
       "      <th>pO2 (arterial blood gas analysis)</th>\n",
       "      <th>Arteiral Fio2</th>\n",
       "      <th>Phosphor</th>\n",
       "      <th>ctO2 (arterial blood gas analysis)</th>\n",
       "    </tr>\n",
       "  </thead>\n",
       "  <tbody>\n",
       "    <tr>\n",
       "      <th>Patient age quantile</th>\n",
       "      <td>1.000000</td>\n",
       "      <td>0.075244</td>\n",
       "      <td>4.616576e-02</td>\n",
       "      <td>0.015736</td>\n",
       "      <td>-0.035772</td>\n",
       "      <td>0.031292</td>\n",
       "      <td>0.019498</td>\n",
       "      <td>-0.051183</td>\n",
       "      <td>0.038392</td>\n",
       "      <td>-0.012099</td>\n",
       "      <td>...</td>\n",
       "      <td>-0.016286</td>\n",
       "      <td>-0.034110</td>\n",
       "      <td>0.041484</td>\n",
       "      <td>0.041507</td>\n",
       "      <td>0.006264</td>\n",
       "      <td>0.012090</td>\n",
       "      <td>-0.007157</td>\n",
       "      <td>-0.021239</td>\n",
       "      <td>-4.135060e-02</td>\n",
       "      <td>-0.004455</td>\n",
       "    </tr>\n",
       "    <tr>\n",
       "      <th>SARS-Cov-2 exam result</th>\n",
       "      <td>0.075244</td>\n",
       "      <td>1.000000</td>\n",
       "      <td>1.424375e-01</td>\n",
       "      <td>0.019364</td>\n",
       "      <td>0.027586</td>\n",
       "      <td>0.037396</td>\n",
       "      <td>0.039530</td>\n",
       "      <td>-0.106482</td>\n",
       "      <td>0.040622</td>\n",
       "      <td>0.045766</td>\n",
       "      <td>...</td>\n",
       "      <td>0.015189</td>\n",
       "      <td>-0.037511</td>\n",
       "      <td>0.015111</td>\n",
       "      <td>0.036451</td>\n",
       "      <td>-0.028879</td>\n",
       "      <td>-0.024761</td>\n",
       "      <td>0.036186</td>\n",
       "      <td>-0.030815</td>\n",
       "      <td>-5.314858e-03</td>\n",
       "      <td>0.030967</td>\n",
       "    </tr>\n",
       "    <tr>\n",
       "      <th>Patient addmited to regular ward (1=yes, 0=no)</th>\n",
       "      <td>0.046166</td>\n",
       "      <td>0.142437</td>\n",
       "      <td>1.000000e+00</td>\n",
       "      <td>-0.011264</td>\n",
       "      <td>-0.010192</td>\n",
       "      <td>-0.071569</td>\n",
       "      <td>-0.075363</td>\n",
       "      <td>-0.150186</td>\n",
       "      <td>-0.010687</td>\n",
       "      <td>-0.043593</td>\n",
       "      <td>...</td>\n",
       "      <td>0.051133</td>\n",
       "      <td>-0.058510</td>\n",
       "      <td>0.008632</td>\n",
       "      <td>0.052540</td>\n",
       "      <td>-0.041230</td>\n",
       "      <td>-0.034427</td>\n",
       "      <td>0.027247</td>\n",
       "      <td>-0.040326</td>\n",
       "      <td>-4.491712e-11</td>\n",
       "      <td>0.070462</td>\n",
       "    </tr>\n",
       "    <tr>\n",
       "      <th>Patient addmited to semi-intensive unit (1=yes, 0=no)</th>\n",
       "      <td>0.015736</td>\n",
       "      <td>0.019364</td>\n",
       "      <td>-1.126431e-02</td>\n",
       "      <td>1.000000</td>\n",
       "      <td>-0.008087</td>\n",
       "      <td>-0.161800</td>\n",
       "      <td>-0.157295</td>\n",
       "      <td>0.006185</td>\n",
       "      <td>-0.020840</td>\n",
       "      <td>-0.122487</td>\n",
       "      <td>...</td>\n",
       "      <td>-0.199293</td>\n",
       "      <td>0.040333</td>\n",
       "      <td>-0.080640</td>\n",
       "      <td>-0.063793</td>\n",
       "      <td>-0.040144</td>\n",
       "      <td>-0.048656</td>\n",
       "      <td>-0.120723</td>\n",
       "      <td>-0.025106</td>\n",
       "      <td>5.392442e-02</td>\n",
       "      <td>-0.017481</td>\n",
       "    </tr>\n",
       "    <tr>\n",
       "      <th>Patient addmited to intensive care unit (1=yes, 0=no)</th>\n",
       "      <td>-0.035772</td>\n",
       "      <td>0.027586</td>\n",
       "      <td>-1.019207e-02</td>\n",
       "      <td>-0.008087</td>\n",
       "      <td>1.000000</td>\n",
       "      <td>-0.151409</td>\n",
       "      <td>-0.147314</td>\n",
       "      <td>0.103724</td>\n",
       "      <td>-0.060529</td>\n",
       "      <td>-0.099364</td>\n",
       "      <td>...</td>\n",
       "      <td>0.111363</td>\n",
       "      <td>0.094293</td>\n",
       "      <td>0.064385</td>\n",
       "      <td>-0.056863</td>\n",
       "      <td>0.134375</td>\n",
       "      <td>0.130018</td>\n",
       "      <td>0.049237</td>\n",
       "      <td>0.105651</td>\n",
       "      <td>3.943719e-02</td>\n",
       "      <td>-0.121242</td>\n",
       "    </tr>\n",
       "    <tr>\n",
       "      <th>...</th>\n",
       "      <td>...</td>\n",
       "      <td>...</td>\n",
       "      <td>...</td>\n",
       "      <td>...</td>\n",
       "      <td>...</td>\n",
       "      <td>...</td>\n",
       "      <td>...</td>\n",
       "      <td>...</td>\n",
       "      <td>...</td>\n",
       "      <td>...</td>\n",
       "      <td>...</td>\n",
       "      <td>...</td>\n",
       "      <td>...</td>\n",
       "      <td>...</td>\n",
       "      <td>...</td>\n",
       "      <td>...</td>\n",
       "      <td>...</td>\n",
       "      <td>...</td>\n",
       "      <td>...</td>\n",
       "      <td>...</td>\n",
       "      <td>...</td>\n",
       "    </tr>\n",
       "    <tr>\n",
       "      <th>HCO3 (arterial blood gas analysis)</th>\n",
       "      <td>0.012090</td>\n",
       "      <td>-0.024761</td>\n",
       "      <td>-3.442683e-02</td>\n",
       "      <td>-0.048656</td>\n",
       "      <td>0.130018</td>\n",
       "      <td>-0.067014</td>\n",
       "      <td>-0.087151</td>\n",
       "      <td>0.025061</td>\n",
       "      <td>0.055542</td>\n",
       "      <td>-0.051618</td>\n",
       "      <td>...</td>\n",
       "      <td>-0.348558</td>\n",
       "      <td>0.513884</td>\n",
       "      <td>0.644222</td>\n",
       "      <td>-0.209320</td>\n",
       "      <td>0.992877</td>\n",
       "      <td>1.000000</td>\n",
       "      <td>-0.302613</td>\n",
       "      <td>0.082657</td>\n",
       "      <td>-1.375525e-01</td>\n",
       "      <td>-0.434762</td>\n",
       "    </tr>\n",
       "    <tr>\n",
       "      <th>pO2 (arterial blood gas analysis)</th>\n",
       "      <td>-0.007157</td>\n",
       "      <td>0.036186</td>\n",
       "      <td>2.724735e-02</td>\n",
       "      <td>-0.120723</td>\n",
       "      <td>0.049237</td>\n",
       "      <td>0.024449</td>\n",
       "      <td>0.016877</td>\n",
       "      <td>-0.025850</td>\n",
       "      <td>-0.047159</td>\n",
       "      <td>0.038621</td>\n",
       "      <td>...</td>\n",
       "      <td>0.796438</td>\n",
       "      <td>-0.296518</td>\n",
       "      <td>-0.093285</td>\n",
       "      <td>0.200313</td>\n",
       "      <td>-0.314796</td>\n",
       "      <td>-0.302613</td>\n",
       "      <td>1.000000</td>\n",
       "      <td>-0.181270</td>\n",
       "      <td>-1.016304e-01</td>\n",
       "      <td>0.270951</td>\n",
       "    </tr>\n",
       "    <tr>\n",
       "      <th>Arteiral Fio2</th>\n",
       "      <td>-0.021239</td>\n",
       "      <td>-0.030815</td>\n",
       "      <td>-4.032552e-02</td>\n",
       "      <td>-0.025106</td>\n",
       "      <td>0.105651</td>\n",
       "      <td>0.012284</td>\n",
       "      <td>-0.000655</td>\n",
       "      <td>0.081845</td>\n",
       "      <td>0.013618</td>\n",
       "      <td>-0.045810</td>\n",
       "      <td>...</td>\n",
       "      <td>-0.017055</td>\n",
       "      <td>0.381415</td>\n",
       "      <td>-0.227696</td>\n",
       "      <td>-0.376063</td>\n",
       "      <td>0.134155</td>\n",
       "      <td>0.082657</td>\n",
       "      <td>-0.181270</td>\n",
       "      <td>1.000000</td>\n",
       "      <td>1.259335e-01</td>\n",
       "      <td>-0.196606</td>\n",
       "    </tr>\n",
       "    <tr>\n",
       "      <th>Phosphor</th>\n",
       "      <td>-0.041351</td>\n",
       "      <td>-0.005315</td>\n",
       "      <td>-4.491712e-11</td>\n",
       "      <td>0.053924</td>\n",
       "      <td>0.039437</td>\n",
       "      <td>0.036852</td>\n",
       "      <td>0.057834</td>\n",
       "      <td>0.049969</td>\n",
       "      <td>-0.041703</td>\n",
       "      <td>0.035438</td>\n",
       "      <td>...</td>\n",
       "      <td>-0.193765</td>\n",
       "      <td>0.365646</td>\n",
       "      <td>-0.488217</td>\n",
       "      <td>-0.459113</td>\n",
       "      <td>-0.076610</td>\n",
       "      <td>-0.137552</td>\n",
       "      <td>-0.101630</td>\n",
       "      <td>0.125933</td>\n",
       "      <td>1.000000e+00</td>\n",
       "      <td>0.219942</td>\n",
       "    </tr>\n",
       "    <tr>\n",
       "      <th>ctO2 (arterial blood gas analysis)</th>\n",
       "      <td>-0.004455</td>\n",
       "      <td>0.030967</td>\n",
       "      <td>7.046189e-02</td>\n",
       "      <td>-0.017481</td>\n",
       "      <td>-0.121242</td>\n",
       "      <td>0.172949</td>\n",
       "      <td>0.183184</td>\n",
       "      <td>-0.090435</td>\n",
       "      <td>0.003778</td>\n",
       "      <td>0.163657</td>\n",
       "      <td>...</td>\n",
       "      <td>0.127582</td>\n",
       "      <td>-0.260971</td>\n",
       "      <td>-0.256192</td>\n",
       "      <td>0.091033</td>\n",
       "      <td>-0.442118</td>\n",
       "      <td>-0.434762</td>\n",
       "      <td>0.270951</td>\n",
       "      <td>-0.196606</td>\n",
       "      <td>2.199416e-01</td>\n",
       "      <td>1.000000</td>\n",
       "    </tr>\n",
       "  </tbody>\n",
       "</table>\n",
       "<p>75 rows × 75 columns</p>\n",
       "</div>"
      ],
      "text/plain": [
       "                                                    Patient age quantile  \\\n",
       "Patient age quantile                                            1.000000   \n",
       "SARS-Cov-2 exam result                                          0.075244   \n",
       "Patient addmited to regular ward (1=yes, 0=no)                  0.046166   \n",
       "Patient addmited to semi-intensive unit (1=yes,...              0.015736   \n",
       "Patient addmited to intensive care unit (1=yes,...             -0.035772   \n",
       "...                                                                  ...   \n",
       "HCO3 (arterial blood gas analysis)                              0.012090   \n",
       "pO2 (arterial blood gas analysis)                              -0.007157   \n",
       "Arteiral Fio2                                                  -0.021239   \n",
       "Phosphor                                                       -0.041351   \n",
       "ctO2 (arterial blood gas analysis)                             -0.004455   \n",
       "\n",
       "                                                    SARS-Cov-2 exam result  \\\n",
       "Patient age quantile                                              0.075244   \n",
       "SARS-Cov-2 exam result                                            1.000000   \n",
       "Patient addmited to regular ward (1=yes, 0=no)                    0.142437   \n",
       "Patient addmited to semi-intensive unit (1=yes,...                0.019364   \n",
       "Patient addmited to intensive care unit (1=yes,...                0.027586   \n",
       "...                                                                    ...   \n",
       "HCO3 (arterial blood gas analysis)                               -0.024761   \n",
       "pO2 (arterial blood gas analysis)                                 0.036186   \n",
       "Arteiral Fio2                                                    -0.030815   \n",
       "Phosphor                                                         -0.005315   \n",
       "ctO2 (arterial blood gas analysis)                                0.030967   \n",
       "\n",
       "                                                    Patient addmited to regular ward (1=yes, 0=no)  \\\n",
       "Patient age quantile                                                                  4.616576e-02   \n",
       "SARS-Cov-2 exam result                                                                1.424375e-01   \n",
       "Patient addmited to regular ward (1=yes, 0=no)                                        1.000000e+00   \n",
       "Patient addmited to semi-intensive unit (1=yes,...                                   -1.126431e-02   \n",
       "Patient addmited to intensive care unit (1=yes,...                                   -1.019207e-02   \n",
       "...                                                                                            ...   \n",
       "HCO3 (arterial blood gas analysis)                                                   -3.442683e-02   \n",
       "pO2 (arterial blood gas analysis)                                                     2.724735e-02   \n",
       "Arteiral Fio2                                                                        -4.032552e-02   \n",
       "Phosphor                                                                             -4.491712e-11   \n",
       "ctO2 (arterial blood gas analysis)                                                    7.046189e-02   \n",
       "\n",
       "                                                    Patient addmited to semi-intensive unit (1=yes, 0=no)  \\\n",
       "Patient age quantile                                                                         0.015736       \n",
       "SARS-Cov-2 exam result                                                                       0.019364       \n",
       "Patient addmited to regular ward (1=yes, 0=no)                                              -0.011264       \n",
       "Patient addmited to semi-intensive unit (1=yes,...                                           1.000000       \n",
       "Patient addmited to intensive care unit (1=yes,...                                          -0.008087       \n",
       "...                                                                                               ...       \n",
       "HCO3 (arterial blood gas analysis)                                                          -0.048656       \n",
       "pO2 (arterial blood gas analysis)                                                           -0.120723       \n",
       "Arteiral Fio2                                                                               -0.025106       \n",
       "Phosphor                                                                                     0.053924       \n",
       "ctO2 (arterial blood gas analysis)                                                          -0.017481       \n",
       "\n",
       "                                                    Patient addmited to intensive care unit (1=yes, 0=no)  \\\n",
       "Patient age quantile                                                                        -0.035772       \n",
       "SARS-Cov-2 exam result                                                                       0.027586       \n",
       "Patient addmited to regular ward (1=yes, 0=no)                                              -0.010192       \n",
       "Patient addmited to semi-intensive unit (1=yes,...                                          -0.008087       \n",
       "Patient addmited to intensive care unit (1=yes,...                                           1.000000       \n",
       "...                                                                                               ...       \n",
       "HCO3 (arterial blood gas analysis)                                                           0.130018       \n",
       "pO2 (arterial blood gas analysis)                                                            0.049237       \n",
       "Arteiral Fio2                                                                                0.105651       \n",
       "Phosphor                                                                                     0.039437       \n",
       "ctO2 (arterial blood gas analysis)                                                          -0.121242       \n",
       "\n",
       "                                                    Hematocrit  Hemoglobin  \\\n",
       "Patient age quantile                                  0.031292    0.019498   \n",
       "SARS-Cov-2 exam result                                0.037396    0.039530   \n",
       "Patient addmited to regular ward (1=yes, 0=no)       -0.071569   -0.075363   \n",
       "Patient addmited to semi-intensive unit (1=yes,...   -0.161800   -0.157295   \n",
       "Patient addmited to intensive care unit (1=yes,...   -0.151409   -0.147314   \n",
       "...                                                        ...         ...   \n",
       "HCO3 (arterial blood gas analysis)                   -0.067014   -0.087151   \n",
       "pO2 (arterial blood gas analysis)                     0.024449    0.016877   \n",
       "Arteiral Fio2                                         0.012284   -0.000655   \n",
       "Phosphor                                              0.036852    0.057834   \n",
       "ctO2 (arterial blood gas analysis)                    0.172949    0.183184   \n",
       "\n",
       "                                                    Platelets  \\\n",
       "Patient age quantile                                -0.051183   \n",
       "SARS-Cov-2 exam result                              -0.106482   \n",
       "Patient addmited to regular ward (1=yes, 0=no)      -0.150186   \n",
       "Patient addmited to semi-intensive unit (1=yes,...   0.006185   \n",
       "Patient addmited to intensive care unit (1=yes,...   0.103724   \n",
       "...                                                       ...   \n",
       "HCO3 (arterial blood gas analysis)                   0.025061   \n",
       "pO2 (arterial blood gas analysis)                   -0.025850   \n",
       "Arteiral Fio2                                        0.081845   \n",
       "Phosphor                                             0.049969   \n",
       "ctO2 (arterial blood gas analysis)                  -0.090435   \n",
       "\n",
       "                                                    Mean platelet volume   \\\n",
       "Patient age quantile                                             0.038392   \n",
       "SARS-Cov-2 exam result                                           0.040622   \n",
       "Patient addmited to regular ward (1=yes, 0=no)                  -0.010687   \n",
       "Patient addmited to semi-intensive unit (1=yes,...              -0.020840   \n",
       "Patient addmited to intensive care unit (1=yes,...              -0.060529   \n",
       "...                                                                   ...   \n",
       "HCO3 (arterial blood gas analysis)                               0.055542   \n",
       "pO2 (arterial blood gas analysis)                               -0.047159   \n",
       "Arteiral Fio2                                                    0.013618   \n",
       "Phosphor                                                        -0.041703   \n",
       "ctO2 (arterial blood gas analysis)                               0.003778   \n",
       "\n",
       "                                                    Red blood Cells  ...  \\\n",
       "Patient age quantile                                      -0.012099  ...   \n",
       "SARS-Cov-2 exam result                                     0.045766  ...   \n",
       "Patient addmited to regular ward (1=yes, 0=no)            -0.043593  ...   \n",
       "Patient addmited to semi-intensive unit (1=yes,...        -0.122487  ...   \n",
       "Patient addmited to intensive care unit (1=yes,...        -0.099364  ...   \n",
       "...                                                             ...  ...   \n",
       "HCO3 (arterial blood gas analysis)                        -0.051618  ...   \n",
       "pO2 (arterial blood gas analysis)                          0.038621  ...   \n",
       "Arteiral Fio2                                             -0.045810  ...   \n",
       "Phosphor                                                   0.035438  ...   \n",
       "ctO2 (arterial blood gas analysis)                         0.163657  ...   \n",
       "\n",
       "                                                    Hb saturation (arterial blood gases)  \\\n",
       "Patient age quantile                                                           -0.016286   \n",
       "SARS-Cov-2 exam result                                                          0.015189   \n",
       "Patient addmited to regular ward (1=yes, 0=no)                                  0.051133   \n",
       "Patient addmited to semi-intensive unit (1=yes,...                             -0.199293   \n",
       "Patient addmited to intensive care unit (1=yes,...                              0.111363   \n",
       "...                                                                                  ...   \n",
       "HCO3 (arterial blood gas analysis)                                             -0.348558   \n",
       "pO2 (arterial blood gas analysis)                                               0.796438   \n",
       "Arteiral Fio2                                                                  -0.017055   \n",
       "Phosphor                                                                       -0.193765   \n",
       "ctO2 (arterial blood gas analysis)                                              0.127582   \n",
       "\n",
       "                                                    pCO2 (arterial blood gas analysis)  \\\n",
       "Patient age quantile                                                         -0.034110   \n",
       "SARS-Cov-2 exam result                                                       -0.037511   \n",
       "Patient addmited to regular ward (1=yes, 0=no)                               -0.058510   \n",
       "Patient addmited to semi-intensive unit (1=yes,...                            0.040333   \n",
       "Patient addmited to intensive care unit (1=yes,...                            0.094293   \n",
       "...                                                                                ...   \n",
       "HCO3 (arterial blood gas analysis)                                            0.513884   \n",
       "pO2 (arterial blood gas analysis)                                            -0.296518   \n",
       "Arteiral Fio2                                                                 0.381415   \n",
       "Phosphor                                                                      0.365646   \n",
       "ctO2 (arterial blood gas analysis)                                           -0.260971   \n",
       "\n",
       "                                                    Base excess (arterial blood gas analysis)  \\\n",
       "Patient age quantile                                                                 0.041484   \n",
       "SARS-Cov-2 exam result                                                               0.015111   \n",
       "Patient addmited to regular ward (1=yes, 0=no)                                       0.008632   \n",
       "Patient addmited to semi-intensive unit (1=yes,...                                  -0.080640   \n",
       "Patient addmited to intensive care unit (1=yes,...                                   0.064385   \n",
       "...                                                                                       ...   \n",
       "HCO3 (arterial blood gas analysis)                                                   0.644222   \n",
       "pO2 (arterial blood gas analysis)                                                   -0.093285   \n",
       "Arteiral Fio2                                                                       -0.227696   \n",
       "Phosphor                                                                            -0.488217   \n",
       "ctO2 (arterial blood gas analysis)                                                  -0.256192   \n",
       "\n",
       "                                                    pH (arterial blood gas analysis)  \\\n",
       "Patient age quantile                                                        0.041507   \n",
       "SARS-Cov-2 exam result                                                      0.036451   \n",
       "Patient addmited to regular ward (1=yes, 0=no)                              0.052540   \n",
       "Patient addmited to semi-intensive unit (1=yes,...                         -0.063793   \n",
       "Patient addmited to intensive care unit (1=yes,...                         -0.056863   \n",
       "...                                                                              ...   \n",
       "HCO3 (arterial blood gas analysis)                                         -0.209320   \n",
       "pO2 (arterial blood gas analysis)                                           0.200313   \n",
       "Arteiral Fio2                                                              -0.376063   \n",
       "Phosphor                                                                   -0.459113   \n",
       "ctO2 (arterial blood gas analysis)                                          0.091033   \n",
       "\n",
       "                                                    Total CO2 (arterial blood gas analysis)  \\\n",
       "Patient age quantile                                                               0.006264   \n",
       "SARS-Cov-2 exam result                                                            -0.028879   \n",
       "Patient addmited to regular ward (1=yes, 0=no)                                    -0.041230   \n",
       "Patient addmited to semi-intensive unit (1=yes,...                                -0.040144   \n",
       "Patient addmited to intensive care unit (1=yes,...                                 0.134375   \n",
       "...                                                                                     ...   \n",
       "HCO3 (arterial blood gas analysis)                                                 0.992877   \n",
       "pO2 (arterial blood gas analysis)                                                 -0.314796   \n",
       "Arteiral Fio2                                                                      0.134155   \n",
       "Phosphor                                                                          -0.076610   \n",
       "ctO2 (arterial blood gas analysis)                                                -0.442118   \n",
       "\n",
       "                                                    HCO3 (arterial blood gas analysis)  \\\n",
       "Patient age quantile                                                          0.012090   \n",
       "SARS-Cov-2 exam result                                                       -0.024761   \n",
       "Patient addmited to regular ward (1=yes, 0=no)                               -0.034427   \n",
       "Patient addmited to semi-intensive unit (1=yes,...                           -0.048656   \n",
       "Patient addmited to intensive care unit (1=yes,...                            0.130018   \n",
       "...                                                                                ...   \n",
       "HCO3 (arterial blood gas analysis)                                            1.000000   \n",
       "pO2 (arterial blood gas analysis)                                            -0.302613   \n",
       "Arteiral Fio2                                                                 0.082657   \n",
       "Phosphor                                                                     -0.137552   \n",
       "ctO2 (arterial blood gas analysis)                                           -0.434762   \n",
       "\n",
       "                                                    pO2 (arterial blood gas analysis)  \\\n",
       "Patient age quantile                                                        -0.007157   \n",
       "SARS-Cov-2 exam result                                                       0.036186   \n",
       "Patient addmited to regular ward (1=yes, 0=no)                               0.027247   \n",
       "Patient addmited to semi-intensive unit (1=yes,...                          -0.120723   \n",
       "Patient addmited to intensive care unit (1=yes,...                           0.049237   \n",
       "...                                                                               ...   \n",
       "HCO3 (arterial blood gas analysis)                                          -0.302613   \n",
       "pO2 (arterial blood gas analysis)                                            1.000000   \n",
       "Arteiral Fio2                                                               -0.181270   \n",
       "Phosphor                                                                    -0.101630   \n",
       "ctO2 (arterial blood gas analysis)                                           0.270951   \n",
       "\n",
       "                                                    Arteiral Fio2  \\\n",
       "Patient age quantile                                    -0.021239   \n",
       "SARS-Cov-2 exam result                                  -0.030815   \n",
       "Patient addmited to regular ward (1=yes, 0=no)          -0.040326   \n",
       "Patient addmited to semi-intensive unit (1=yes,...      -0.025106   \n",
       "Patient addmited to intensive care unit (1=yes,...       0.105651   \n",
       "...                                                           ...   \n",
       "HCO3 (arterial blood gas analysis)                       0.082657   \n",
       "pO2 (arterial blood gas analysis)                       -0.181270   \n",
       "Arteiral Fio2                                            1.000000   \n",
       "Phosphor                                                 0.125933   \n",
       "ctO2 (arterial blood gas analysis)                      -0.196606   \n",
       "\n",
       "                                                        Phosphor  \\\n",
       "Patient age quantile                               -4.135060e-02   \n",
       "SARS-Cov-2 exam result                             -5.314858e-03   \n",
       "Patient addmited to regular ward (1=yes, 0=no)     -4.491712e-11   \n",
       "Patient addmited to semi-intensive unit (1=yes,...  5.392442e-02   \n",
       "Patient addmited to intensive care unit (1=yes,...  3.943719e-02   \n",
       "...                                                          ...   \n",
       "HCO3 (arterial blood gas analysis)                 -1.375525e-01   \n",
       "pO2 (arterial blood gas analysis)                  -1.016304e-01   \n",
       "Arteiral Fio2                                       1.259335e-01   \n",
       "Phosphor                                            1.000000e+00   \n",
       "ctO2 (arterial blood gas analysis)                  2.199416e-01   \n",
       "\n",
       "                                                    ctO2 (arterial blood gas analysis)  \n",
       "Patient age quantile                                                         -0.004455  \n",
       "SARS-Cov-2 exam result                                                        0.030967  \n",
       "Patient addmited to regular ward (1=yes, 0=no)                                0.070462  \n",
       "Patient addmited to semi-intensive unit (1=yes,...                           -0.017481  \n",
       "Patient addmited to intensive care unit (1=yes,...                           -0.121242  \n",
       "...                                                                                ...  \n",
       "HCO3 (arterial blood gas analysis)                                           -0.434762  \n",
       "pO2 (arterial blood gas analysis)                                             0.270951  \n",
       "Arteiral Fio2                                                                -0.196606  \n",
       "Phosphor                                                                      0.219942  \n",
       "ctO2 (arterial blood gas analysis)                                            1.000000  \n",
       "\n",
       "[75 rows x 75 columns]"
      ]
     },
     "execution_count": 20,
     "metadata": {},
     "output_type": "execute_result"
    }
   ],
   "source": [
    "df.corr()"
   ]
  },
  {
   "cell_type": "markdown",
   "metadata": {},
   "source": [
    "here we can see the relation of variable with the dependent variable that is confirm cases.....how these variable affect the confirmation of covid"
   ]
  },
  {
   "cell_type": "code",
   "execution_count": 60,
   "metadata": {},
   "outputs": [
    {
     "data": {
      "text/html": [
       "<div>\n",
       "<style scoped>\n",
       "    .dataframe tbody tr th:only-of-type {\n",
       "        vertical-align: middle;\n",
       "    }\n",
       "\n",
       "    .dataframe tbody tr th {\n",
       "        vertical-align: top;\n",
       "    }\n",
       "\n",
       "    .dataframe thead th {\n",
       "        text-align: right;\n",
       "    }\n",
       "</style>\n",
       "<table border=\"1\" class=\"dataframe\">\n",
       "  <thead>\n",
       "    <tr style=\"text-align: right;\">\n",
       "      <th></th>\n",
       "      <th>Patient age quantile</th>\n",
       "      <th>SARS-Cov-2 exam result</th>\n",
       "      <th>Patient addmited to regular ward (1=yes, 0=no)</th>\n",
       "      <th>Patient addmited to semi-intensive unit (1=yes, 0=no)</th>\n",
       "      <th>Patient addmited to intensive care unit (1=yes, 0=no)</th>\n",
       "      <th>Hematocrit</th>\n",
       "      <th>Hemoglobin</th>\n",
       "      <th>Platelets</th>\n",
       "      <th>Mean platelet volume</th>\n",
       "      <th>Red blood Cells</th>\n",
       "      <th>...</th>\n",
       "      <th>Hb saturation (arterial blood gases)</th>\n",
       "      <th>pCO2 (arterial blood gas analysis)</th>\n",
       "      <th>Base excess (arterial blood gas analysis)</th>\n",
       "      <th>pH (arterial blood gas analysis)</th>\n",
       "      <th>Total CO2 (arterial blood gas analysis)</th>\n",
       "      <th>HCO3 (arterial blood gas analysis)</th>\n",
       "      <th>pO2 (arterial blood gas analysis)</th>\n",
       "      <th>Arteiral Fio2</th>\n",
       "      <th>Phosphor</th>\n",
       "      <th>ctO2 (arterial blood gas analysis)</th>\n",
       "    </tr>\n",
       "  </thead>\n",
       "  <tbody>\n",
       "    <tr>\n",
       "      <th>0</th>\n",
       "      <td>13</td>\n",
       "      <td>0</td>\n",
       "      <td>0</td>\n",
       "      <td>0</td>\n",
       "      <td>0</td>\n",
       "      <td>0.000000</td>\n",
       "      <td>0.00000</td>\n",
       "      <td>0.000000</td>\n",
       "      <td>0.000000</td>\n",
       "      <td>0.000000</td>\n",
       "      <td>...</td>\n",
       "      <td>0.0</td>\n",
       "      <td>0.0</td>\n",
       "      <td>0.0</td>\n",
       "      <td>0.0</td>\n",
       "      <td>0.0</td>\n",
       "      <td>0.0</td>\n",
       "      <td>0.0</td>\n",
       "      <td>0.0</td>\n",
       "      <td>0.0</td>\n",
       "      <td>0.0</td>\n",
       "    </tr>\n",
       "    <tr>\n",
       "      <th>1</th>\n",
       "      <td>17</td>\n",
       "      <td>0</td>\n",
       "      <td>0</td>\n",
       "      <td>0</td>\n",
       "      <td>0</td>\n",
       "      <td>0.236515</td>\n",
       "      <td>-0.02234</td>\n",
       "      <td>-0.517413</td>\n",
       "      <td>0.010677</td>\n",
       "      <td>0.102004</td>\n",
       "      <td>...</td>\n",
       "      <td>0.0</td>\n",
       "      <td>0.0</td>\n",
       "      <td>0.0</td>\n",
       "      <td>0.0</td>\n",
       "      <td>0.0</td>\n",
       "      <td>0.0</td>\n",
       "      <td>0.0</td>\n",
       "      <td>0.0</td>\n",
       "      <td>0.0</td>\n",
       "      <td>0.0</td>\n",
       "    </tr>\n",
       "    <tr>\n",
       "      <th>2</th>\n",
       "      <td>8</td>\n",
       "      <td>0</td>\n",
       "      <td>0</td>\n",
       "      <td>0</td>\n",
       "      <td>0</td>\n",
       "      <td>0.000000</td>\n",
       "      <td>0.00000</td>\n",
       "      <td>0.000000</td>\n",
       "      <td>0.000000</td>\n",
       "      <td>0.000000</td>\n",
       "      <td>...</td>\n",
       "      <td>0.0</td>\n",
       "      <td>0.0</td>\n",
       "      <td>0.0</td>\n",
       "      <td>0.0</td>\n",
       "      <td>0.0</td>\n",
       "      <td>0.0</td>\n",
       "      <td>0.0</td>\n",
       "      <td>0.0</td>\n",
       "      <td>0.0</td>\n",
       "      <td>0.0</td>\n",
       "    </tr>\n",
       "    <tr>\n",
       "      <th>3</th>\n",
       "      <td>5</td>\n",
       "      <td>0</td>\n",
       "      <td>0</td>\n",
       "      <td>0</td>\n",
       "      <td>0</td>\n",
       "      <td>0.000000</td>\n",
       "      <td>0.00000</td>\n",
       "      <td>0.000000</td>\n",
       "      <td>0.000000</td>\n",
       "      <td>0.000000</td>\n",
       "      <td>...</td>\n",
       "      <td>0.0</td>\n",
       "      <td>0.0</td>\n",
       "      <td>0.0</td>\n",
       "      <td>0.0</td>\n",
       "      <td>0.0</td>\n",
       "      <td>0.0</td>\n",
       "      <td>0.0</td>\n",
       "      <td>0.0</td>\n",
       "      <td>0.0</td>\n",
       "      <td>0.0</td>\n",
       "    </tr>\n",
       "    <tr>\n",
       "      <th>4</th>\n",
       "      <td>15</td>\n",
       "      <td>0</td>\n",
       "      <td>0</td>\n",
       "      <td>0</td>\n",
       "      <td>0</td>\n",
       "      <td>0.000000</td>\n",
       "      <td>0.00000</td>\n",
       "      <td>0.000000</td>\n",
       "      <td>0.000000</td>\n",
       "      <td>0.000000</td>\n",
       "      <td>...</td>\n",
       "      <td>0.0</td>\n",
       "      <td>0.0</td>\n",
       "      <td>0.0</td>\n",
       "      <td>0.0</td>\n",
       "      <td>0.0</td>\n",
       "      <td>0.0</td>\n",
       "      <td>0.0</td>\n",
       "      <td>0.0</td>\n",
       "      <td>0.0</td>\n",
       "      <td>0.0</td>\n",
       "    </tr>\n",
       "  </tbody>\n",
       "</table>\n",
       "<p>5 rows × 110 columns</p>\n",
       "</div>"
      ],
      "text/plain": [
       "   Patient age quantile  SARS-Cov-2 exam result  \\\n",
       "0                    13                       0   \n",
       "1                    17                       0   \n",
       "2                     8                       0   \n",
       "3                     5                       0   \n",
       "4                    15                       0   \n",
       "\n",
       "   Patient addmited to regular ward (1=yes, 0=no)  \\\n",
       "0                                               0   \n",
       "1                                               0   \n",
       "2                                               0   \n",
       "3                                               0   \n",
       "4                                               0   \n",
       "\n",
       "   Patient addmited to semi-intensive unit (1=yes, 0=no)  \\\n",
       "0                                                  0       \n",
       "1                                                  0       \n",
       "2                                                  0       \n",
       "3                                                  0       \n",
       "4                                                  0       \n",
       "\n",
       "   Patient addmited to intensive care unit (1=yes, 0=no)  Hematocrit  \\\n",
       "0                                                  0        0.000000   \n",
       "1                                                  0        0.236515   \n",
       "2                                                  0        0.000000   \n",
       "3                                                  0        0.000000   \n",
       "4                                                  0        0.000000   \n",
       "\n",
       "   Hemoglobin  Platelets  Mean platelet volume   Red blood Cells  ...  \\\n",
       "0     0.00000   0.000000               0.000000         0.000000  ...   \n",
       "1    -0.02234  -0.517413               0.010677         0.102004  ...   \n",
       "2     0.00000   0.000000               0.000000         0.000000  ...   \n",
       "3     0.00000   0.000000               0.000000         0.000000  ...   \n",
       "4     0.00000   0.000000               0.000000         0.000000  ...   \n",
       "\n",
       "   Hb saturation (arterial blood gases)  pCO2 (arterial blood gas analysis)  \\\n",
       "0                                   0.0                                 0.0   \n",
       "1                                   0.0                                 0.0   \n",
       "2                                   0.0                                 0.0   \n",
       "3                                   0.0                                 0.0   \n",
       "4                                   0.0                                 0.0   \n",
       "\n",
       "   Base excess (arterial blood gas analysis)  \\\n",
       "0                                        0.0   \n",
       "1                                        0.0   \n",
       "2                                        0.0   \n",
       "3                                        0.0   \n",
       "4                                        0.0   \n",
       "\n",
       "   pH (arterial blood gas analysis)  Total CO2 (arterial blood gas analysis)  \\\n",
       "0                               0.0                                      0.0   \n",
       "1                               0.0                                      0.0   \n",
       "2                               0.0                                      0.0   \n",
       "3                               0.0                                      0.0   \n",
       "4                               0.0                                      0.0   \n",
       "\n",
       "   HCO3 (arterial blood gas analysis)  pO2 (arterial blood gas analysis)  \\\n",
       "0                                 0.0                                0.0   \n",
       "1                                 0.0                                0.0   \n",
       "2                                 0.0                                0.0   \n",
       "3                                 0.0                                0.0   \n",
       "4                                 0.0                                0.0   \n",
       "\n",
       "   Arteiral Fio2  Phosphor  ctO2 (arterial blood gas analysis)  \n",
       "0            0.0       0.0                                 0.0  \n",
       "1            0.0       0.0                                 0.0  \n",
       "2            0.0       0.0                                 0.0  \n",
       "3            0.0       0.0                                 0.0  \n",
       "4            0.0       0.0                                 0.0  \n",
       "\n",
       "[5 rows x 110 columns]"
      ]
     },
     "execution_count": 60,
     "metadata": {},
     "output_type": "execute_result"
    }
   ],
   "source": [
    "df.head()"
   ]
  },
  {
   "cell_type": "code",
   "execution_count": 91,
   "metadata": {},
   "outputs": [
    {
     "name": "stdout",
     "output_type": "stream",
     "text": [
      "<class 'pandas.core.frame.DataFrame'>\n",
      "RangeIndex: 5644 entries, 0 to 5643\n",
      "Data columns (total 18 columns):\n",
      " #   Column                                                 Non-Null Count  Dtype  \n",
      "---  ------                                                 --------------  -----  \n",
      " 0   Patient addmited to regular ward (1=yes, 0=no)         5644 non-null   int64  \n",
      " 1   Patient addmited to semi-intensive unit (1=yes, 0=no)  5644 non-null   int64  \n",
      " 2   Patient addmited to intensive care unit (1=yes, 0=no)  5644 non-null   int64  \n",
      " 3   Hematocrit                                             5644 non-null   float64\n",
      " 4   Hemoglobin                                             5644 non-null   float64\n",
      " 5   Platelets                                              5644 non-null   float64\n",
      " 6   Mean platelet volume                                   5644 non-null   float64\n",
      " 7   Red blood Cells                                        5644 non-null   float64\n",
      " 8   Lymphocytes                                            5644 non-null   float64\n",
      " 9   Mean corpuscular hemoglobin concentration (MCHC)       5644 non-null   float64\n",
      " 10  Leukocytes                                             5644 non-null   float64\n",
      " 11  Basophils                                              5644 non-null   float64\n",
      " 12  Mean corpuscular hemoglobin (MCH)                      5644 non-null   float64\n",
      " 13  Eosinophils                                            5644 non-null   float64\n",
      " 14  Mean corpuscular volume (MCV)                          5644 non-null   float64\n",
      " 15  Monocytes                                              5644 non-null   float64\n",
      " 16  Red blood cell distribution width (RDW)                5644 non-null   float64\n",
      " 17  Serum Glucose                                          5644 non-null   float64\n",
      "dtypes: float64(15), int64(3)\n",
      "memory usage: 793.8 KB\n"
     ]
    }
   ],
   "source": [
    "x.info()"
   ]
  },
  {
   "cell_type": "code",
   "execution_count": null,
   "metadata": {},
   "outputs": [],
   "source": []
  },
  {
   "cell_type": "code",
   "execution_count": null,
   "metadata": {},
   "outputs": [],
   "source": []
  },
  {
   "cell_type": "code",
   "execution_count": null,
   "metadata": {},
   "outputs": [],
   "source": []
  },
  {
   "cell_type": "markdown",
   "metadata": {},
   "source": [
    "# Setting x and y variable"
   ]
  },
  {
   "cell_type": "code",
   "execution_count": 85,
   "metadata": {},
   "outputs": [],
   "source": [
    "x=df.iloc[:,2:20]"
   ]
  },
  {
   "cell_type": "code",
   "execution_count": 86,
   "metadata": {},
   "outputs": [
    {
     "data": {
      "text/plain": [
       "(5644, 18)"
      ]
     },
     "execution_count": 86,
     "metadata": {},
     "output_type": "execute_result"
    }
   ],
   "source": [
    "x.shape"
   ]
  },
  {
   "cell_type": "code",
   "execution_count": 87,
   "metadata": {},
   "outputs": [],
   "source": [
    "y=df.iloc[:,1]"
   ]
  },
  {
   "cell_type": "code",
   "execution_count": 88,
   "metadata": {},
   "outputs": [
    {
     "data": {
      "text/plain": [
       "(5644,)"
      ]
     },
     "execution_count": 88,
     "metadata": {},
     "output_type": "execute_result"
    }
   ],
   "source": [
    "y.shape"
   ]
  },
  {
   "cell_type": "markdown",
   "metadata": {},
   "source": [
    "# Classification Process"
   ]
  },
  {
   "cell_type": "code",
   "execution_count": 92,
   "metadata": {},
   "outputs": [],
   "source": [
    "from sklearn.model_selection import train_test_split,cross_val_score,GridSearchCV\n",
    "from sklearn.metrics import accuracy_score,classification_report,confusion_matrix,roc_curve,roc_auc_score"
   ]
  },
  {
   "cell_type": "code",
   "execution_count": 93,
   "metadata": {},
   "outputs": [],
   "source": [
    "def max_acc_score(clf,x,y):\n",
    "    max_score=0\n",
    "    for r in range(42,101):\n",
    "        \n",
    "        x_train,x_test,y_train,y_test=train_test_split(x,y,test_size=.20,random_state=r)\n",
    "        clf.fit(x_train,y_train)\n",
    "        pred=clf.predict(x_test)\n",
    "        a_sc=accuracy_score(y_test,pred)\n",
    "        if a_sc>max_score:\n",
    "            max_score=a_sc\n",
    "            a_state=r\n",
    "            \n",
    "    print('max score at random_state of',a_state,'is',max_score)\n",
    "    return a_state"
   ]
  },
  {
   "cell_type": "code",
   "execution_count": 94,
   "metadata": {},
   "outputs": [
    {
     "name": "stdout",
     "output_type": "stream",
     "text": [
      "max score at random_state of 70 is 0.9282550930026572\n"
     ]
    },
    {
     "data": {
      "text/plain": [
       "70"
      ]
     },
     "execution_count": 94,
     "metadata": {},
     "output_type": "execute_result"
    }
   ],
   "source": [
    "from sklearn.linear_model import LogisticRegression\n",
    "lg=LogisticRegression()\n",
    "max_acc_score(lg,x,y)"
   ]
  },
  {
   "cell_type": "code",
   "execution_count": 96,
   "metadata": {},
   "outputs": [],
   "source": [
    "x_train,x_test,y_train,y_test=train_test_split(x,y,test_size=.20,random_state=70)\n",
    "lg.fit(x_train,y_train)\n",
    "pred=lg.predict(x_test)"
   ]
  },
  {
   "cell_type": "code",
   "execution_count": 97,
   "metadata": {},
   "outputs": [
    {
     "name": "stdout",
     "output_type": "stream",
     "text": [
      "0.9282550930026572\n",
      "\n",
      "\n",
      "              precision    recall  f1-score   support\n",
      "\n",
      "           0       0.93      1.00      0.96      1044\n",
      "           1       0.75      0.07      0.13        85\n",
      "\n",
      "    accuracy                           0.93      1129\n",
      "   macro avg       0.84      0.53      0.55      1129\n",
      "weighted avg       0.92      0.93      0.90      1129\n",
      "\n",
      "\n",
      "\n",
      "[[1042    2]\n",
      " [  79    6]]\n"
     ]
    }
   ],
   "source": [
    "print(accuracy_score(y_test,pred))\n",
    "print('\\n')\n",
    "print(classification_report(y_test,pred))\n",
    "print('\\n')\n",
    "print(confusion_matrix(y_test,pred))"
   ]
  },
  {
   "cell_type": "code",
   "execution_count": 98,
   "metadata": {},
   "outputs": [
    {
     "name": "stdout",
     "output_type": "stream",
     "text": [
      "[0.89991143 0.89902569 0.90434012 0.91408326 0.89716312]\n",
      "0.9029047233163097\n",
      "0.006066181740747562\n"
     ]
    }
   ],
   "source": [
    "score=cross_val_score(lg,x,y,cv=5,scoring='accuracy')\n",
    "print(score)\n",
    "print(score.mean())\n",
    "print(score.std())"
   ]
  },
  {
   "cell_type": "code",
   "execution_count": 99,
   "metadata": {},
   "outputs": [
    {
     "name": "stdout",
     "output_type": "stream",
     "text": [
      "[0.         0.         0.         0.00383142 0.00383142 0.00670498\n",
      " 0.00670498 0.01149425 0.01340996 0.01340996 0.01436782 0.01436782\n",
      " 0.02681992 0.02873563 0.03639847 0.03639847 0.04597701 0.04597701\n",
      " 0.04789272 0.06034483 0.94731801 1.        ]\n",
      "\n",
      "\n",
      "[0.         0.01176471 0.07058824 0.07058824 0.08235294 0.08235294\n",
      " 0.09411765 0.10588235 0.10588235 0.11764706 0.11764706 0.14117647\n",
      " 0.14117647 0.14117647 0.14117647 0.15294118 0.15294118 0.16470588\n",
      " 0.16470588 0.16470588 1.         1.        ]\n",
      "\n",
      "\n",
      "[1.74972633e+00 7.49726328e-01 5.68387670e-01 4.43315329e-01\n",
      " 4.39074639e-01 3.63825423e-01 3.55185589e-01 3.49315077e-01\n",
      " 3.15668007e-01 2.99524582e-01 2.92295160e-01 2.86709207e-01\n",
      " 1.98140157e-01 1.95555584e-01 1.56967754e-01 1.56172338e-01\n",
      " 1.24867460e-01 1.16682449e-01 1.16409755e-01 9.43132118e-02\n",
      " 9.42256123e-02 9.67357243e-04]\n"
     ]
    }
   ],
   "source": [
    "#auc_roc_score\n",
    "pred_prob=lg.predict_proba(x_test)[:,1]\n",
    "fpr,tpr,thresold=roc_curve(y_test,pred_prob)\n",
    "print(fpr)\n",
    "print('\\n')\n",
    "print(tpr)\n",
    "print('\\n')\n",
    "print(thresold)"
   ]
  },
  {
   "cell_type": "code",
   "execution_count": 100,
   "metadata": {},
   "outputs": [
    {
     "data": {
      "image/png": "[encoded data removed]",
      "text/plain": [
       "<Figure size 432x288 with 1 Axes>"
      ]
     },
     "metadata": {
      "needs_background": "light"
     },
     "output_type": "display_data"
    }
   ],
   "source": [
    "plt.plot([0,1],[0,1],'k--')\n",
    "plt.plot(fpr,tpr,label='Logistic Regression')\n",
    "plt.xlabel('fpr')\n",
    "plt.ylabel('tpr')\n",
    "plt.show()"
   ]
  },
  {
   "cell_type": "code",
   "execution_count": 101,
   "metadata": {},
   "outputs": [
    {
     "data": {
      "text/plain": [
       "0.5343362632409285"
      ]
     },
     "execution_count": 101,
     "metadata": {},
     "output_type": "execute_result"
    }
   ],
   "source": [
    "#auc score\n",
    "roc_score=roc_auc_score(y_test,pred)\n",
    "roc_score"
   ]
  },
  {
   "cell_type": "code",
   "execution_count": 102,
   "metadata": {},
   "outputs": [],
   "source": [
    "lg_score=accuracy_score(y_test,pred),cross_val_score(lg,x,y,cv=5,scoring='accuracy').mean(),roc_auc_score(y_test,pred)"
   ]
  },
  {
   "cell_type": "markdown",
   "metadata": {},
   "source": [
    "# DecisionTreeClassifier"
   ]
  },
  {
   "cell_type": "code",
   "execution_count": 103,
   "metadata": {},
   "outputs": [],
   "source": [
    "from sklearn.tree import DecisionTreeClassifier"
   ]
  },
  {
   "cell_type": "code",
   "execution_count": 104,
   "metadata": {},
   "outputs": [
    {
     "name": "stdout",
     "output_type": "stream",
     "text": [
      "max score at random_state of 58 is 0.9202834366696191\n"
     ]
    },
    {
     "data": {
      "text/plain": [
       "58"
      ]
     },
     "execution_count": 104,
     "metadata": {},
     "output_type": "execute_result"
    }
   ],
   "source": [
    "dt=DecisionTreeClassifier()\n",
    "max_acc_score(dt,x,y)"
   ]
  },
  {
   "cell_type": "code",
   "execution_count": 105,
   "metadata": {},
   "outputs": [],
   "source": [
    "x_train,x_test,y_train,y_test=train_test_split(x,y,test_size=.20,random_state=58)\n",
    "dt.fit(x_train,y_train)\n",
    "pred=dt.predict(x_test)"
   ]
  },
  {
   "cell_type": "code",
   "execution_count": 106,
   "metadata": {},
   "outputs": [
    {
     "name": "stdout",
     "output_type": "stream",
     "text": [
      "0.9220549158547388\n",
      "\n",
      "\n",
      "              precision    recall  f1-score   support\n",
      "\n",
      "           0       0.93      0.99      0.96      1036\n",
      "           1       0.65      0.12      0.20        93\n",
      "\n",
      "    accuracy                           0.92      1129\n",
      "   macro avg       0.79      0.56      0.58      1129\n",
      "weighted avg       0.90      0.92      0.90      1129\n",
      "\n",
      "\n",
      "\n",
      "[[1030    6]\n",
      " [  82   11]]\n"
     ]
    }
   ],
   "source": [
    "print(accuracy_score(y_test,pred))\n",
    "print('\\n')\n",
    "print(classification_report(y_test,pred))\n",
    "print('\\n')\n",
    "print(confusion_matrix(y_test,pred))"
   ]
  },
  {
   "cell_type": "code",
   "execution_count": 107,
   "metadata": {},
   "outputs": [
    {
     "name": "stdout",
     "output_type": "stream",
     "text": [
      "[0.88131089 0.89548273 0.90434012 0.90522586 0.875     ]\n",
      "0.8922719220549158\n",
      "0.01218374974666979\n"
     ]
    }
   ],
   "source": [
    "score=cross_val_score(dt,x,y,cv=5,scoring='accuracy')\n",
    "print(score)\n",
    "print(score.mean())\n",
    "print(score.std())"
   ]
  },
  {
   "cell_type": "code",
   "execution_count": 108,
   "metadata": {},
   "outputs": [
    {
     "name": "stdout",
     "output_type": "stream",
     "text": [
      "[0.         0.00579151 0.01061776 0.8957529  1.        ]\n",
      "\n",
      "\n",
      "[0.         0.11827957 0.11827957 0.94623656 1.        ]\n",
      "\n",
      "\n",
      "[2.         1.         0.5        0.09710434 0.        ]\n"
     ]
    }
   ],
   "source": [
    "#auc_roc_score\n",
    "pred_prob=dt.predict_proba(x_test)[:,1]\n",
    "fpr,tpr,thresold=roc_curve(y_test,pred_prob)\n",
    "print(fpr)\n",
    "print('\\n')\n",
    "print(tpr)\n",
    "print('\\n')\n",
    "print(thresold)"
   ]
  },
  {
   "cell_type": "code",
   "execution_count": 109,
   "metadata": {},
   "outputs": [
    {
     "data": {
      "image/png": "[encoded data removed]",
      "text/plain": [
       "<Figure size 432x288 with 1 Axes>"
      ]
     },
     "metadata": {
      "needs_background": "light"
     },
     "output_type": "display_data"
    }
   ],
   "source": [
    "plt.plot([0,1],[0,1],'k--')\n",
    "plt.plot(fpr,tpr,label='decision tree classifier')\n",
    "plt.xlabel('fpr')\n",
    "plt.ylabel('tpr')\n",
    "plt.show()"
   ]
  },
  {
   "cell_type": "code",
   "execution_count": 110,
   "metadata": {},
   "outputs": [
    {
     "data": {
      "text/plain": [
       "0.5562440320504837"
      ]
     },
     "execution_count": 110,
     "metadata": {},
     "output_type": "execute_result"
    }
   ],
   "source": [
    "#auc score\n",
    "roc_score=roc_auc_score(y_test,pred)\n",
    "roc_score"
   ]
  },
  {
   "cell_type": "code",
   "execution_count": 111,
   "metadata": {},
   "outputs": [],
   "source": [
    "dt_score=accuracy_score(y_test,pred),cross_val_score(dt,x,y,cv=5,scoring='accuracy').mean(),roc_auc_score(y_test,pred)"
   ]
  },
  {
   "cell_type": "markdown",
   "metadata": {},
   "source": [
    "# KNeighborsClassifier"
   ]
  },
  {
   "cell_type": "code",
   "execution_count": 112,
   "metadata": {},
   "outputs": [
    {
     "data": {
      "text/plain": [
       "{'n_neighbors': 2}"
      ]
     },
     "execution_count": 112,
     "metadata": {},
     "output_type": "execute_result"
    }
   ],
   "source": [
    "from sklearn.neighbors import KNeighborsClassifier\n",
    "knn=KNeighborsClassifier()\n",
    "pr={'n_neighbors':range(1,30)}\n",
    "gs=GridSearchCV(knn,pr,cv=5)\n",
    "gs.fit(x,y)\n",
    "gs.best_params_"
   ]
  },
  {
   "cell_type": "code",
   "execution_count": 113,
   "metadata": {},
   "outputs": [
    {
     "name": "stdout",
     "output_type": "stream",
     "text": [
      "max score at random_state of 70 is 0.9229406554472985\n"
     ]
    }
   ],
   "source": [
    "knn=KNeighborsClassifier(n_neighbors=2)\n",
    "sc=max_acc_score(knn,x,y)"
   ]
  },
  {
   "cell_type": "code",
   "execution_count": 114,
   "metadata": {},
   "outputs": [],
   "source": [
    "x_train,x_test,y_train,y_test=train_test_split(x,y,test_size=.20,random_state=70)\n",
    "knn.fit(x_train,y_train)\n",
    "pred=knn.predict(x_test)"
   ]
  },
  {
   "cell_type": "code",
   "execution_count": 115,
   "metadata": {},
   "outputs": [
    {
     "name": "stdout",
     "output_type": "stream",
     "text": [
      "0.9229406554472985\n",
      "\n",
      "\n",
      "              precision    recall  f1-score   support\n",
      "\n",
      "           0       0.93      0.99      0.96      1044\n",
      "           1       0.40      0.05      0.08        85\n",
      "\n",
      "    accuracy                           0.92      1129\n",
      "   macro avg       0.66      0.52      0.52      1129\n",
      "weighted avg       0.89      0.92      0.89      1129\n",
      "\n",
      "\n",
      "\n",
      "[[1038    6]\n",
      " [  81    4]]\n"
     ]
    }
   ],
   "source": [
    "print(accuracy_score(y_test,pred))\n",
    "print('\\n')\n",
    "print(classification_report(y_test,pred))\n",
    "print('\\n')\n",
    "print(confusion_matrix(y_test,pred))"
   ]
  },
  {
   "cell_type": "code",
   "execution_count": 116,
   "metadata": {},
   "outputs": [
    {
     "name": "stdout",
     "output_type": "stream",
     "text": [
      "[0.89813995 0.89991143 0.90256864 0.90168291 0.90336879]\n",
      "0.9011343434533794\n",
      "0.001887477105026904\n"
     ]
    }
   ],
   "source": [
    "score=cross_val_score(knn,x,y,cv=5,scoring='accuracy')\n",
    "print(score)\n",
    "print(score.mean())\n",
    "print(score.std())"
   ]
  },
  {
   "cell_type": "code",
   "execution_count": 117,
   "metadata": {},
   "outputs": [
    {
     "name": "stdout",
     "output_type": "stream",
     "text": [
      "[0.         0.00574713 0.02298851 1.        ]\n",
      "\n",
      "\n",
      "[0.         0.04705882 0.10588235 1.        ]\n",
      "\n",
      "\n",
      "[2.  1.  0.5 0. ]\n"
     ]
    }
   ],
   "source": [
    "#auc_roc_score\n",
    "pred_prob=knn.predict_proba(x_test)[:,1]\n",
    "fpr,tpr,thresold=roc_curve(y_test,pred_prob)\n",
    "print(fpr)\n",
    "print('\\n')\n",
    "print(tpr)\n",
    "print('\\n')\n",
    "print(thresold)"
   ]
  },
  {
   "cell_type": "code",
   "execution_count": 118,
   "metadata": {
    "scrolled": true
   },
   "outputs": [
    {
     "data": {
      "image/png": "[encoded data removed]",
      "text/plain": [
       "<Figure size 432x288 with 1 Axes>"
      ]
     },
     "metadata": {
      "needs_background": "light"
     },
     "output_type": "display_data"
    }
   ],
   "source": [
    "plt.plot([0,1],[0,1],'k--')\n",
    "plt.plot(fpr,tpr,label='kneighbors classifier')\n",
    "plt.xlabel('fpr')\n",
    "plt.ylabel('tpr')\n",
    "plt.show()"
   ]
  },
  {
   "cell_type": "code",
   "execution_count": 119,
   "metadata": {},
   "outputs": [
    {
     "data": {
      "text/plain": [
       "0.5206558485463151"
      ]
     },
     "execution_count": 119,
     "metadata": {},
     "output_type": "execute_result"
    }
   ],
   "source": [
    "#auc score\n",
    "roc_score=roc_auc_score(y_test,pred)\n",
    "roc_score"
   ]
  },
  {
   "cell_type": "code",
   "execution_count": 120,
   "metadata": {},
   "outputs": [],
   "source": [
    "knn_score=accuracy_score(y_test,pred),cross_val_score(knn,x,y,cv=5,scoring='accuracy').mean(),roc_auc_score(y_test,pred)"
   ]
  },
  {
   "cell_type": "markdown",
   "metadata": {},
   "source": [
    "# SVC"
   ]
  },
  {
   "cell_type": "code",
   "execution_count": 123,
   "metadata": {},
   "outputs": [
    {
     "name": "stdout",
     "output_type": "stream",
     "text": [
      "max score at random_state of 70 is 0.9247121346324181\n"
     ]
    },
    {
     "data": {
      "text/plain": [
       "70"
      ]
     },
     "execution_count": 123,
     "metadata": {},
     "output_type": "execute_result"
    }
   ],
   "source": [
    "from sklearn.svm import SVC\n",
    "svc=SVC(kernel='linear')\n",
    "max_acc_score(svc,x,y)"
   ]
  },
  {
   "cell_type": "code",
   "execution_count": 124,
   "metadata": {},
   "outputs": [],
   "source": [
    "x_train,x_test,y_train,y_test=train_test_split(x,y,test_size=.20,random_state=70)\n",
    "svc.fit(x_train,y_train)\n",
    "pred=svc.predict(x_test)"
   ]
  },
  {
   "cell_type": "code",
   "execution_count": 125,
   "metadata": {},
   "outputs": [
    {
     "name": "stdout",
     "output_type": "stream",
     "text": [
      "0.9247121346324181\n",
      "\n",
      "\n",
      "              precision    recall  f1-score   support\n",
      "\n",
      "           0       0.92      1.00      0.96      1044\n",
      "           1       0.00      0.00      0.00        85\n",
      "\n",
      "    accuracy                           0.92      1129\n",
      "   macro avg       0.46      0.50      0.48      1129\n",
      "weighted avg       0.86      0.92      0.89      1129\n",
      "\n",
      "\n",
      "\n",
      "[[1044    0]\n",
      " [  85    0]]\n"
     ]
    }
   ],
   "source": [
    "print(accuracy_score(y_test,pred))\n",
    "print('\\n')\n",
    "print(classification_report(y_test,pred))\n",
    "print('\\n')\n",
    "print(confusion_matrix(y_test,pred))"
   ]
  },
  {
   "cell_type": "code",
   "execution_count": 126,
   "metadata": {},
   "outputs": [
    {
     "name": "stdout",
     "output_type": "stream",
     "text": [
      "[0.89991143 0.90079717 0.90079717 0.90079717 0.88741135]\n",
      "0.8979428540916772\n",
      "0.00527691556433724\n"
     ]
    }
   ],
   "source": [
    "score=cross_val_score(svc,x,y,cv=5,scoring='accuracy')\n",
    "print(score)\n",
    "print(score.mean())\n",
    "print(score.std())"
   ]
  },
  {
   "cell_type": "code",
   "execution_count": 127,
   "metadata": {},
   "outputs": [
    {
     "data": {
      "text/plain": [
       "0.5"
      ]
     },
     "execution_count": 127,
     "metadata": {},
     "output_type": "execute_result"
    }
   ],
   "source": [
    "#auc score\n",
    "roc_score=roc_auc_score(y_test,pred)\n",
    "roc_score"
   ]
  },
  {
   "cell_type": "code",
   "execution_count": 128,
   "metadata": {},
   "outputs": [],
   "source": [
    "svc_score=accuracy_score(y_test,pred),cross_val_score(svc,x,y,cv=5,scoring='accuracy').mean(),roc_auc_score(y_test,pred)"
   ]
  },
  {
   "cell_type": "markdown",
   "metadata": {},
   "source": [
    "# GradientBoostingClassifier"
   ]
  },
  {
   "cell_type": "code",
   "execution_count": 129,
   "metadata": {},
   "outputs": [],
   "source": [
    "from sklearn.ensemble import GradientBoostingClassifier"
   ]
  },
  {
   "cell_type": "code",
   "execution_count": 130,
   "metadata": {},
   "outputs": [
    {
     "data": {
      "text/plain": [
       "{'learning_rate': 0.01, 'n_estimators': 150}"
      ]
     },
     "execution_count": 130,
     "metadata": {},
     "output_type": "execute_result"
    }
   ],
   "source": [
    "gb=GradientBoostingClassifier()\n",
    "pr={'learning_rate':[.0001,.001,.01,.1,1],'n_estimators':[10,50,100,150,200,250,300]}\n",
    "gs=GridSearchCV(gb,pr,cv=5)\n",
    "gs.fit(x,y)\n",
    "gs.best_params_"
   ]
  },
  {
   "cell_type": "code",
   "execution_count": 131,
   "metadata": {},
   "outputs": [
    {
     "name": "stdout",
     "output_type": "stream",
     "text": [
      "max score at random_state of 91 is 0.9264836138175376\n"
     ]
    },
    {
     "data": {
      "text/plain": [
       "91"
      ]
     },
     "execution_count": 131,
     "metadata": {},
     "output_type": "execute_result"
    }
   ],
   "source": [
    "gb=GradientBoostingClassifier(learning_rate=.01,n_estimators=150)\n",
    "max_acc_score(gb,x,y)"
   ]
  },
  {
   "cell_type": "code",
   "execution_count": 132,
   "metadata": {},
   "outputs": [],
   "source": [
    "x_train,x_test,y_train,y_test=train_test_split(x,y,test_size=.20,random_state=91)\n",
    "gb.fit(x_train,y_train)\n",
    "pred=gb.predict(x_test)"
   ]
  },
  {
   "cell_type": "code",
   "execution_count": 133,
   "metadata": {},
   "outputs": [
    {
     "name": "stdout",
     "output_type": "stream",
     "text": [
      "0.9264836138175376\n",
      "\n",
      "\n",
      "              precision    recall  f1-score   support\n",
      "\n",
      "           0       0.93      1.00      0.96      1042\n",
      "           1       0.75      0.07      0.13        87\n",
      "\n",
      "    accuracy                           0.93      1129\n",
      "   macro avg       0.84      0.53      0.54      1129\n",
      "weighted avg       0.91      0.93      0.90      1129\n",
      "\n",
      "\n",
      "\n",
      "[[1040    2]\n",
      " [  81    6]]\n"
     ]
    }
   ],
   "source": [
    "print(accuracy_score(y_test,pred))\n",
    "print('\\n')\n",
    "print(classification_report(y_test,pred))\n",
    "print('\\n')\n",
    "print(confusion_matrix(y_test,pred))"
   ]
  },
  {
   "cell_type": "code",
   "execution_count": 134,
   "metadata": {},
   "outputs": [
    {
     "name": "stdout",
     "output_type": "stream",
     "text": [
      "[0.90079717 0.89813995 0.90434012 0.90522586 0.90159574]\n",
      "0.902019768953885\n",
      "0.002545217687707652\n"
     ]
    }
   ],
   "source": [
    "score=cross_val_score(gb,x,y,cv=5,scoring='accuracy')\n",
    "print(score)\n",
    "print(score.mean())\n",
    "print(score.std())"
   ]
  },
  {
   "cell_type": "code",
   "execution_count": 135,
   "metadata": {},
   "outputs": [
    {
     "name": "stdout",
     "output_type": "stream",
     "text": [
      "[0.00000000e+00 0.00000000e+00 0.00000000e+00 9.59692898e-04\n",
      " 1.91938580e-03 1.91938580e-03 2.87907869e-03 2.87907869e-03\n",
      " 3.83877159e-03 3.83877159e-03 6.71785029e-03 6.71785029e-03\n",
      " 8.63723608e-03 9.59692898e-03 1.15163148e-02 1.15163148e-02\n",
      " 1.63147793e-02 1.63147793e-02 3.45489443e-02 9.40499040e-01\n",
      " 9.77927063e-01 9.79846449e-01 9.90403071e-01 9.92322457e-01\n",
      " 1.00000000e+00]\n",
      "\n",
      "\n",
      "[0.         0.01149425 0.05747126 0.05747126 0.06896552 0.08045977\n",
      " 0.08045977 0.09195402 0.09195402 0.11494253 0.11494253 0.12643678\n",
      " 0.12643678 0.17241379 0.17241379 0.18390805 0.18390805 0.1954023\n",
      " 0.1954023  1.         1.         1.         1.         1.\n",
      " 1.        ]\n",
      "\n",
      "\n",
      "[1.69696722 0.69696722 0.62472765 0.61398271 0.60830608 0.44918818\n",
      " 0.43441105 0.42434461 0.38550283 0.3098801  0.26509269 0.26384649\n",
      " 0.23079865 0.2150209  0.20366163 0.19937999 0.15990386 0.15704203\n",
      " 0.1005809  0.09924907 0.06101959 0.05920825 0.05359221 0.05332654\n",
      " 0.03917842]\n"
     ]
    }
   ],
   "source": [
    "#auc_roc_score\n",
    "pred_prob=gb.predict_proba(x_test)[:,1]\n",
    "fpr,tpr,thresold=roc_curve(y_test,pred_prob)\n",
    "print(fpr)\n",
    "print('\\n')\n",
    "print(tpr)\n",
    "print('\\n')\n",
    "print(thresold)"
   ]
  },
  {
   "cell_type": "code",
   "execution_count": 136,
   "metadata": {},
   "outputs": [
    {
     "data": {
      "image/png": "[encoded data removed]",
      "text/plain": [
       "<Figure size 432x288 with 1 Axes>"
      ]
     },
     "metadata": {
      "needs_background": "light"
     },
     "output_type": "display_data"
    }
   ],
   "source": [
    "plt.plot([0,1],[0,1],'k--')\n",
    "plt.plot(fpr,tpr,label='Gradientboost')\n",
    "plt.xlabel('fpr')\n",
    "plt.ylabel('tpr')\n",
    "plt.title('adaboostclassifer')\n",
    "plt.show()"
   ]
  },
  {
   "cell_type": "code",
   "execution_count": 137,
   "metadata": {},
   "outputs": [
    {
     "data": {
      "text/plain": [
       "0.533523065722417"
      ]
     },
     "execution_count": 137,
     "metadata": {},
     "output_type": "execute_result"
    }
   ],
   "source": [
    "#auc score\n",
    "roc_score=roc_auc_score(y_test,pred)\n",
    "roc_score"
   ]
  },
  {
   "cell_type": "code",
   "execution_count": 138,
   "metadata": {},
   "outputs": [],
   "source": [
    "gb_score=accuracy_score(y_test,pred),cross_val_score(gb,x,y,cv=5,scoring='accuracy').mean(),roc_auc_score(y_test,pred)"
   ]
  },
  {
   "cell_type": "markdown",
   "metadata": {},
   "source": [
    "# saving the model"
   ]
  },
  {
   "cell_type": "code",
   "execution_count": 140,
   "metadata": {},
   "outputs": [],
   "source": [
    "data={'logistic':lg_score,'kneighbors':knn_score,'decisiontreeclassifier':dt_score,'SVC':svc_score,'gradientboost':gb_score}"
   ]
  },
  {
   "cell_type": "code",
   "execution_count": 141,
   "metadata": {},
   "outputs": [],
   "source": [
    "selection=pd.DataFrame(data,index=['accuracy_score','cross_val_score','roc_score'])"
   ]
  },
  {
   "cell_type": "code",
   "execution_count": 142,
   "metadata": {},
   "outputs": [
    {
     "data": {
      "text/html": [
       "<div>\n",
       "<style scoped>\n",
       "    .dataframe tbody tr th:only-of-type {\n",
       "        vertical-align: middle;\n",
       "    }\n",
       "\n",
       "    .dataframe tbody tr th {\n",
       "        vertical-align: top;\n",
       "    }\n",
       "\n",
       "    .dataframe thead th {\n",
       "        text-align: right;\n",
       "    }\n",
       "</style>\n",
       "<table border=\"1\" class=\"dataframe\">\n",
       "  <thead>\n",
       "    <tr style=\"text-align: right;\">\n",
       "      <th></th>\n",
       "      <th>logistic</th>\n",
       "      <th>kneighbors</th>\n",
       "      <th>decisiontreeclassifier</th>\n",
       "      <th>SVC</th>\n",
       "      <th>gradientboost</th>\n",
       "    </tr>\n",
       "  </thead>\n",
       "  <tbody>\n",
       "    <tr>\n",
       "      <th>accuracy_score</th>\n",
       "      <td>0.928255</td>\n",
       "      <td>0.922941</td>\n",
       "      <td>0.922055</td>\n",
       "      <td>0.924712</td>\n",
       "      <td>0.926484</td>\n",
       "    </tr>\n",
       "    <tr>\n",
       "      <th>cross_val_score</th>\n",
       "      <td>0.902905</td>\n",
       "      <td>0.901134</td>\n",
       "      <td>0.895285</td>\n",
       "      <td>0.897943</td>\n",
       "      <td>0.901842</td>\n",
       "    </tr>\n",
       "    <tr>\n",
       "      <th>roc_score</th>\n",
       "      <td>0.534336</td>\n",
       "      <td>0.520656</td>\n",
       "      <td>0.556244</td>\n",
       "      <td>0.500000</td>\n",
       "      <td>0.533523</td>\n",
       "    </tr>\n",
       "  </tbody>\n",
       "</table>\n",
       "</div>"
      ],
      "text/plain": [
       "                 logistic  kneighbors  decisiontreeclassifier       SVC  \\\n",
       "accuracy_score   0.928255    0.922941                0.922055  0.924712   \n",
       "cross_val_score  0.902905    0.901134                0.895285  0.897943   \n",
       "roc_score        0.534336    0.520656                0.556244  0.500000   \n",
       "\n",
       "                 gradientboost  \n",
       "accuracy_score        0.926484  \n",
       "cross_val_score       0.901842  \n",
       "roc_score             0.533523  "
      ]
     },
     "execution_count": 142,
     "metadata": {},
     "output_type": "execute_result"
    }
   ],
   "source": [
    "selection"
   ]
  },
  {
   "cell_type": "code",
   "execution_count": 143,
   "metadata": {},
   "outputs": [],
   "source": [
    "from sklearn.externals import joblib"
   ]
  },
  {
   "cell_type": "code",
   "execution_count": 144,
   "metadata": {},
   "outputs": [
    {
     "data": {
      "text/plain": [
       "['gb_model_covid_confirm_by_clinicaldata.obj']"
      ]
     },
     "execution_count": 144,
     "metadata": {},
     "output_type": "execute_result"
    }
   ],
   "source": [
    "joblib.dump(gb,'gb_model_covid_confirm_by_clinicaldata.obj')"
   ]
  },
  {
   "cell_type": "markdown",
   "metadata": {},
   "source": [
    "# Prediction on the basis of admission in ward"
   ]
  },
  {
   "cell_type": "code",
   "execution_count": 145,
   "metadata": {},
   "outputs": [
    {
     "data": {
      "text/html": [
       "<div>\n",
       "<style scoped>\n",
       "    .dataframe tbody tr th:only-of-type {\n",
       "        vertical-align: middle;\n",
       "    }\n",
       "\n",
       "    .dataframe tbody tr th {\n",
       "        vertical-align: top;\n",
       "    }\n",
       "\n",
       "    .dataframe thead th {\n",
       "        text-align: right;\n",
       "    }\n",
       "</style>\n",
       "<table border=\"1\" class=\"dataframe\">\n",
       "  <thead>\n",
       "    <tr style=\"text-align: right;\">\n",
       "      <th></th>\n",
       "      <th>Patient age quantile</th>\n",
       "      <th>SARS-Cov-2 exam result</th>\n",
       "      <th>Patient addmited to regular ward (1=yes, 0=no)</th>\n",
       "      <th>Patient addmited to semi-intensive unit (1=yes, 0=no)</th>\n",
       "      <th>Patient addmited to intensive care unit (1=yes, 0=no)</th>\n",
       "      <th>Hematocrit</th>\n",
       "      <th>Hemoglobin</th>\n",
       "      <th>Platelets</th>\n",
       "      <th>Mean platelet volume</th>\n",
       "      <th>Red blood Cells</th>\n",
       "      <th>...</th>\n",
       "      <th>Hb saturation (arterial blood gases)</th>\n",
       "      <th>pCO2 (arterial blood gas analysis)</th>\n",
       "      <th>Base excess (arterial blood gas analysis)</th>\n",
       "      <th>pH (arterial blood gas analysis)</th>\n",
       "      <th>Total CO2 (arterial blood gas analysis)</th>\n",
       "      <th>HCO3 (arterial blood gas analysis)</th>\n",
       "      <th>pO2 (arterial blood gas analysis)</th>\n",
       "      <th>Arteiral Fio2</th>\n",
       "      <th>Phosphor</th>\n",
       "      <th>ctO2 (arterial blood gas analysis)</th>\n",
       "    </tr>\n",
       "  </thead>\n",
       "  <tbody>\n",
       "    <tr>\n",
       "      <th>0</th>\n",
       "      <td>1</td>\n",
       "      <td>0</td>\n",
       "      <td>0</td>\n",
       "      <td>0</td>\n",
       "      <td>0</td>\n",
       "      <td>0.000000</td>\n",
       "      <td>0.00000</td>\n",
       "      <td>0.000000</td>\n",
       "      <td>0.000000</td>\n",
       "      <td>0.000000</td>\n",
       "      <td>...</td>\n",
       "      <td>0.0</td>\n",
       "      <td>0.0</td>\n",
       "      <td>0.0</td>\n",
       "      <td>0.0</td>\n",
       "      <td>0.0</td>\n",
       "      <td>0.0</td>\n",
       "      <td>0.0</td>\n",
       "      <td>0.0</td>\n",
       "      <td>0.0</td>\n",
       "      <td>0.0</td>\n",
       "    </tr>\n",
       "    <tr>\n",
       "      <th>1</th>\n",
       "      <td>1</td>\n",
       "      <td>0</td>\n",
       "      <td>0</td>\n",
       "      <td>0</td>\n",
       "      <td>0</td>\n",
       "      <td>0.236515</td>\n",
       "      <td>-0.02234</td>\n",
       "      <td>-0.517413</td>\n",
       "      <td>0.010677</td>\n",
       "      <td>0.102004</td>\n",
       "      <td>...</td>\n",
       "      <td>0.0</td>\n",
       "      <td>0.0</td>\n",
       "      <td>0.0</td>\n",
       "      <td>0.0</td>\n",
       "      <td>0.0</td>\n",
       "      <td>0.0</td>\n",
       "      <td>0.0</td>\n",
       "      <td>0.0</td>\n",
       "      <td>0.0</td>\n",
       "      <td>0.0</td>\n",
       "    </tr>\n",
       "    <tr>\n",
       "      <th>2</th>\n",
       "      <td>1</td>\n",
       "      <td>0</td>\n",
       "      <td>0</td>\n",
       "      <td>0</td>\n",
       "      <td>0</td>\n",
       "      <td>0.000000</td>\n",
       "      <td>0.00000</td>\n",
       "      <td>0.000000</td>\n",
       "      <td>0.000000</td>\n",
       "      <td>0.000000</td>\n",
       "      <td>...</td>\n",
       "      <td>0.0</td>\n",
       "      <td>0.0</td>\n",
       "      <td>0.0</td>\n",
       "      <td>0.0</td>\n",
       "      <td>0.0</td>\n",
       "      <td>0.0</td>\n",
       "      <td>0.0</td>\n",
       "      <td>0.0</td>\n",
       "      <td>0.0</td>\n",
       "      <td>0.0</td>\n",
       "    </tr>\n",
       "    <tr>\n",
       "      <th>3</th>\n",
       "      <td>1</td>\n",
       "      <td>0</td>\n",
       "      <td>0</td>\n",
       "      <td>0</td>\n",
       "      <td>0</td>\n",
       "      <td>0.000000</td>\n",
       "      <td>0.00000</td>\n",
       "      <td>0.000000</td>\n",
       "      <td>0.000000</td>\n",
       "      <td>0.000000</td>\n",
       "      <td>...</td>\n",
       "      <td>0.0</td>\n",
       "      <td>0.0</td>\n",
       "      <td>0.0</td>\n",
       "      <td>0.0</td>\n",
       "      <td>0.0</td>\n",
       "      <td>0.0</td>\n",
       "      <td>0.0</td>\n",
       "      <td>0.0</td>\n",
       "      <td>0.0</td>\n",
       "      <td>0.0</td>\n",
       "    </tr>\n",
       "    <tr>\n",
       "      <th>4</th>\n",
       "      <td>1</td>\n",
       "      <td>0</td>\n",
       "      <td>0</td>\n",
       "      <td>0</td>\n",
       "      <td>0</td>\n",
       "      <td>0.000000</td>\n",
       "      <td>0.00000</td>\n",
       "      <td>0.000000</td>\n",
       "      <td>0.000000</td>\n",
       "      <td>0.000000</td>\n",
       "      <td>...</td>\n",
       "      <td>0.0</td>\n",
       "      <td>0.0</td>\n",
       "      <td>0.0</td>\n",
       "      <td>0.0</td>\n",
       "      <td>0.0</td>\n",
       "      <td>0.0</td>\n",
       "      <td>0.0</td>\n",
       "      <td>0.0</td>\n",
       "      <td>0.0</td>\n",
       "      <td>0.0</td>\n",
       "    </tr>\n",
       "  </tbody>\n",
       "</table>\n",
       "<p>5 rows × 110 columns</p>\n",
       "</div>"
      ],
      "text/plain": [
       "   Patient age quantile  SARS-Cov-2 exam result  \\\n",
       "0                     1                       0   \n",
       "1                     1                       0   \n",
       "2                     1                       0   \n",
       "3                     1                       0   \n",
       "4                     1                       0   \n",
       "\n",
       "   Patient addmited to regular ward (1=yes, 0=no)  \\\n",
       "0                                               0   \n",
       "1                                               0   \n",
       "2                                               0   \n",
       "3                                               0   \n",
       "4                                               0   \n",
       "\n",
       "   Patient addmited to semi-intensive unit (1=yes, 0=no)  \\\n",
       "0                                                  0       \n",
       "1                                                  0       \n",
       "2                                                  0       \n",
       "3                                                  0       \n",
       "4                                                  0       \n",
       "\n",
       "   Patient addmited to intensive care unit (1=yes, 0=no)  Hematocrit  \\\n",
       "0                                                  0        0.000000   \n",
       "1                                                  0        0.236515   \n",
       "2                                                  0        0.000000   \n",
       "3                                                  0        0.000000   \n",
       "4                                                  0        0.000000   \n",
       "\n",
       "   Hemoglobin  Platelets  Mean platelet volume   Red blood Cells  ...  \\\n",
       "0     0.00000   0.000000               0.000000         0.000000  ...   \n",
       "1    -0.02234  -0.517413               0.010677         0.102004  ...   \n",
       "2     0.00000   0.000000               0.000000         0.000000  ...   \n",
       "3     0.00000   0.000000               0.000000         0.000000  ...   \n",
       "4     0.00000   0.000000               0.000000         0.000000  ...   \n",
       "\n",
       "   Hb saturation (arterial blood gases)  pCO2 (arterial blood gas analysis)  \\\n",
       "0                                   0.0                                 0.0   \n",
       "1                                   0.0                                 0.0   \n",
       "2                                   0.0                                 0.0   \n",
       "3                                   0.0                                 0.0   \n",
       "4                                   0.0                                 0.0   \n",
       "\n",
       "   Base excess (arterial blood gas analysis)  \\\n",
       "0                                        0.0   \n",
       "1                                        0.0   \n",
       "2                                        0.0   \n",
       "3                                        0.0   \n",
       "4                                        0.0   \n",
       "\n",
       "   pH (arterial blood gas analysis)  Total CO2 (arterial blood gas analysis)  \\\n",
       "0                               0.0                                      0.0   \n",
       "1                               0.0                                      0.0   \n",
       "2                               0.0                                      0.0   \n",
       "3                               0.0                                      0.0   \n",
       "4                               0.0                                      0.0   \n",
       "\n",
       "   HCO3 (arterial blood gas analysis)  pO2 (arterial blood gas analysis)  \\\n",
       "0                                 0.0                                0.0   \n",
       "1                                 0.0                                0.0   \n",
       "2                                 0.0                                0.0   \n",
       "3                                 0.0                                0.0   \n",
       "4                                 0.0                                0.0   \n",
       "\n",
       "   Arteiral Fio2  Phosphor  ctO2 (arterial blood gas analysis)  \n",
       "0            0.0       0.0                                 0.0  \n",
       "1            0.0       0.0                                 0.0  \n",
       "2            0.0       0.0                                 0.0  \n",
       "3            0.0       0.0                                 0.0  \n",
       "4            0.0       0.0                                 0.0  \n",
       "\n",
       "[5 rows x 110 columns]"
      ]
     },
     "execution_count": 145,
     "metadata": {},
     "output_type": "execute_result"
    }
   ],
   "source": [
    "df.head()"
   ]
  },
  {
   "cell_type": "code",
   "execution_count": 146,
   "metadata": {},
   "outputs": [
    {
     "data": {
      "text/plain": [
       "Index(['Patient age quantile', 'SARS-Cov-2 exam result',\n",
       "       'Patient addmited to regular ward (1=yes, 0=no)',\n",
       "       'Patient addmited to semi-intensive unit (1=yes, 0=no)',\n",
       "       'Patient addmited to intensive care unit (1=yes, 0=no)', 'Hematocrit',\n",
       "       'Hemoglobin', 'Platelets', 'Mean platelet volume ', 'Red blood Cells',\n",
       "       ...\n",
       "       'Hb saturation (arterial blood gases)',\n",
       "       'pCO2 (arterial blood gas analysis)',\n",
       "       'Base excess (arterial blood gas analysis)',\n",
       "       'pH (arterial blood gas analysis)',\n",
       "       'Total CO2 (arterial blood gas analysis)',\n",
       "       'HCO3 (arterial blood gas analysis)',\n",
       "       'pO2 (arterial blood gas analysis)', 'Arteiral Fio2', 'Phosphor',\n",
       "       'ctO2 (arterial blood gas analysis)'],\n",
       "      dtype='object', length=110)"
      ]
     },
     "execution_count": 146,
     "metadata": {},
     "output_type": "execute_result"
    }
   ],
   "source": [
    "df.columns"
   ]
  },
  {
   "cell_type": "code",
   "execution_count": 149,
   "metadata": {},
   "outputs": [],
   "source": [
    "df1=df.iloc[:,:20]"
   ]
  },
  {
   "cell_type": "code",
   "execution_count": 150,
   "metadata": {},
   "outputs": [
    {
     "data": {
      "text/html": [
       "<div>\n",
       "<style scoped>\n",
       "    .dataframe tbody tr th:only-of-type {\n",
       "        vertical-align: middle;\n",
       "    }\n",
       "\n",
       "    .dataframe tbody tr th {\n",
       "        vertical-align: top;\n",
       "    }\n",
       "\n",
       "    .dataframe thead th {\n",
       "        text-align: right;\n",
       "    }\n",
       "</style>\n",
       "<table border=\"1\" class=\"dataframe\">\n",
       "  <thead>\n",
       "    <tr style=\"text-align: right;\">\n",
       "      <th></th>\n",
       "      <th>Patient age quantile</th>\n",
       "      <th>SARS-Cov-2 exam result</th>\n",
       "      <th>Patient addmited to regular ward (1=yes, 0=no)</th>\n",
       "      <th>Patient addmited to semi-intensive unit (1=yes, 0=no)</th>\n",
       "      <th>Patient addmited to intensive care unit (1=yes, 0=no)</th>\n",
       "      <th>Hematocrit</th>\n",
       "      <th>Hemoglobin</th>\n",
       "      <th>Platelets</th>\n",
       "      <th>Mean platelet volume</th>\n",
       "      <th>Red blood Cells</th>\n",
       "      <th>Lymphocytes</th>\n",
       "      <th>Mean corpuscular hemoglobin concentration (MCHC)</th>\n",
       "      <th>Leukocytes</th>\n",
       "      <th>Basophils</th>\n",
       "      <th>Mean corpuscular hemoglobin (MCH)</th>\n",
       "      <th>Eosinophils</th>\n",
       "      <th>Mean corpuscular volume (MCV)</th>\n",
       "      <th>Monocytes</th>\n",
       "      <th>Red blood cell distribution width (RDW)</th>\n",
       "      <th>Serum Glucose</th>\n",
       "    </tr>\n",
       "  </thead>\n",
       "  <tbody>\n",
       "    <tr>\n",
       "      <th>0</th>\n",
       "      <td>1</td>\n",
       "      <td>0</td>\n",
       "      <td>0</td>\n",
       "      <td>0</td>\n",
       "      <td>0</td>\n",
       "      <td>0.000000</td>\n",
       "      <td>0.00000</td>\n",
       "      <td>0.000000</td>\n",
       "      <td>0.000000</td>\n",
       "      <td>0.000000</td>\n",
       "      <td>0.000000</td>\n",
       "      <td>0.00000</td>\n",
       "      <td>0.00000</td>\n",
       "      <td>0.000000</td>\n",
       "      <td>0.000000</td>\n",
       "      <td>0.000000</td>\n",
       "      <td>0.000000</td>\n",
       "      <td>0.000000</td>\n",
       "      <td>0.000000</td>\n",
       "      <td>0.000000</td>\n",
       "    </tr>\n",
       "    <tr>\n",
       "      <th>1</th>\n",
       "      <td>1</td>\n",
       "      <td>0</td>\n",
       "      <td>0</td>\n",
       "      <td>0</td>\n",
       "      <td>0</td>\n",
       "      <td>0.236515</td>\n",
       "      <td>-0.02234</td>\n",
       "      <td>-0.517413</td>\n",
       "      <td>0.010677</td>\n",
       "      <td>0.102004</td>\n",
       "      <td>0.318366</td>\n",
       "      <td>-0.95079</td>\n",
       "      <td>-0.09461</td>\n",
       "      <td>-0.223767</td>\n",
       "      <td>-0.292269</td>\n",
       "      <td>1.482158</td>\n",
       "      <td>0.166192</td>\n",
       "      <td>0.357547</td>\n",
       "      <td>-0.625073</td>\n",
       "      <td>-0.140648</td>\n",
       "    </tr>\n",
       "    <tr>\n",
       "      <th>2</th>\n",
       "      <td>1</td>\n",
       "      <td>0</td>\n",
       "      <td>0</td>\n",
       "      <td>0</td>\n",
       "      <td>0</td>\n",
       "      <td>0.000000</td>\n",
       "      <td>0.00000</td>\n",
       "      <td>0.000000</td>\n",
       "      <td>0.000000</td>\n",
       "      <td>0.000000</td>\n",
       "      <td>0.000000</td>\n",
       "      <td>0.00000</td>\n",
       "      <td>0.00000</td>\n",
       "      <td>0.000000</td>\n",
       "      <td>0.000000</td>\n",
       "      <td>0.000000</td>\n",
       "      <td>0.000000</td>\n",
       "      <td>0.000000</td>\n",
       "      <td>0.000000</td>\n",
       "      <td>0.000000</td>\n",
       "    </tr>\n",
       "    <tr>\n",
       "      <th>3</th>\n",
       "      <td>1</td>\n",
       "      <td>0</td>\n",
       "      <td>0</td>\n",
       "      <td>0</td>\n",
       "      <td>0</td>\n",
       "      <td>0.000000</td>\n",
       "      <td>0.00000</td>\n",
       "      <td>0.000000</td>\n",
       "      <td>0.000000</td>\n",
       "      <td>0.000000</td>\n",
       "      <td>0.000000</td>\n",
       "      <td>0.00000</td>\n",
       "      <td>0.00000</td>\n",
       "      <td>0.000000</td>\n",
       "      <td>0.000000</td>\n",
       "      <td>0.000000</td>\n",
       "      <td>0.000000</td>\n",
       "      <td>0.000000</td>\n",
       "      <td>0.000000</td>\n",
       "      <td>0.000000</td>\n",
       "    </tr>\n",
       "    <tr>\n",
       "      <th>4</th>\n",
       "      <td>1</td>\n",
       "      <td>0</td>\n",
       "      <td>0</td>\n",
       "      <td>0</td>\n",
       "      <td>0</td>\n",
       "      <td>0.000000</td>\n",
       "      <td>0.00000</td>\n",
       "      <td>0.000000</td>\n",
       "      <td>0.000000</td>\n",
       "      <td>0.000000</td>\n",
       "      <td>0.000000</td>\n",
       "      <td>0.00000</td>\n",
       "      <td>0.00000</td>\n",
       "      <td>0.000000</td>\n",
       "      <td>0.000000</td>\n",
       "      <td>0.000000</td>\n",
       "      <td>0.000000</td>\n",
       "      <td>0.000000</td>\n",
       "      <td>0.000000</td>\n",
       "      <td>0.000000</td>\n",
       "    </tr>\n",
       "  </tbody>\n",
       "</table>\n",
       "</div>"
      ],
      "text/plain": [
       "   Patient age quantile  SARS-Cov-2 exam result  \\\n",
       "0                     1                       0   \n",
       "1                     1                       0   \n",
       "2                     1                       0   \n",
       "3                     1                       0   \n",
       "4                     1                       0   \n",
       "\n",
       "   Patient addmited to regular ward (1=yes, 0=no)  \\\n",
       "0                                               0   \n",
       "1                                               0   \n",
       "2                                               0   \n",
       "3                                               0   \n",
       "4                                               0   \n",
       "\n",
       "   Patient addmited to semi-intensive unit (1=yes, 0=no)  \\\n",
       "0                                                  0       \n",
       "1                                                  0       \n",
       "2                                                  0       \n",
       "3                                                  0       \n",
       "4                                                  0       \n",
       "\n",
       "   Patient addmited to intensive care unit (1=yes, 0=no)  Hematocrit  \\\n",
       "0                                                  0        0.000000   \n",
       "1                                                  0        0.236515   \n",
       "2                                                  0        0.000000   \n",
       "3                                                  0        0.000000   \n",
       "4                                                  0        0.000000   \n",
       "\n",
       "   Hemoglobin  Platelets  Mean platelet volume   Red blood Cells  Lymphocytes  \\\n",
       "0     0.00000   0.000000               0.000000         0.000000     0.000000   \n",
       "1    -0.02234  -0.517413               0.010677         0.102004     0.318366   \n",
       "2     0.00000   0.000000               0.000000         0.000000     0.000000   \n",
       "3     0.00000   0.000000               0.000000         0.000000     0.000000   \n",
       "4     0.00000   0.000000               0.000000         0.000000     0.000000   \n",
       "\n",
       "   Mean corpuscular hemoglobin concentration (MCHC)  Leukocytes  Basophils  \\\n",
       "0                                           0.00000     0.00000   0.000000   \n",
       "1                                          -0.95079    -0.09461  -0.223767   \n",
       "2                                           0.00000     0.00000   0.000000   \n",
       "3                                           0.00000     0.00000   0.000000   \n",
       "4                                           0.00000     0.00000   0.000000   \n",
       "\n",
       "   Mean corpuscular hemoglobin (MCH)  Eosinophils  \\\n",
       "0                           0.000000     0.000000   \n",
       "1                          -0.292269     1.482158   \n",
       "2                           0.000000     0.000000   \n",
       "3                           0.000000     0.000000   \n",
       "4                           0.000000     0.000000   \n",
       "\n",
       "   Mean corpuscular volume (MCV)  Monocytes  \\\n",
       "0                       0.000000   0.000000   \n",
       "1                       0.166192   0.357547   \n",
       "2                       0.000000   0.000000   \n",
       "3                       0.000000   0.000000   \n",
       "4                       0.000000   0.000000   \n",
       "\n",
       "   Red blood cell distribution width (RDW)  Serum Glucose  \n",
       "0                                 0.000000       0.000000  \n",
       "1                                -0.625073      -0.140648  \n",
       "2                                 0.000000       0.000000  \n",
       "3                                 0.000000       0.000000  \n",
       "4                                 0.000000       0.000000  "
      ]
     },
     "execution_count": 150,
     "metadata": {},
     "output_type": "execute_result"
    }
   ],
   "source": [
    "df1.head()"
   ]
  },
  {
   "cell_type": "code",
   "execution_count": 151,
   "metadata": {},
   "outputs": [
    {
     "data": {
      "text/plain": [
       "Index(['Patient age quantile', 'SARS-Cov-2 exam result',\n",
       "       'Patient addmited to regular ward (1=yes, 0=no)',\n",
       "       'Patient addmited to semi-intensive unit (1=yes, 0=no)',\n",
       "       'Patient addmited to intensive care unit (1=yes, 0=no)', 'Hematocrit',\n",
       "       'Hemoglobin', 'Platelets', 'Mean platelet volume ', 'Red blood Cells',\n",
       "       'Lymphocytes', 'Mean corpuscular hemoglobin concentration (MCHC)',\n",
       "       'Leukocytes', 'Basophils', 'Mean corpuscular hemoglobin (MCH)',\n",
       "       'Eosinophils', 'Mean corpuscular volume (MCV)', 'Monocytes',\n",
       "       'Red blood cell distribution width (RDW)', 'Serum Glucose'],\n",
       "      dtype='object')"
      ]
     },
     "execution_count": 151,
     "metadata": {},
     "output_type": "execute_result"
    }
   ],
   "source": [
    "df1.columns"
   ]
  },
  {
   "cell_type": "code",
   "execution_count": 172,
   "metadata": {},
   "outputs": [],
   "source": [
    "#setting the x variable\n",
    "x=df1.iloc[:,5:]"
   ]
  },
  {
   "cell_type": "code",
   "execution_count": 173,
   "metadata": {},
   "outputs": [
    {
     "data": {
      "text/html": [
       "<div>\n",
       "<style scoped>\n",
       "    .dataframe tbody tr th:only-of-type {\n",
       "        vertical-align: middle;\n",
       "    }\n",
       "\n",
       "    .dataframe tbody tr th {\n",
       "        vertical-align: top;\n",
       "    }\n",
       "\n",
       "    .dataframe thead th {\n",
       "        text-align: right;\n",
       "    }\n",
       "</style>\n",
       "<table border=\"1\" class=\"dataframe\">\n",
       "  <thead>\n",
       "    <tr style=\"text-align: right;\">\n",
       "      <th></th>\n",
       "      <th>Hematocrit</th>\n",
       "      <th>Hemoglobin</th>\n",
       "      <th>Platelets</th>\n",
       "      <th>Mean platelet volume</th>\n",
       "      <th>Red blood Cells</th>\n",
       "      <th>Lymphocytes</th>\n",
       "      <th>Mean corpuscular hemoglobin concentration (MCHC)</th>\n",
       "      <th>Leukocytes</th>\n",
       "      <th>Basophils</th>\n",
       "      <th>Mean corpuscular hemoglobin (MCH)</th>\n",
       "      <th>Eosinophils</th>\n",
       "      <th>Mean corpuscular volume (MCV)</th>\n",
       "      <th>Monocytes</th>\n",
       "      <th>Red blood cell distribution width (RDW)</th>\n",
       "      <th>Serum Glucose</th>\n",
       "    </tr>\n",
       "  </thead>\n",
       "  <tbody>\n",
       "    <tr>\n",
       "      <th>0</th>\n",
       "      <td>0.000000</td>\n",
       "      <td>0.00000</td>\n",
       "      <td>0.000000</td>\n",
       "      <td>0.000000</td>\n",
       "      <td>0.000000</td>\n",
       "      <td>0.000000</td>\n",
       "      <td>0.00000</td>\n",
       "      <td>0.00000</td>\n",
       "      <td>0.000000</td>\n",
       "      <td>0.000000</td>\n",
       "      <td>0.000000</td>\n",
       "      <td>0.000000</td>\n",
       "      <td>0.000000</td>\n",
       "      <td>0.000000</td>\n",
       "      <td>0.000000</td>\n",
       "    </tr>\n",
       "    <tr>\n",
       "      <th>1</th>\n",
       "      <td>0.236515</td>\n",
       "      <td>-0.02234</td>\n",
       "      <td>-0.517413</td>\n",
       "      <td>0.010677</td>\n",
       "      <td>0.102004</td>\n",
       "      <td>0.318366</td>\n",
       "      <td>-0.95079</td>\n",
       "      <td>-0.09461</td>\n",
       "      <td>-0.223767</td>\n",
       "      <td>-0.292269</td>\n",
       "      <td>1.482158</td>\n",
       "      <td>0.166192</td>\n",
       "      <td>0.357547</td>\n",
       "      <td>-0.625073</td>\n",
       "      <td>-0.140648</td>\n",
       "    </tr>\n",
       "    <tr>\n",
       "      <th>2</th>\n",
       "      <td>0.000000</td>\n",
       "      <td>0.00000</td>\n",
       "      <td>0.000000</td>\n",
       "      <td>0.000000</td>\n",
       "      <td>0.000000</td>\n",
       "      <td>0.000000</td>\n",
       "      <td>0.00000</td>\n",
       "      <td>0.00000</td>\n",
       "      <td>0.000000</td>\n",
       "      <td>0.000000</td>\n",
       "      <td>0.000000</td>\n",
       "      <td>0.000000</td>\n",
       "      <td>0.000000</td>\n",
       "      <td>0.000000</td>\n",
       "      <td>0.000000</td>\n",
       "    </tr>\n",
       "    <tr>\n",
       "      <th>3</th>\n",
       "      <td>0.000000</td>\n",
       "      <td>0.00000</td>\n",
       "      <td>0.000000</td>\n",
       "      <td>0.000000</td>\n",
       "      <td>0.000000</td>\n",
       "      <td>0.000000</td>\n",
       "      <td>0.00000</td>\n",
       "      <td>0.00000</td>\n",
       "      <td>0.000000</td>\n",
       "      <td>0.000000</td>\n",
       "      <td>0.000000</td>\n",
       "      <td>0.000000</td>\n",
       "      <td>0.000000</td>\n",
       "      <td>0.000000</td>\n",
       "      <td>0.000000</td>\n",
       "    </tr>\n",
       "    <tr>\n",
       "      <th>4</th>\n",
       "      <td>0.000000</td>\n",
       "      <td>0.00000</td>\n",
       "      <td>0.000000</td>\n",
       "      <td>0.000000</td>\n",
       "      <td>0.000000</td>\n",
       "      <td>0.000000</td>\n",
       "      <td>0.00000</td>\n",
       "      <td>0.00000</td>\n",
       "      <td>0.000000</td>\n",
       "      <td>0.000000</td>\n",
       "      <td>0.000000</td>\n",
       "      <td>0.000000</td>\n",
       "      <td>0.000000</td>\n",
       "      <td>0.000000</td>\n",
       "      <td>0.000000</td>\n",
       "    </tr>\n",
       "  </tbody>\n",
       "</table>\n",
       "</div>"
      ],
      "text/plain": [
       "   Hematocrit  Hemoglobin  Platelets  Mean platelet volume   Red blood Cells  \\\n",
       "0    0.000000     0.00000   0.000000               0.000000         0.000000   \n",
       "1    0.236515    -0.02234  -0.517413               0.010677         0.102004   \n",
       "2    0.000000     0.00000   0.000000               0.000000         0.000000   \n",
       "3    0.000000     0.00000   0.000000               0.000000         0.000000   \n",
       "4    0.000000     0.00000   0.000000               0.000000         0.000000   \n",
       "\n",
       "   Lymphocytes  Mean corpuscular hemoglobin concentration (MCHC)  Leukocytes  \\\n",
       "0     0.000000                                           0.00000     0.00000   \n",
       "1     0.318366                                          -0.95079    -0.09461   \n",
       "2     0.000000                                           0.00000     0.00000   \n",
       "3     0.000000                                           0.00000     0.00000   \n",
       "4     0.000000                                           0.00000     0.00000   \n",
       "\n",
       "   Basophils  Mean corpuscular hemoglobin (MCH)  Eosinophils  \\\n",
       "0   0.000000                           0.000000     0.000000   \n",
       "1  -0.223767                          -0.292269     1.482158   \n",
       "2   0.000000                           0.000000     0.000000   \n",
       "3   0.000000                           0.000000     0.000000   \n",
       "4   0.000000                           0.000000     0.000000   \n",
       "\n",
       "   Mean corpuscular volume (MCV)  Monocytes  \\\n",
       "0                       0.000000   0.000000   \n",
       "1                       0.166192   0.357547   \n",
       "2                       0.000000   0.000000   \n",
       "3                       0.000000   0.000000   \n",
       "4                       0.000000   0.000000   \n",
       "\n",
       "   Red blood cell distribution width (RDW)  Serum Glucose  \n",
       "0                                 0.000000       0.000000  \n",
       "1                                -0.625073      -0.140648  \n",
       "2                                 0.000000       0.000000  \n",
       "3                                 0.000000       0.000000  \n",
       "4                                 0.000000       0.000000  "
      ]
     },
     "execution_count": 173,
     "metadata": {},
     "output_type": "execute_result"
    }
   ],
   "source": [
    "x.head()"
   ]
  },
  {
   "cell_type": "code",
   "execution_count": 174,
   "metadata": {},
   "outputs": [],
   "source": [
    "x['confirm case']=df['SARS-Cov-2 exam result']"
   ]
  },
  {
   "cell_type": "code",
   "execution_count": 175,
   "metadata": {},
   "outputs": [
    {
     "data": {
      "text/html": [
       "<div>\n",
       "<style scoped>\n",
       "    .dataframe tbody tr th:only-of-type {\n",
       "        vertical-align: middle;\n",
       "    }\n",
       "\n",
       "    .dataframe tbody tr th {\n",
       "        vertical-align: top;\n",
       "    }\n",
       "\n",
       "    .dataframe thead th {\n",
       "        text-align: right;\n",
       "    }\n",
       "</style>\n",
       "<table border=\"1\" class=\"dataframe\">\n",
       "  <thead>\n",
       "    <tr style=\"text-align: right;\">\n",
       "      <th></th>\n",
       "      <th>Hematocrit</th>\n",
       "      <th>Hemoglobin</th>\n",
       "      <th>Platelets</th>\n",
       "      <th>Mean platelet volume</th>\n",
       "      <th>Red blood Cells</th>\n",
       "      <th>Lymphocytes</th>\n",
       "      <th>Mean corpuscular hemoglobin concentration (MCHC)</th>\n",
       "      <th>Leukocytes</th>\n",
       "      <th>Basophils</th>\n",
       "      <th>Mean corpuscular hemoglobin (MCH)</th>\n",
       "      <th>Eosinophils</th>\n",
       "      <th>Mean corpuscular volume (MCV)</th>\n",
       "      <th>Monocytes</th>\n",
       "      <th>Red blood cell distribution width (RDW)</th>\n",
       "      <th>Serum Glucose</th>\n",
       "      <th>confirm case</th>\n",
       "    </tr>\n",
       "  </thead>\n",
       "  <tbody>\n",
       "    <tr>\n",
       "      <th>0</th>\n",
       "      <td>0.000000</td>\n",
       "      <td>0.00000</td>\n",
       "      <td>0.000000</td>\n",
       "      <td>0.000000</td>\n",
       "      <td>0.000000</td>\n",
       "      <td>0.000000</td>\n",
       "      <td>0.00000</td>\n",
       "      <td>0.00000</td>\n",
       "      <td>0.000000</td>\n",
       "      <td>0.000000</td>\n",
       "      <td>0.000000</td>\n",
       "      <td>0.000000</td>\n",
       "      <td>0.000000</td>\n",
       "      <td>0.000000</td>\n",
       "      <td>0.000000</td>\n",
       "      <td>0</td>\n",
       "    </tr>\n",
       "    <tr>\n",
       "      <th>1</th>\n",
       "      <td>0.236515</td>\n",
       "      <td>-0.02234</td>\n",
       "      <td>-0.517413</td>\n",
       "      <td>0.010677</td>\n",
       "      <td>0.102004</td>\n",
       "      <td>0.318366</td>\n",
       "      <td>-0.95079</td>\n",
       "      <td>-0.09461</td>\n",
       "      <td>-0.223767</td>\n",
       "      <td>-0.292269</td>\n",
       "      <td>1.482158</td>\n",
       "      <td>0.166192</td>\n",
       "      <td>0.357547</td>\n",
       "      <td>-0.625073</td>\n",
       "      <td>-0.140648</td>\n",
       "      <td>0</td>\n",
       "    </tr>\n",
       "    <tr>\n",
       "      <th>2</th>\n",
       "      <td>0.000000</td>\n",
       "      <td>0.00000</td>\n",
       "      <td>0.000000</td>\n",
       "      <td>0.000000</td>\n",
       "      <td>0.000000</td>\n",
       "      <td>0.000000</td>\n",
       "      <td>0.00000</td>\n",
       "      <td>0.00000</td>\n",
       "      <td>0.000000</td>\n",
       "      <td>0.000000</td>\n",
       "      <td>0.000000</td>\n",
       "      <td>0.000000</td>\n",
       "      <td>0.000000</td>\n",
       "      <td>0.000000</td>\n",
       "      <td>0.000000</td>\n",
       "      <td>0</td>\n",
       "    </tr>\n",
       "    <tr>\n",
       "      <th>3</th>\n",
       "      <td>0.000000</td>\n",
       "      <td>0.00000</td>\n",
       "      <td>0.000000</td>\n",
       "      <td>0.000000</td>\n",
       "      <td>0.000000</td>\n",
       "      <td>0.000000</td>\n",
       "      <td>0.00000</td>\n",
       "      <td>0.00000</td>\n",
       "      <td>0.000000</td>\n",
       "      <td>0.000000</td>\n",
       "      <td>0.000000</td>\n",
       "      <td>0.000000</td>\n",
       "      <td>0.000000</td>\n",
       "      <td>0.000000</td>\n",
       "      <td>0.000000</td>\n",
       "      <td>0</td>\n",
       "    </tr>\n",
       "    <tr>\n",
       "      <th>4</th>\n",
       "      <td>0.000000</td>\n",
       "      <td>0.00000</td>\n",
       "      <td>0.000000</td>\n",
       "      <td>0.000000</td>\n",
       "      <td>0.000000</td>\n",
       "      <td>0.000000</td>\n",
       "      <td>0.00000</td>\n",
       "      <td>0.00000</td>\n",
       "      <td>0.000000</td>\n",
       "      <td>0.000000</td>\n",
       "      <td>0.000000</td>\n",
       "      <td>0.000000</td>\n",
       "      <td>0.000000</td>\n",
       "      <td>0.000000</td>\n",
       "      <td>0.000000</td>\n",
       "      <td>0</td>\n",
       "    </tr>\n",
       "  </tbody>\n",
       "</table>\n",
       "</div>"
      ],
      "text/plain": [
       "   Hematocrit  Hemoglobin  Platelets  Mean platelet volume   Red blood Cells  \\\n",
       "0    0.000000     0.00000   0.000000               0.000000         0.000000   \n",
       "1    0.236515    -0.02234  -0.517413               0.010677         0.102004   \n",
       "2    0.000000     0.00000   0.000000               0.000000         0.000000   \n",
       "3    0.000000     0.00000   0.000000               0.000000         0.000000   \n",
       "4    0.000000     0.00000   0.000000               0.000000         0.000000   \n",
       "\n",
       "   Lymphocytes  Mean corpuscular hemoglobin concentration (MCHC)  Leukocytes  \\\n",
       "0     0.000000                                           0.00000     0.00000   \n",
       "1     0.318366                                          -0.95079    -0.09461   \n",
       "2     0.000000                                           0.00000     0.00000   \n",
       "3     0.000000                                           0.00000     0.00000   \n",
       "4     0.000000                                           0.00000     0.00000   \n",
       "\n",
       "   Basophils  Mean corpuscular hemoglobin (MCH)  Eosinophils  \\\n",
       "0   0.000000                           0.000000     0.000000   \n",
       "1  -0.223767                          -0.292269     1.482158   \n",
       "2   0.000000                           0.000000     0.000000   \n",
       "3   0.000000                           0.000000     0.000000   \n",
       "4   0.000000                           0.000000     0.000000   \n",
       "\n",
       "   Mean corpuscular volume (MCV)  Monocytes  \\\n",
       "0                       0.000000   0.000000   \n",
       "1                       0.166192   0.357547   \n",
       "2                       0.000000   0.000000   \n",
       "3                       0.000000   0.000000   \n",
       "4                       0.000000   0.000000   \n",
       "\n",
       "   Red blood cell distribution width (RDW)  Serum Glucose  confirm case  \n",
       "0                                 0.000000       0.000000             0  \n",
       "1                                -0.625073      -0.140648             0  \n",
       "2                                 0.000000       0.000000             0  \n",
       "3                                 0.000000       0.000000             0  \n",
       "4                                 0.000000       0.000000             0  "
      ]
     },
     "execution_count": 175,
     "metadata": {},
     "output_type": "execute_result"
    }
   ],
   "source": [
    "x.head()"
   ]
  },
  {
   "cell_type": "code",
   "execution_count": 176,
   "metadata": {},
   "outputs": [],
   "source": [
    "# setting y variable\n",
    "y=df[['Patient addmited to regular ward (1=yes, 0=no)',\n",
    "       'Patient addmited to semi-intensive unit (1=yes, 0=no)',\n",
    "       'Patient addmited to intensive care unit (1=yes, 0=no)']]"
   ]
  },
  {
   "cell_type": "code",
   "execution_count": 177,
   "metadata": {},
   "outputs": [
    {
     "data": {
      "text/html": [
       "<div>\n",
       "<style scoped>\n",
       "    .dataframe tbody tr th:only-of-type {\n",
       "        vertical-align: middle;\n",
       "    }\n",
       "\n",
       "    .dataframe tbody tr th {\n",
       "        vertical-align: top;\n",
       "    }\n",
       "\n",
       "    .dataframe thead th {\n",
       "        text-align: right;\n",
       "    }\n",
       "</style>\n",
       "<table border=\"1\" class=\"dataframe\">\n",
       "  <thead>\n",
       "    <tr style=\"text-align: right;\">\n",
       "      <th></th>\n",
       "      <th>Patient addmited to regular ward (1=yes, 0=no)</th>\n",
       "      <th>Patient addmited to semi-intensive unit (1=yes, 0=no)</th>\n",
       "      <th>Patient addmited to intensive care unit (1=yes, 0=no)</th>\n",
       "    </tr>\n",
       "  </thead>\n",
       "  <tbody>\n",
       "    <tr>\n",
       "      <th>0</th>\n",
       "      <td>0</td>\n",
       "      <td>0</td>\n",
       "      <td>0</td>\n",
       "    </tr>\n",
       "    <tr>\n",
       "      <th>1</th>\n",
       "      <td>0</td>\n",
       "      <td>0</td>\n",
       "      <td>0</td>\n",
       "    </tr>\n",
       "    <tr>\n",
       "      <th>2</th>\n",
       "      <td>0</td>\n",
       "      <td>0</td>\n",
       "      <td>0</td>\n",
       "    </tr>\n",
       "    <tr>\n",
       "      <th>3</th>\n",
       "      <td>0</td>\n",
       "      <td>0</td>\n",
       "      <td>0</td>\n",
       "    </tr>\n",
       "    <tr>\n",
       "      <th>4</th>\n",
       "      <td>0</td>\n",
       "      <td>0</td>\n",
       "      <td>0</td>\n",
       "    </tr>\n",
       "    <tr>\n",
       "      <th>...</th>\n",
       "      <td>...</td>\n",
       "      <td>...</td>\n",
       "      <td>...</td>\n",
       "    </tr>\n",
       "    <tr>\n",
       "      <th>5639</th>\n",
       "      <td>0</td>\n",
       "      <td>0</td>\n",
       "      <td>0</td>\n",
       "    </tr>\n",
       "    <tr>\n",
       "      <th>5640</th>\n",
       "      <td>0</td>\n",
       "      <td>0</td>\n",
       "      <td>0</td>\n",
       "    </tr>\n",
       "    <tr>\n",
       "      <th>5641</th>\n",
       "      <td>0</td>\n",
       "      <td>0</td>\n",
       "      <td>0</td>\n",
       "    </tr>\n",
       "    <tr>\n",
       "      <th>5642</th>\n",
       "      <td>0</td>\n",
       "      <td>0</td>\n",
       "      <td>0</td>\n",
       "    </tr>\n",
       "    <tr>\n",
       "      <th>5643</th>\n",
       "      <td>0</td>\n",
       "      <td>0</td>\n",
       "      <td>0</td>\n",
       "    </tr>\n",
       "  </tbody>\n",
       "</table>\n",
       "<p>5644 rows × 3 columns</p>\n",
       "</div>"
      ],
      "text/plain": [
       "      Patient addmited to regular ward (1=yes, 0=no)  \\\n",
       "0                                                  0   \n",
       "1                                                  0   \n",
       "2                                                  0   \n",
       "3                                                  0   \n",
       "4                                                  0   \n",
       "...                                              ...   \n",
       "5639                                               0   \n",
       "5640                                               0   \n",
       "5641                                               0   \n",
       "5642                                               0   \n",
       "5643                                               0   \n",
       "\n",
       "      Patient addmited to semi-intensive unit (1=yes, 0=no)  \\\n",
       "0                                                     0       \n",
       "1                                                     0       \n",
       "2                                                     0       \n",
       "3                                                     0       \n",
       "4                                                     0       \n",
       "...                                                 ...       \n",
       "5639                                                  0       \n",
       "5640                                                  0       \n",
       "5641                                                  0       \n",
       "5642                                                  0       \n",
       "5643                                                  0       \n",
       "\n",
       "      Patient addmited to intensive care unit (1=yes, 0=no)  \n",
       "0                                                     0      \n",
       "1                                                     0      \n",
       "2                                                     0      \n",
       "3                                                     0      \n",
       "4                                                     0      \n",
       "...                                                 ...      \n",
       "5639                                                  0      \n",
       "5640                                                  0      \n",
       "5641                                                  0      \n",
       "5642                                                  0      \n",
       "5643                                                  0      \n",
       "\n",
       "[5644 rows x 3 columns]"
      ]
     },
     "execution_count": 177,
     "metadata": {},
     "output_type": "execute_result"
    }
   ],
   "source": [
    "y"
   ]
  },
  {
   "cell_type": "markdown",
   "metadata": {},
   "source": [
    "# Classification"
   ]
  },
  {
   "cell_type": "markdown",
   "metadata": {},
   "source": [
    "# decisiontreeclassifier"
   ]
  },
  {
   "cell_type": "code",
   "execution_count": 180,
   "metadata": {},
   "outputs": [
    {
     "name": "stdout",
     "output_type": "stream",
     "text": [
      "max score at random_state of 82 is 0.9734278122232064\n"
     ]
    },
    {
     "data": {
      "text/plain": [
       "82"
      ]
     },
     "execution_count": 180,
     "metadata": {},
     "output_type": "execute_result"
    }
   ],
   "source": [
    "dt=DecisionTreeClassifier()\n",
    "max_acc_score(dt,x,y)"
   ]
  },
  {
   "cell_type": "code",
   "execution_count": 181,
   "metadata": {},
   "outputs": [],
   "source": [
    "x_train,x_test,y_train,y_test=train_test_split(x,y,test_size=.20,random_state=82)\n",
    "dt.fit(x_train,y_train)\n",
    "pred=dt.predict(x_test)"
   ]
  },
  {
   "cell_type": "code",
   "execution_count": 182,
   "metadata": {},
   "outputs": [
    {
     "data": {
      "text/plain": [
       "array([[0, 0, 0],\n",
       "       [0, 0, 0],\n",
       "       [0, 0, 0],\n",
       "       ...,\n",
       "       [0, 0, 0],\n",
       "       [0, 0, 0],\n",
       "       [0, 0, 0]], dtype=int64)"
      ]
     },
     "execution_count": 182,
     "metadata": {},
     "output_type": "execute_result"
    }
   ],
   "source": [
    "pred"
   ]
  },
  {
   "cell_type": "code",
   "execution_count": 184,
   "metadata": {},
   "outputs": [
    {
     "name": "stdout",
     "output_type": "stream",
     "text": [
      "[0.95571302 0.97697077 0.97874225 0.97519929 0.90070922]\n",
      "0.9574669104021005\n",
      "0.029570219918752843\n"
     ]
    }
   ],
   "source": [
    "score=cross_val_score(dt,x,y,cv=5,scoring='accuracy')\n",
    "print(score)\n",
    "print(score.mean())\n",
    "print(score.std())"
   ]
  },
  {
   "cell_type": "code",
   "execution_count": 186,
   "metadata": {},
   "outputs": [
    {
     "name": "stdout",
     "output_type": "stream",
     "text": [
      "0.9743135518157662\n"
     ]
    }
   ],
   "source": [
    "print(accuracy_score(y_test,pred))"
   ]
  },
  {
   "cell_type": "code",
   "execution_count": 187,
   "metadata": {},
   "outputs": [
    {
     "data": {
      "text/plain": [
       "0.5494734119765425"
      ]
     },
     "execution_count": 187,
     "metadata": {},
     "output_type": "execute_result"
    }
   ],
   "source": [
    "#auc score\n",
    "roc_score=roc_auc_score(y_test,pred)\n",
    "roc_score"
   ]
  },
  {
   "cell_type": "markdown",
   "metadata": {},
   "source": [
    "# KNeighborsClassifier"
   ]
  },
  {
   "cell_type": "code",
   "execution_count": 188,
   "metadata": {},
   "outputs": [
    {
     "data": {
      "text/plain": [
       "{'n_neighbors': 12}"
      ]
     },
     "execution_count": 188,
     "metadata": {},
     "output_type": "execute_result"
    }
   ],
   "source": [
    "from sklearn.neighbors import KNeighborsClassifier\n",
    "knn=KNeighborsClassifier()\n",
    "pr={'n_neighbors':range(1,30)}\n",
    "gs=GridSearchCV(knn,pr,cv=5)\n",
    "gs.fit(x,y)\n",
    "gs.best_params_"
   ]
  },
  {
   "cell_type": "code",
   "execution_count": 189,
   "metadata": {},
   "outputs": [
    {
     "name": "stdout",
     "output_type": "stream",
     "text": [
      "max score at random_state of 82 is 0.9796279893711249\n"
     ]
    }
   ],
   "source": [
    "knn=KNeighborsClassifier(n_neighbors=12)\n",
    "sc=max_acc_score(knn,x,y)"
   ]
  },
  {
   "cell_type": "code",
   "execution_count": 190,
   "metadata": {},
   "outputs": [],
   "source": [
    "x_train,x_test,y_train,y_test=train_test_split(x,y,test_size=.20,random_state=82)\n",
    "knn.fit(x_train,y_train)\n",
    "pred=knn.predict(x_test)"
   ]
  },
  {
   "cell_type": "code",
   "execution_count": 191,
   "metadata": {},
   "outputs": [
    {
     "name": "stdout",
     "output_type": "stream",
     "text": [
      "[0.97962799 0.98671391 0.99202834 0.98582817 0.90514184]\n",
      "0.969868049928073\n",
      "0.03260161028598173\n"
     ]
    }
   ],
   "source": [
    "score=cross_val_score(knn,x,y,cv=5,scoring='accuracy')\n",
    "print(score)\n",
    "print(score.mean())\n",
    "print(score.std())"
   ]
  },
  {
   "cell_type": "code",
   "execution_count": 196,
   "metadata": {},
   "outputs": [
    {
     "data": {
      "text/plain": [
       "array([[0, 0, 0],\n",
       "       [0, 0, 0],\n",
       "       [0, 0, 0],\n",
       "       ...,\n",
       "       [0, 0, 0],\n",
       "       [0, 0, 0],\n",
       "       [0, 0, 0]], dtype=int64)"
      ]
     },
     "execution_count": 196,
     "metadata": {},
     "output_type": "execute_result"
    }
   ],
   "source": [
    "pred"
   ]
  },
  {
   "cell_type": "code",
   "execution_count": 192,
   "metadata": {},
   "outputs": [
    {
     "data": {
      "text/plain": [
       "0.5166666666666667"
      ]
     },
     "execution_count": 192,
     "metadata": {},
     "output_type": "execute_result"
    }
   ],
   "source": [
    "#auc score\n",
    "roc_score=roc_auc_score(y_test,pred)\n",
    "roc_score"
   ]
  },
  {
   "cell_type": "markdown",
   "metadata": {},
   "source": [
    "In these two models the DecisionTree model is performing well so we select he decisiontreeclassifier for this problem"
   ]
  },
  {
   "cell_type": "code",
   "execution_count": 195,
   "metadata": {},
   "outputs": [
    {
     "data": {
      "text/plain": [
       "['dt_model_covid_ward_admission.obj']"
      ]
     },
     "execution_count": 195,
     "metadata": {},
     "output_type": "execute_result"
    }
   ],
   "source": [
    "joblib.dump(dt,'dt_model_covid_ward_admission.obj')"
   ]
  },
  {
   "cell_type": "code",
   "execution_count": null,
   "metadata": {},
   "outputs": [],
   "source": []
  }
 ],
 "metadata": {
  "kernelspec": {
   "display_name": "Python 3",
   "language": "python",
   "name": "python3"
  },
  "language_info": {
   "codemirror_mode": {
    "name": "ipython",
    "version": 3
   },
   "file_extension": ".py",
   "mimetype": "text/x-python",
   "name": "python",
   "nbconvert_exporter": "python",
   "pygments_lexer": "ipython3",
   "version": "3.7.6"
  }
 },
 "nbformat": 4,
 "nbformat_minor": 4
}
